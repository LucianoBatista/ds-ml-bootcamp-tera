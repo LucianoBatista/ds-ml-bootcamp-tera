{
 "cells": [
  {
   "cell_type": "markdown",
   "metadata": {},
   "source": [
    "# URGENTE!!! AJUDEM A ENCONTRAR O NOEL!!!\n",
    "![](https://media.giphy.com/media/11EEXw1EIEoHaE/giphy.gif)"
   ]
  },
  {
   "cell_type": "markdown",
   "metadata": {},
   "source": [
    "<h1>Atenção a todos os cientistas de dados!</h1><br>\n",
    "O Noel, o dogginho mais fofinho da Tera, foi raptado! Nós temos poucas pistas e contamos com suas habilidades afiadas de Python para nos ajudar a encontrar o vil ser que foi responsável por abduzir tal criaturinha. Para realizar esta árdua tarefa, você deverá desenvolver sua capacidade de criar e iterar listas e dicionários, e em especial desenvolver funções que irão nos permitir chegar rapidamente ao culpado. Pegue sua água e seu lanchinho, alongue seus dedos e se prepare para por as mãos na massa!"
   ]
  },
  {
   "cell_type": "code",
   "execution_count": 1,
   "metadata": {},
   "outputs": [],
   "source": [
    "# Aqui temos um dicionário com as informações de todos os suspeitos levantados pela polícia do rapto de Noel\n",
    "# note que todos são moradores do mesmo prédio, apenas de andares diferentes\n",
    "\n",
    "suspeitos = {\n",
    "    'Nome' : ['André', 'Bianca', 'Leonardo', 'Kelly', 'Bernardo', 'Úrsula'],\n",
    "    'Idade' : [18, 30, 24, 20, 42, 37],\n",
    "    'Cor de Cabelo' : ['loiro', 'loiro', 'moreno', 'moreno', 'ruivo', 'moreno'],\n",
    "    'Andar' : [1, 4, 7, 12, 2, 6]\n",
    "}"
   ]
  },
  {
   "cell_type": "code",
   "execution_count": 2,
   "metadata": {},
   "outputs": [
    {
     "name": "stdout",
     "output_type": "stream",
     "text": [
      "Vi alguém moreno correndo para subir as escadas\n"
     ]
    }
   ],
   "source": [
    "# Aqui temos informações dadas pela primeira testemunha ocular, que mora no 3º andar\n",
    "\n",
    "print(\"Vi alguém moreno correndo para subir as escadas\")"
   ]
  },
  {
   "cell_type": "code",
   "execution_count": 3,
   "metadata": {},
   "outputs": [
    {
     "name": "stdout",
     "output_type": "stream",
     "text": [
      "Acredito que a pessoa tenha mais de 25 anos\n"
     ]
    }
   ],
   "source": [
    "# Aqui temos informações dadas pela segunda testemunha ocular, que não é residente do prédio\n",
    "\n",
    "print(\"Acredito que a pessoa tenha mais de 25 anos\")"
   ]
  },
  {
   "cell_type": "markdown",
   "metadata": {},
   "source": [
    "<h1>1. Sua primeira tarefa é criar uma função que retorne o input de nome dado na fórmula abaixo indicando se a pessoa é de fato é culpada pelo rapto do pobre Noel.</h1><br>\n",
    "Os retornos possíveis devem ser \"A pessoa não é culpada\" ou \"A pessoa é culpada\"."
   ]
  },
  {
   "cell_type": "code",
   "execution_count": 112,
   "metadata": {},
   "outputs": [
    {
     "name": "stdout",
     "output_type": "stream",
     "text": [
      "Digite o nome que deseja validar se é suspeito: André\n"
     ]
    }
   ],
   "source": [
    "# inpute aqui o nome de cada um dos suspeitos até encontrar o culpado!!!\n",
    "\n",
    "nome = str(input(\"Digite o nome que deseja validar se é suspeito: \"))"
   ]
  },
  {
   "cell_type": "code",
   "execution_count": 114,
   "metadata": {},
   "outputs": [],
   "source": [
    "# crie aqui a sua função\n"
   ]
  },
  {
   "cell_type": "code",
   "execution_count": null,
   "metadata": {},
   "outputs": [],
   "source": [
    "# coloque aqui o call da sua função"
   ]
  },
  {
   "cell_type": "code",
   "execution_count": 115,
   "metadata": {},
   "outputs": [
    {
     "name": "stdout",
     "output_type": "stream",
     "text": [
      "A pessoa não é culpada\n"
     ]
    }
   ],
   "source": [
    "Exemplo de output"
   ]
  },
  {
   "cell_type": "markdown",
   "metadata": {},
   "source": [
    "# Parabéns!!! Você conseguiu salvar o Noel!!!\n",
    "![](https://img1.picmix.com/output/pic/normal/4/4/7/9/3269744_d1e01.gif)"
   ]
  },
  {
   "cell_type": "markdown",
   "metadata": {},
   "source": [
    "<h1>Agora precisamos preparar os cuidados pós trauma dele...</h1><br>\n",
    "Você agora irá separar as comidas orgânicas gourmet feitas à mão por monges do mosteiro de São Bento para deixar preparado para que qualquer cuidador possa assumir o controle da situação. Você também irá preparar os exercícios de agility do Noel, para garantir que ele está em forma!<br>\n",
    "Primeiro vamos preparar a comidinha do Noel, já que ele é bem criterioso com o que come e está com muita fome."
   ]
  },
  {
   "cell_type": "markdown",
   "metadata": {},
   "source": [
    "<h1>2. Sua segunda tarefa é criar uma função que irá dividir 200 petiscos de cachorro em 7 dias da semana, levando em consideração que nos dias em que há treinamento de Agility (terça e quinta) o Noel deve receber mais petisquinhos (25% a mais que nos demais dias) e que no final retorne um relatório de estoque, indicando quantos petiscos estão alocados para cada dia e se a quantidade de petiscos é par ou ímpar (tanto o Noel quanto sua dona são meio cismados com números ímpares, então irão comer um de cada pilha ímpar para deixar tudo par)"
   ]
  },
  {
   "cell_type": "code",
   "execution_count": 99,
   "metadata": {},
   "outputs": [],
   "source": [
    "# definindo a quantidade de petiscos a ser distribuído\n",
    "\n"
   ]
  },
  {
   "cell_type": "code",
   "execution_count": 105,
   "metadata": {},
   "outputs": [],
   "source": [
    "# definindo fatores de cada dia da semana\n",
    "\n"
   ]
  },
  {
   "cell_type": "code",
   "execution_count": 110,
   "metadata": {},
   "outputs": [],
   "source": [
    "# função para definir a divisão dos petiscos e se cada dia tem quantidades ímpares ou pares\n",
    "\n"
   ]
  },
  {
   "cell_type": "code",
   "execution_count": null,
   "metadata": {},
   "outputs": [],
   "source": [
    "# use o call da sua função aqui\n",
    "\n"
   ]
  },
  {
   "cell_type": "code",
   "execution_count": 111,
   "metadata": {},
   "outputs": [
    {
     "name": "stdout",
     "output_type": "stream",
     "text": [
      "Na segunda feira tem 132 petiscos, uma quantidade par. Na terça feira tem 165 petiscos, uma quantidade ímpar. Na quarta feira tem 132 petiscos, uma quantidade par. Na quinta feira tem 165 petiscos, uma quantidade ímpar. Na sexta feira tem 131 petiscos, uma quantidade ímpar. Na sábado tem 131 petiscos, uma quantidade ímpar. Na domingo tem 131 petiscos, uma quantidade ímpar.\n"
     ]
    }
   ],
   "source": [
    "O output deve ser este"
   ]
  },
  {
   "cell_type": "markdown",
   "metadata": {},
   "source": [
    "<h1>3. Sua terceira tarefa é criar uma função que retornará o resultado do treinamento de agility do Noel. Isso irá depender de sorte e de alguns inputs realizados por você!"
   ]
  },
  {
   "cell_type": "markdown",
   "metadata": {},
   "source": [
    "A cada hora de treinamento, aumenta-se um ponto em cada habilidade, não podendo se extrapolar 4h de treinamento por dia e nem 3 modalidades."
   ]
  },
  {
   "cell_type": "code",
   "execution_count": 1,
   "metadata": {},
   "outputs": [],
   "source": [
    "# atual score de agility do Noel\n",
    "\n",
    "equipamentos = {\n",
    "    'gangorra' : 4,\n",
    "    'jogo_de_estacas' : 6,\n",
    "    'mesa' : 7,\n",
    "    'muro' : 2,\n",
    "    'passarela' : 1,\n",
    "    'pneu' : 2,\n",
    "    'rampa_em_a' : 2,\n",
    "    'salto_simples' : 5,\n",
    "    'salto_em_distancia' : 6,\n",
    "    'slalom' : 2,\n",
    "    'tunel' : 8,\n",
    "    'tunel_fechado' : 9\n",
    "}"
   ]
  },
  {
   "cell_type": "code",
   "execution_count": 2,
   "metadata": {},
   "outputs": [
    {
     "name": "stdout",
     "output_type": "stream",
     "text": [
      "Quantas horas de treinamento deseja realizar (1-4): 4\n"
     ]
    }
   ],
   "source": [
    "# input de até 4h de treinamento\n",
    "\n",
    "while True:\n",
    "    qnt_hr = input('Quantas horas de treinamento deseja realizar (1-4): ')\n",
    "\n",
    "    try:\n",
    "        # verifica se o input pode ser convertido em número inteiro\n",
    "        hora = int(qnt_hr)\n",
    "\n",
    "    except ValueError:\n",
    "        # se o input não foi um número inteiro, reinicia o loop\n",
    "        print ('Por gentileza, insira um número inteiro de 1 a 4')\n",
    "        continue\n",
    "\n",
    "    # se o número estiver no range correto, pare o loop\n",
    "    if 1 <= hora <= 4:\n",
    "        break\n",
    "\n",
    "    # se não estiver no range correto, repita o loop\n",
    "    print ('Por gentileza, insira um número de 1 a 4.')"
   ]
  },
  {
   "cell_type": "code",
   "execution_count": 3,
   "metadata": {},
   "outputs": [
    {
     "name": "stdout",
     "output_type": "stream",
     "text": [
      "Quais treinamentos deseja realizar (1-3, separar por vírgula): muro, tunel, gangorra\n"
     ]
    }
   ],
   "source": [
    "# input de até 3 formas de treinamento\n",
    "\n",
    "while True:\n",
    "    treinamentos = input('Quais treinamentos deseja realizar (1-3, separar por vírgula): ')\n",
    "\n",
    "    try:\n",
    "        # verifica se o input pode ser convertido em número inteiro\n",
    "        qnt_treinamentos = int(len(treinamentos.split(', ')))\n",
    "\n",
    "    except ValueError:\n",
    "        # se o input não foi um texto com 3 inputs, reinicia o loop\n",
    "        print ('Por gentileza, insira um texto com até 3 treinamentos.')\n",
    "        continue\n",
    "\n",
    "    # se tiver entre 1 a 3 treinamentos, encerra o loop\n",
    "    if 1 <= qnt_treinamentos <= 3:\n",
    "        break\n",
    "\n",
    "    # otherwise print an error message, and we will loop around again\n",
    "    print ('Por gentileza, insira um texto com até 3 treinamentos.')"
   ]
  },
  {
   "cell_type": "code",
   "execution_count": 20,
   "metadata": {},
   "outputs": [],
   "source": [
    "# defina aqui a sua função para o treinamento\n",
    "\n"
   ]
  },
  {
   "cell_type": "code",
   "execution_count": null,
   "metadata": {},
   "outputs": [],
   "source": [
    "# Faça o call da sua função aqui\n",
    "\n"
   ]
  },
  {
   "cell_type": "code",
   "execution_count": 18,
   "metadata": {},
   "outputs": [
    {
     "name": "stdout",
     "output_type": "stream",
     "text": [
      "Segue o cartão de Agility do Noel atualizado!\n"
     ]
    },
    {
     "data": {
      "text/plain": [
       "(None,\n",
       " {'gangorra': 10,\n",
       "  'jogo_de_estacas': 6,\n",
       "  'mesa': 7,\n",
       "  'muro': 8,\n",
       "  'passarela': 1,\n",
       "  'pneu': 2,\n",
       "  'rampa_em_a': 2,\n",
       "  'salto_simples': 5,\n",
       "  'salto_em_distancia': 6,\n",
       "  'slalom': 2,\n",
       "  'tunel': 14,\n",
       "  'tunel_fechado': 9})"
      ]
     },
     "execution_count": 18,
     "metadata": {},
     "output_type": "execute_result"
    }
   ],
   "source": [
    "O output deve ser assim"
   ]
  }
 ],
 "metadata": {
  "kernelspec": {
   "display_name": "Python 3",
   "language": "python",
   "name": "python3"
  },
  "language_info": {
   "codemirror_mode": {
    "name": "ipython",
    "version": 3
   },
   "file_extension": ".py",
   "mimetype": "text/x-python",
   "name": "python",
   "nbconvert_exporter": "python",
   "pygments_lexer": "ipython3",
   "version": "3.7.3"
  }
 },
 "nbformat": 4,
 "nbformat_minor": 4
}
