{
 "cells": [
  {
   "cell_type": "markdown",
   "metadata": {},
   "source": [
    "# Loops\n",
    "\n",
    "Os loops são uma das ferramentas mais poderosas em Python. Através deles podemos automatizar tarefas repetitivas\n",
    "<br> ampliar nosso poder lógico-matemático e criar rotinas e tarefas encadeadas de forma obediente.\n",
    "\n",
    "<p> Em outras palavras, programar loops é como dar ordens explícitas ao computador. "
   ]
  },
  {
   "cell_type": "markdown",
   "metadata": {},
   "source": [
    "### Reminder 1\n",
    "<b>Existem basicamente 3 tipos de loops:</b>"
   ]
  },
  {
   "cell_type": "markdown",
   "metadata": {},
   "source": [
    "<li> <b>Loop for:</b>"
   ]
  },
  {
   "cell_type": "code",
   "execution_count": null,
   "metadata": {},
   "outputs": [],
   "source": [
    "#esse loop é criado a partir de cada elemento de um objeto (nesse caso, uma lista). \n",
    "lista = [0, 1, 2, 3, 4, 5, 6, 7, 8, 9]\n",
    "for item in lista:\n",
    "    print(item+1)"
   ]
  },
  {
   "cell_type": "markdown",
   "metadata": {},
   "source": [
    "<li> <b>While loop:</b>"
   ]
  },
  {
   "cell_type": "code",
   "execution_count": null,
   "metadata": {},
   "outputs": [],
   "source": [
    "#esse loop é criado a partir de uma afirmação seja ela verdadeira True or False. Ela é verificada a cada interação.\n",
    "x = 10\n",
    "while x >= 0:\n",
    "    print(x)\n",
    "    x -= 1"
   ]
  },
  {
   "cell_type": "markdown",
   "metadata": {},
   "source": [
    "<li> <b>Range loops:</b>"
   ]
  },
  {
   "cell_type": "code",
   "execution_count": null,
   "metadata": {},
   "outputs": [],
   "source": [
    "#esse loop é criado a partir de um intervalo (ou range) de valorer, que vai determinar a sua duração\n",
    "listinha = []\n",
    "for item in range(10):\n",
    "    print(item + 1)\n",
    "    listinha.append(item + 1)\n",
    "print('lista construída no loop =', listinha)"
   ]
  },
  {
   "cell_type": "markdown",
   "metadata": {},
   "source": [
    "### Reminder 2\n",
    "Além dos tipos de loops, é importante revisarmos alguns <b>métodos</b> e <b>funções</b>:\n",
    "<li>str.upper() -> faz com que todas as letras fiquem maiúsculas\n",
    "<li>str.lower() -> faz com que todas as letras fiquem minúsculas   \n",
    "<li>str.count(\"caractere\") -> conta a ocorrência daqueles caracteres na string\n",
    "<li>str.split() -> separa strings em listas\n",
    "<li>lista.count(item) -> conta a ocorrência daquele item na lista lista.index(item) -> retorna o index correpondente ao item na lista\n",
    "<li>lista.append(item) -> adiciona o item à lista\n",
    "<li>lista.remove(item) -> remove o item da lista\n",
    "<li>lista.reverse() -> inverte a ordem dos itens na lista\n",
    "<li>max() -> retorna o valor máximo de uma lista\n",
    "<li>len() -> retorna a quantidade de itens em uma lista ou a quantidade de caracteres em uma string\n",
    "<li>round() -> arredonda números decimais\n",
    "<li>str() -> converte os dados em string\n",
    "<li>sum(lista) -> soma todos os números de uma lista\n",
    "   "
   ]
  },
  {
   "cell_type": "code",
   "execution_count": null,
   "metadata": {},
   "outputs": [],
   "source": [
    "lista_4 = []\n",
    "for item in range(0,100, 4):\n",
    "    print(item)\n",
    "    lista_4.append(item)\n",
    "print('lista números de 0 a 100, saltando de 4 em 4 =', lista_4)"
   ]
  },
  {
   "cell_type": "markdown",
   "metadata": {},
   "source": [
    "#### Exercício 1: Quantos elementos existem na lista_4?\n"
   ]
  },
  {
   "cell_type": "code",
   "execution_count": 33,
   "metadata": {},
   "outputs": [
    {
     "data": {
      "text/plain": [
       "25"
      ]
     },
     "execution_count": 33,
     "metadata": {},
     "output_type": "execute_result"
    }
   ],
   "source": [
    "#seu código que retorna a quantidade de elementos na lista_4\n"
   ]
  },
  {
   "cell_type": "markdown",
   "metadata": {},
   "source": [
    "#### Exercício 2: Dada a lista nomes, crie uma nova lista com todos os nomes em minúsculo"
   ]
  },
  {
   "cell_type": "code",
   "execution_count": 35,
   "metadata": {},
   "outputs": [],
   "source": [
    "lista_nomes = ['David Stern',\n",
    "'Don Larsen',\n",
    "'Doug Hart',\n",
    "'Norberto Barroca',\n",
    "'Qasem Soleimani',\n",
    "'Abu Mahdi al-Muhandis',\n",
    "'Nathaël Julan',\n",
    "'Antonio Ricardo Droher Rodrigues',\n",
    "'Júlio Castro Caldas',\n",
    "'Herbert Binkert',\n",
    "'Hans Tilkowski',\n",
    "'Ana Maria Primavesi',\n",
    "'Luiz Parreiras',\n",
    "'Luís Morais',\n",
    "'Tiago Brandão',\n",
    "'Bernt Andersson',\n",
    "'Khamis Al-Owairan',\n",
    "'Elizabeth Wurtzel',\n",
    "'Neil Peart',\n",
    "'Pilar de Espanha',\n",
    "'Buck Henry',\n",
    "'Peter Kirstein',\n",
    "'Guido Messina',\n",
    "'Wolfgang Dauner',\n",
    "'Qaboos bin Said Al Said',\n",
    "'António Gervásio',\n",
    "'Valdir de Moraes',\n",
    "'Fernanda Pires da Silva',\n",
    "'Tom Belsø',\n",
    "'Paulo Gonçalves',\n",
    "'Roger Scruton',\n",
    "'Isabel-Clara Simó',\n",
    "'Jean Delumeau',\n",
    "'Giampaolo Pansa',\n",
    "'José Camargo',\n",
    "'Rocky Johnson',\n",
    "'Bruno Nettl',\n",
    "'Christopher Tolkien',\n",
    "'Luiz Vieira',\n",
    "'Barry Tuckwell',\n",
    "'Efraín Sánchez',\n",
    "'Khagendra Thapa Magar',\n",
    "'Pietro Anastasi',\n",
    "'Marilene Dabus',\n",
    "'Cláudio Roditi',\n",
    "'Marcelo Dolabela',\n",
    "'Shin Kyuk-ho',\n",
    "'Jimmy Heath',\n",
    "'Antônio de Queiroz Galvão',\n",
    "'Terry Jones',\n",
    "'Sébastien Demorand',\n",
    "'Hédi Baccouche',\n",
    "'Theodor Wagner',\n",
    "'Meritxell Negre',\n",
    "'Alfred Körner',\n",
    "'José Lemos Ferreira',\n",
    "'Armando Uribe',\n",
    "'Frederick Ballantyne',\n",
    "'Clayton M. Christensen',\n",
    "'Sérgio Noronha',\n",
    "'Pete Stark',\n",
    "'José Theodoro Mendes',\n",
    "'Ibsen Pinheiro',\n",
    "'Rob Rensenbrink',\n",
    "'Tunai', 'Pedro',\n",
    "'Kobe Bryant',\n",
    "'Marcos César Formiga Ramos',\n",
    "'Louis Nirenberg',\n",
    "'Flamarion Nunes',\n",
    "'Ronald Levinsohn',\n",
    "'Allen Brown',\n",
    "'Carlos Rocha',\n",
    "'Antônio Martins Vasconcelos',\n",
    "'Blagoja Georgievski',\n",
    "'Manuel Resende',\n",
    "'Frank Press',\n",
    "'John Andretti',\n",
    "'Anne Cox Chambers',\n",
    "'Mary Higgins Clark',\n",
    "'César Zabala',\n",
    "'Rafael Ventura Melià',\n",
    "'Wen Zengxian']"
   ]
  },
  {
   "cell_type": "code",
   "execution_count": 38,
   "metadata": {},
   "outputs": [
    {
     "name": "stdout",
     "output_type": "stream",
     "text": [
      "['david stern', 'don larsen', 'doug hart', 'norberto barroca', 'qasem soleimani', 'abu mahdi al-muhandis', 'nathaël julan', 'antonio ricardo droher rodrigues', 'júlio castro caldas', 'herbert binkert', 'hans tilkowski', 'ana maria primavesi', 'luiz parreiras', 'luís morais', 'tiago brandão', 'bernt andersson', 'khamis al-owairan', 'elizabeth wurtzel', 'neil peart', 'pilar de espanha', 'buck henry', 'peter kirstein', 'guido messina', 'wolfgang dauner', 'qaboos bin said al said', 'antónio gervásio', 'valdir de moraes', 'fernanda pires da silva', 'tom belsø', 'paulo gonçalves', 'roger scruton', 'isabel-clara simó', 'jean delumeau', 'giampaolo pansa', 'josé camargo', 'rocky johnson', 'bruno nettl', 'christopher tolkien', 'luiz vieira', 'barry tuckwell', 'efraín sánchez', 'khagendra thapa magar', 'pietro anastasi', 'marilene dabus', 'cláudio roditi', 'marcelo dolabela', 'shin kyuk-ho', 'jimmy heath', 'antônio de queiroz galvão', 'terry jones', 'sébastien demorand', 'hédi baccouche', 'theodor wagner', 'meritxell negre', 'alfred körner', 'josé lemos ferreira', 'armando uribe', 'frederick ballantyne', 'clayton m. christensen', 'sérgio noronha', 'pete stark', 'josé theodoro mendes', 'ibsen pinheiro', 'rob rensenbrink', 'tunai', 'pedro', 'kobe bryant', 'marcos césar formiga ramos', 'louis nirenberg', 'flamarion nunes', 'ronald levinsohn', 'allen brown', 'carlos rocha', 'antônio martins vasconcelos', 'blagoja georgievski', 'manuel resende', 'frank press', 'john andretti', 'anne cox chambers', 'mary higgins clark', 'césar zabala', 'rafael ventura melià', 'wen zengxian']\n"
     ]
    }
   ],
   "source": [
    "#insira seu código aqui para transformar todos os nomes em minúsculo e imprimir a lista resultante\n"
   ]
  },
  {
   "cell_type": "code",
   "execution_count": null,
   "metadata": {},
   "outputs": [],
   "source": [
    "#verifique a nova lista com os nomes em letras minúsculas\n",
    "lista_minuscula"
   ]
  },
  {
   "cell_type": "markdown",
   "metadata": {},
   "source": [
    "### Reminder 3\n",
    "<b>Operadores Condicionais</b><p>\n",
    "if, elif, else"
   ]
  },
  {
   "cell_type": "code",
   "execution_count": 55,
   "metadata": {},
   "outputs": [],
   "source": [
    "# atribua um valor a x. Teste como os diferentes valores alteram os resultados\n",
    "x = 8"
   ]
  },
  {
   "cell_type": "code",
   "execution_count": 56,
   "metadata": {},
   "outputs": [
    {
     "name": "stdout",
     "output_type": "stream",
     "text": [
      "x é maior ou igual a 5\n",
      "x também é maior que 7\n"
     ]
    }
   ],
   "source": [
    "if x >= 5:\n",
    "    print(\"x é maior ou igual a 5\")\n",
    "    if x > 7:\n",
    "        print(\"x também é maior que 7\")\n",
    "elif x < 3:\n",
    "    print(\"x é menor que 3\")\n",
    "    if x <= 2:\n",
    "        print('x também é menor ou igual a 2')\n",
    "else:\n",
    "    print(\"x é igual a 4\")"
   ]
  },
  {
   "cell_type": "markdown",
   "metadata": {},
   "source": [
    "## Acabou a revisão!!!\n",
    "Combinando esses 3 poderosos conceitos (loops, métodos e funcões e operadores condicionais), \n",
    "<br>vamos criar micro projetos com os quais vocês possam entender e consolidar o poder dos loops,\n",
    "<br>além claro, de enxergar novas possibilidades para solucionar projetos do dia a dia."
   ]
  },
  {
   "cell_type": "markdown",
   "metadata": {},
   "source": [
    "## Desafio 1 >>> Name rebuilder\n",
    "Neste primeiro desafio, vamos aprender a processar e tratar textos.\n",
    "<br> Dada uma lista de nomes, como consiguimos criar um padrão?\n",
    "<br> Vamos estabelecer que na lista dos nomes tratados, todos os nomes terão apenas duas partes (primeiro e último nome)."
   ]
  },
  {
   "cell_type": "markdown",
   "metadata": {},
   "source": [
    "### [parte 1]: Text classifier:\n",
    "Nesta primeira parte, vamos classificar os nomes da lista de nomes.\n",
    "<br> Nomes com duas partes, estão no formato perfeito para o nosso projeto.\n",
    "<br> Nomes com mais de duas partes ou com apenas uma parte, vão precisar de tratamento.\n",
    "<p> Precisamos identificá-los!"
   ]
  },
  {
   "cell_type": "code",
   "execution_count": null,
   "metadata": {},
   "outputs": [],
   "source": [
    "#vamos usar o arquivo lista_nomes \n",
    "lista_nomes"
   ]
  },
  {
   "cell_type": "code",
   "execution_count": 19,
   "metadata": {},
   "outputs": [
    {
     "name": "stdout",
     "output_type": "stream",
     "text": [
      "temos  63 nomes perfeitos\n",
      "temos  18 nomes compostos com mais de 2 partes\n",
      "e temos  2 nomes únicos\n"
     ]
    }
   ],
   "source": [
    "#criamos três listas vazias que receberão os três tipos de nomes\n",
    "lista_nomes_perfeitos = []\n",
    "lista_nomes_problemas = []\n",
    "lista_nomes_unicos = []\n",
    "\n",
    "#vamos criar um loop for que vai iterar através da lista_nomes\n",
    "#os nomes dos iteradores são arbitrários em python, mas vamos usar um iterador intuitivo para nós: nome\n",
    "for ---- in =====_===== :\n",
    "    #precisamos dividir cada nome em uma nova lista com suas partes usando a função str.split()\n",
    "    nome_split = ___.____(----)\n",
    "    \n",
    "    #agora podemos verificar se os nomes estão no padrão \"Primeiro nome\" e \"Último nome\"\n",
    "    if len(???????) == 2:\n",
    "        #caso já esteja na formatação desejada, podemos adicioná-lo à lista adequada\n",
    "        lista_!!!!!!!! ._____(----)\n",
    "    \n",
    "    # se estão com mais de duas partes vamos adicionar à lista de nomes com problema\n",
    "    elif len(????????) > 2:\n",
    "        lista_XXXXXXXX ._____(----)\n",
    "    \n",
    "    #se possuem apenas uma parte vamos adicionar à lista de nomes únicos\n",
    "    else:\n",
    "        lista_11111111 ._____(----)\n",
    "\n",
    "#no final, vamos verificar a quantidade de elementos em cada lista. substitua pelo método correto\n",
    "print('temos ', ---(lista_nomes_perfeitos), 'nomes perfeitos')\n",
    "print('temos ', ---(lista_nomes_problemas), 'nomes compostos com mais de 2 partes')\n",
    "print('e temos ', ---(lista_nomes_unicos), 'nomes únicos')"
   ]
  },
  {
   "cell_type": "markdown",
   "metadata": {},
   "source": [
    "### [parte 2] Name formater:\n",
    "Nesta parte vamos adotar estratégias para transformar todos os nomes no nosso formato padrão.\n",
    "<br> Vamos descartar os nomes do meio de nomes compostos com mais de 2 termos.\n",
    "<br> Vamos imputar um nome genérico para nomes únicos."
   ]
  },
  {
   "cell_type": "code",
   "execution_count": 20,
   "metadata": {},
   "outputs": [
    {
     "name": "stdout",
     "output_type": "stream",
     "text": [
      "Inspecionando a lista de nomes perfeitos:  \n",
      " ['David Stern', 'Don Larsen', 'Doug Hart', 'Norberto Barroca', 'Qasem Soleimani', 'Nathaël Julan', 'Herbert Binkert', 'Hans Tilkowski', 'Luiz Parreiras', 'Luís Morais', 'Tiago Brandão', 'Bernt Andersson', 'Khamis Al-Owairan', 'Elizabeth Wurtzel', 'Neil Peart', 'Buck Henry', 'Peter Kirstein', 'Guido Messina', 'Wolfgang Dauner', 'António Gervásio', 'Tom Belsø', 'Paulo Gonçalves', 'Roger Scruton', 'Isabel-Clara Simó', 'Jean Delumeau', 'Giampaolo Pansa', 'José Camargo', 'Rocky Johnson', 'Bruno Nettl', 'Christopher Tolkien', 'Luiz Vieira', 'Barry Tuckwell', 'Efraín Sánchez', 'Pietro Anastasi', 'Marilene Dabus', 'Cláudio Roditi', 'Marcelo Dolabela', 'Shin Kyuk-ho', 'Jimmy Heath', 'Terry Jones', 'Sébastien Demorand', 'Hédi Baccouche', 'Theodor Wagner', 'Meritxell Negre', 'Alfred Körner', 'Armando Uribe', 'Frederick Ballantyne', 'Sérgio Noronha', 'Pete Stark', 'Ibsen Pinheiro', 'Rob Rensenbrink', 'Kobe Bryant', 'Louis Nirenberg', 'Flamarion Nunes', 'Ronald Levinsohn', 'Allen Brown', 'Carlos Rocha', 'Blagoja Georgievski', 'Manuel Resende', 'Frank Press', 'John Andretti', 'César Zabala', 'Wen Zengxian'] \n",
      "\n",
      "Inspecionando a lista de nomes compostos com mais de 2 partes:  \n",
      " ['Abu al-Muhandis', 'Antonio Rodrigues', 'Júlio Caldas', 'Ana Primavesi', 'Pilar Espanha', 'Qaboos Said', 'Valdir Moraes', 'Fernanda Silva', 'Khagendra Magar', 'Antônio Galvão', 'José Ferreira', 'Clayton Christensen', 'José Mendes', 'Marcos Ramos', 'Antônio Vasconcelos', 'Anne Chambers', 'Mary Clark', 'Rafael Melià'] \n",
      "\n",
      "Inspecionando a lista de nomes únicos:  \n",
      " ['Tunai _Silva', 'Pedro _Silva']\n"
     ]
    }
   ],
   "source": [
    "#mantive as partes que vcs já fizeram no exercício anterior e não precisam mudar, intactas\n",
    "lista_nomes_perfeitos = []\n",
    "lista_nomes_problemas = []\n",
    "lista_nomes_unicos = []\n",
    "for nome in lista_nomes:\n",
    "    nome_split = str.split(nome)\n",
    "    \n",
    "    if len(nome_split) == 2:\n",
    "        lista_nomes_perfeitos.append(nome)\n",
    "    \n",
    "    # se estão com mais de duas partes, elimina os termos do meio concatenando com (+) o primeiro termo, ' ', e o último.\n",
    "    elif len(nome_split) > 2:\n",
    "        #use a técnica de fatiar listas... lista_nomes[0] = 'David Stern' || lista_nomes[-1] = 'Wen Zengxian'\n",
    "        nome_rebuilt = ----_-----[?] + ' ' + ----_-----[?]\n",
    "        lista_nomes_problemas.append(nome_rebuilt)\n",
    "    \n",
    "    #se possue apenas uma parte, concatenamos o primeiro termo, ' ', e o termo '_Silva' para sinalizar que é um dado inputado\n",
    "    else:\n",
    "        nome_input = ----_-----[?] + ' ' + '_Silva'\n",
    "        lista_nomes_unicos.append(nome_input)\n",
    "\n",
    "#vamos inspecionar a nossa lista para ver se todos os nomes estão com o formato desejado        \n",
    "print('Inspecionando a lista de nomes perfeitos: ', '\\n', lista_nomes_perfeitos, '\\n')\n",
    "print('Inspecionando a lista de nomes compostos com mais de 2 partes: ', '\\n', lista_nomes_problemas, '\\n')\n",
    "print('Inspecionando a lista de nomes únicos: ', '\\n', lista_nomes_unicos)"
   ]
  },
  {
   "cell_type": "markdown",
   "metadata": {},
   "source": [
    "### [parte 3] Name rebuilder pipeline:\n",
    "Agora que sabemos que o programa está funcionando, precisamos que ele retorne todos os nomes para uma lista única."
   ]
  },
  {
   "cell_type": "code",
   "execution_count": 21,
   "metadata": {},
   "outputs": [
    {
     "name": "stdout",
     "output_type": "stream",
     "text": [
      "Inspecionando a lista final de nomes:  \n",
      " ['David Stern', 'Don Larsen', 'Doug Hart', 'Norberto Barroca', 'Qasem Soleimani', 'Abu al-Muhandis', 'Nathaël Julan', 'Antonio Rodrigues', 'Júlio Caldas', 'Herbert Binkert', 'Hans Tilkowski', 'Ana Primavesi', 'Luiz Parreiras', 'Luís Morais', 'Tiago Brandão', 'Bernt Andersson', 'Khamis Al-Owairan', 'Elizabeth Wurtzel', 'Neil Peart', 'Pilar Espanha', 'Buck Henry', 'Peter Kirstein', 'Guido Messina', 'Wolfgang Dauner', 'Qaboos Said', 'António Gervásio', 'Valdir Moraes', 'Fernanda Silva', 'Tom Belsø', 'Paulo Gonçalves', 'Roger Scruton', 'Isabel-Clara Simó', 'Jean Delumeau', 'Giampaolo Pansa', 'José Camargo', 'Rocky Johnson', 'Bruno Nettl', 'Christopher Tolkien', 'Luiz Vieira', 'Barry Tuckwell', 'Efraín Sánchez', 'Khagendra Magar', 'Pietro Anastasi', 'Marilene Dabus', 'Cláudio Roditi', 'Marcelo Dolabela', 'Shin Kyuk-ho', 'Jimmy Heath', 'Antônio Galvão', 'Terry Jones', 'Sébastien Demorand', 'Hédi Baccouche', 'Theodor Wagner', 'Meritxell Negre', 'Alfred Körner', 'José Ferreira', 'Armando Uribe', 'Frederick Ballantyne', 'Clayton Christensen', 'Sérgio Noronha', 'Pete Stark', 'José Mendes', 'Ibsen Pinheiro', 'Rob Rensenbrink', 'Tunai _Silva', 'Pedro _Silva', 'Kobe Bryant', 'Marcos Ramos', 'Louis Nirenberg', 'Flamarion Nunes', 'Ronald Levinsohn', 'Allen Brown', 'Carlos Rocha', 'Antônio Vasconcelos', 'Blagoja Georgievski', 'Manuel Resende', 'Frank Press', 'John Andretti', 'Anne Chambers', 'Mary Clark', 'César Zabala', 'Rafael Melià', 'Wen Zengxian']\n"
     ]
    }
   ],
   "source": [
    "# vamos eliminar as listas indesejadas. Afinal precisamos de uma lista única (name_pipeline), com os nomes tratados\n",
    "# mantive as estruturas e os comentários do que precisa ser feito. Agora é com vocês!!!\n",
    "name_pipeline = []\n",
    "for nome in lista_nomes:\n",
    "    #dividr nome em lista de termos\n",
    "    nome_split = ---.-----(!)\n",
    "    \n",
    "    #verificar se a quantidade de termos já está no formato ideal. caso positivo, adicionar o nome à lista final\n",
    "    if len(?) == X:\n",
    "        #adicionar o nome sem tratamento direto na lista final\n",
    "        ----_--------._____(!)\n",
    "    \n",
    "    #aplicar o tratamento adequado para mais de dois termos e adicionar o nome tratado à lista final\n",
    "    elif len(----_-----) > 2:\n",
    "        nome_rebuilt = ----_-----[?] + ' ' + ----_-----[?]\n",
    "        #adicionar o nome reconstruído à lista final\n",
    "        ----_--------._____(----_--------)\n",
    "    \n",
    "    #imputar o termo '_Silva' e adicionar a lista final\n",
    "    else:\n",
    "        nome_input = ----_-----[?] + ' ' + '_Silva'\n",
    "        #adicionar o nome com o inpu '_Silva' à lista final\n",
    "        ----_--------._____(----_-----)\n",
    "        \n",
    "#verificando a lista final\n",
    "print('Inspecionando a lista final de nomes: ', '\\n', name_pipeline, end='\\n')\n"
   ]
  },
  {
   "cell_type": "markdown",
   "metadata": {},
   "source": [
    "## Desafio 2 >>> Gerador de jogos da Mega Sena\n",
    "Neste segundo desafio vamos aprender a gerar números aleatórios e ter certeza de que eles não vão se repetir."
   ]
  },
  {
   "cell_type": "markdown",
   "metadata": {},
   "source": [
    "### [parte 1]: Gerador de 6 números (pseudo) aleatórios:\n",
    "vamos criar um gerador de numeros aleatorios"
   ]
  },
  {
   "cell_type": "code",
   "execution_count": 23,
   "metadata": {},
   "outputs": [],
   "source": [
    "#Vamos precisar importar um módulo gerador de números inteiros aleatórios\n",
    "from random import randint"
   ]
  },
  {
   "cell_type": "code",
   "execution_count": 24,
   "metadata": {},
   "outputs": [
    {
     "name": "stdout",
     "output_type": "stream",
     "text": [
      "[12, 22, 28, 45, 52, 54]\n"
     ]
    }
   ],
   "source": [
    "# crie uma lista vazia chamada (seis_numeros). Ela vai receber os números sorteados.\n",
    "lista vazia = []\n",
    "\n",
    "# crie um contador chamado (contador) que inicia em 0. Vamos usar esse contador para quebar o loop infinito.\n",
    "c = 0\n",
    "\n",
    "#criando loops infinitos\n",
    "while True:\n",
    "    \n",
    "    #uma variável num recebe o nosso gerador de números entre 1 e 60\n",
    "    --- = randint(?, ??)\n",
    "    \n",
    "    #selecionando apenas números não repetidos\n",
    "    if --- not in seis_numeros:\n",
    "        ----_-------.append(---)\n",
    "        contador += 1\n",
    "    # quebre o loop infinito quando o contador atingir 6\n",
    "    if ------- == 6:\n",
    "        break\n",
    "    \n",
    "#colocando os números em ordem crescente\n",
    "----_-------.sort()\n",
    "#imprima os seis números\n",
    "____(??????????)"
   ]
  },
  {
   "cell_type": "markdown",
   "metadata": {},
   "source": [
    "### [parte 2]: Gerador de jogos de 6 números (pseudo) aleatórios:\n",
    "Agora precisamos criar um loop para englobar o loop inicial"
   ]
  },
  {
   "cell_type": "code",
   "execution_count": 26,
   "metadata": {},
   "outputs": [],
   "source": [
    "#vamos criar um limite para a quantidade de jogos gerados\n",
    "quant = 7"
   ]
  },
  {
   "cell_type": "code",
   "execution_count": 30,
   "metadata": {},
   "outputs": [
    {
     "name": "stdout",
     "output_type": "stream",
     "text": [
      "jogo index: 0  lista com o jogo:  [15, 18, 48, 51, 53, 54]\n",
      "jogo index: 1  lista com o jogo:  [5, 8, 19, 20, 44, 48]\n",
      "jogo index: 2  lista com o jogo:  [7, 12, 19, 25, 38, 60]\n",
      "jogo index: 3  lista com o jogo:  [7, 8, 9, 21, 28, 33]\n",
      "jogo index: 4  lista com o jogo:  [7, 10, 16, 30, 41, 42]\n",
      "jogo index: 5  lista com o jogo:  [5, 6, 15, 26, 52, 59]\n",
      "jogo index: 6  lista com o jogo:  [9, 19, 27, 33, 38, 56]\n"
     ]
    }
   ],
   "source": [
    "#vamos manter a estrutura do exercício anterior\n",
    "seis_numeros = []\n",
    "\n",
    "#precisamos criar uma lista vazia chamada (jogos) para receber as listas de 6 números\n",
    "j = []\n",
    "\n",
    "#para criar um novo contador que vai interromper o novo loop infinito, tornando a afirmação falsa\n",
    "tot = 1\n",
    "\n",
    "#esse é o loop que vai repetir tudo o que fizemos. Vamos usar o iterador condicional while\n",
    "----- tot <= quant:\n",
    "    \n",
    "#------------------\n",
    "# para isso acontecer, vamos ter que indentar todo esse loop com o contador (linha tracejada)\n",
    "# selecione tudo entre as linhas tracejadas e aperte (Tab)\n",
    "contador = 0 \n",
    "while True:\n",
    "    num = randint(1, 60)\n",
    "    if num not in seis_numeros:\n",
    "        seis_numeros.append(num)\n",
    "        contador += 1\n",
    "    if contador == 6:\n",
    "        #quebrando o loop infinito\n",
    "        break    \n",
    "seis_numeros.sort()\n",
    "#-------------------\n",
    "    \n",
    "    ###Agora podemos continuar...\n",
    "    #vamos copiar todos os elementos da lista com 6 números para dentro da lista jogos\n",
    "    -----._____(----_-------[:])\n",
    "    \n",
    "    #uma vez que copiamos os números podemos limpar a lista para receber 6 novos números\n",
    "    ----_-------.clear()\n",
    "    \n",
    "    #por fim podemos contabilizar um novo jogo e começar tudo de novo\n",
    "    tot +=1\n",
    "    \n",
    "#existe um último tipo de loop... ele é muito comum para dicionários\n",
    "#mas também pode ser usado em listas iterando sobre seus indices e seus elementos.\n",
    "for i, j in enumerate(jogos):\n",
    "    print('jogo index:', i, ' lista com o jogo: ', j)"
   ]
  },
  {
   "cell_type": "markdown",
   "metadata": {},
   "source": [
    "### Conclusão!\n",
    "Espero que vocês tenham percebido o poder dos loops e como eles podem realizar tarefas e transformar os dados em poucas linhas de código."
   ]
  },
  {
   "cell_type": "code",
   "execution_count": null,
   "metadata": {},
   "outputs": [],
   "source": []
  },
  {
   "cell_type": "code",
   "execution_count": null,
   "metadata": {},
   "outputs": [],
   "source": []
  },
  {
   "cell_type": "code",
   "execution_count": null,
   "metadata": {},
   "outputs": [],
   "source": []
  },
  {
   "cell_type": "code",
   "execution_count": null,
   "metadata": {},
   "outputs": [],
   "source": []
  },
  {
   "cell_type": "code",
   "execution_count": null,
   "metadata": {},
   "outputs": [],
   "source": []
  },
  {
   "cell_type": "markdown",
   "metadata": {},
   "source": [
    "## Demo Bonus >>> Song word frequency\n",
    "vamos criar um programa que vai transformar um texto em um dicionário com a frequencia em que as palavras aparecem na letra de uma música."
   ]
  },
  {
   "cell_type": "markdown",
   "metadata": {},
   "source": [
    "### [parte 1]: Escolhendo um texto:\n",
    "Vamos escolher a letra da música o dia em que a terra parou do Raul Seixas para a nossa análise. "
   ]
  },
  {
   "cell_type": "code",
   "execution_count": 209,
   "metadata": {},
   "outputs": [],
   "source": [
    "#ao passar o texto dentro de três aspas ''' (sample text)  ''' o python converte em uma grande string.\n",
    "letra = '''Essa noite eu tive um sonho de sonhador Maluco que sou, eu sonhei Com o dia em que a \n",
    "Terra parou com o dia em que a Terra parou Foi assim No dia em que todas as pessoas Do planeta inteiro\n",
    "Resolveram que ninguém ia sair de casa Como que se fosse combinado em todo\n",
    "o planeta Naquele dia, ninguém saiu de casa, ninguém ninguém\n",
    "O empregado não saiu pro seu trabalho\n",
    "Pois sabia que o patrão também não tava lá\n",
    "Dona de casa não saiu pra comprar pão\n",
    "Pois sabia que o padeiro também não tava lá\n",
    "E o guarda não saiu para prender\n",
    "Pois sabia que o ladrão, também não tava lá\n",
    "e o ladrão não saiu para roubar\n",
    "Pois sabia que não ia ter onde gastar\n",
    "\n",
    "No dia em que a Terra parou \n",
    "No dia em que a Terra parou \n",
    "No dia em que a Terra parou \n",
    "No dia em que a Terra parou\n",
    "\n",
    "E nas Igrejas nem um sino a badalar\n",
    "Pois sabiam que os fiéis também não tavam lá\n",
    "E os fiéis não saíram pra rezar\n",
    "Pois sabiam que o padre também não tava lá\n",
    "E o aluno não saiu para estudar\n",
    "Pois sabia o professor também não tava lá\n",
    "E o professor não saiu pra lecionar\n",
    "Pois sabia que não tinha mais nada pra ensinar\n",
    "\n",
    "No dia em que a Terra parou \n",
    "No dia em que a Terra parou \n",
    "No dia em que a Terra parou \n",
    "No dia em que a Terra parou\n",
    "\n",
    "O comandante não saiu para o quartel\n",
    "Pois sabia que o soldado também não tava lá\n",
    "E o soldado não saiu pra ir pra guerra\n",
    "Pois sabia que o inimigo também não tava lá\n",
    "E o paciente não saiu pra se tratar\n",
    "Pois sabia que o doutor também não tava lá\n",
    "E o doutor não saiu pra medicar\n",
    "Pois sabia que não tinha mais doença pra curar\n",
    "\n",
    "No dia em que a Terra parou \n",
    "No dia em que a Terra parou \n",
    "No dia em que a Terra parou \n",
    "No dia em que a Terra parou\n",
    "\n",
    "Essa noite eu tive um sonho de sonhador\n",
    "Maluco que sou, acordei\n",
    "\n",
    "No dia em que a Terra parou \n",
    "No dia em que a Terra parou \n",
    "No dia em que a Terra parou \n",
    "No dia em que a Terra parou \n",
    "No dia em que a Terra parou \n",
    "No dia em que a Terra parou \n",
    "No dia em que a Terra parou \n",
    "No dia em que a Terra parou''' "
   ]
  },
  {
   "cell_type": "markdown",
   "metadata": {},
   "source": [
    "### [parte 2]: Convertendo o texto em uma lista de palavras:\n",
    "Com um simples comando transformamos um texto em uma lista de palavras"
   ]
  },
  {
   "cell_type": "code",
   "execution_count": 222,
   "metadata": {},
   "outputs": [],
   "source": [
    "raul = str.split(letra)"
   ]
  },
  {
   "cell_type": "markdown",
   "metadata": {},
   "source": [
    "### [parte 3]: Transformando a lista em um dicionário de frequencia:\n",
    "Através de um loop transformamos uma lista em um dicionário que conta quantas vezes cada palavra aparece na letra."
   ]
  },
  {
   "cell_type": "code",
   "execution_count": 223,
   "metadata": {
    "scrolled": true
   },
   "outputs": [
    {
     "data": {
      "text/plain": [
       "{'essa': 2,\n",
       " 'noite': 2,\n",
       " 'eu': 3,\n",
       " 'tive': 2,\n",
       " 'um': 3,\n",
       " 'sonho': 2,\n",
       " 'de': 5,\n",
       " 'sonhador': 2,\n",
       " 'maluco': 2,\n",
       " 'que': 38,\n",
       " 'sou': 2,\n",
       " 'sonhei': 1,\n",
       " 'com': 2,\n",
       " 'o': 21,\n",
       " 'dia': 24,\n",
       " 'em': 24,\n",
       " 'a': 23,\n",
       " 'terra': 22,\n",
       " 'parou': 22,\n",
       " 'foi': 1,\n",
       " 'assim': 1,\n",
       " 'no': 21,\n",
       " 'todas': 1,\n",
       " 'as': 1,\n",
       " 'pessoas': 1,\n",
       " 'do': 1,\n",
       " 'planeta': 2,\n",
       " 'inteiro': 1,\n",
       " 'resolveram': 1,\n",
       " 'ninguém': 4,\n",
       " 'ia': 2,\n",
       " 'sair': 1,\n",
       " 'casa': 3,\n",
       " 'como': 1,\n",
       " 'se': 2,\n",
       " 'fosse': 1,\n",
       " 'combinado': 1,\n",
       " 'todo': 1,\n",
       " 'naquele': 1,\n",
       " 'saiu': 11,\n",
       " 'empregado': 1,\n",
       " 'não': 23,\n",
       " 'pro': 1,\n",
       " 'seu': 1,\n",
       " 'trabalho': 1,\n",
       " 'pois': 12,\n",
       " 'sabia': 10,\n",
       " 'patrão': 1,\n",
       " 'também': 9,\n",
       " 'tava': 8,\n",
       " 'lá': 9,\n",
       " 'dona': 1,\n",
       " 'pra': 9,\n",
       " 'comprar': 1,\n",
       " 'pão': 1,\n",
       " 'padeiro': 1,\n",
       " 'e': 9,\n",
       " 'guarda': 1,\n",
       " 'para': 4,\n",
       " 'prender': 1,\n",
       " 'ladrão': 2,\n",
       " 'roubar': 1,\n",
       " 'ter': 1,\n",
       " 'onde': 1,\n",
       " 'gastar': 1,\n",
       " 'nas': 1,\n",
       " 'igrejas': 1,\n",
       " 'nem': 1,\n",
       " 'sino': 1,\n",
       " 'badalar': 1,\n",
       " 'sabiam': 2,\n",
       " 'os': 2,\n",
       " 'fiéis': 2,\n",
       " 'tavam': 1,\n",
       " 'saíram': 1,\n",
       " 'rezar': 1,\n",
       " 'padre': 1,\n",
       " 'aluno': 1,\n",
       " 'estudar': 1,\n",
       " 'professor': 2,\n",
       " 'lecionar': 1,\n",
       " 'tinha': 2,\n",
       " 'mais': 2,\n",
       " 'nada': 1,\n",
       " 'ensinar': 1,\n",
       " 'comandante': 1,\n",
       " 'quartel': 1,\n",
       " 'soldado': 2,\n",
       " 'ir': 1,\n",
       " 'guerra': 1,\n",
       " 'inimigo': 1,\n",
       " 'paciente': 1,\n",
       " 'tratar': 1,\n",
       " 'doutor': 2,\n",
       " 'medicar': 1,\n",
       " 'doença': 1,\n",
       " 'curar': 1,\n",
       " 'acordei': 1}"
      ]
     },
     "execution_count": 223,
     "metadata": {},
     "output_type": "execute_result"
    }
   ],
   "source": [
    "#criamos um dicionário vazio\n",
    "di = {}\n",
    "\n",
    "for termo in raul:\n",
    "    #convertemos todos os termos em minúsculo (o dicionário é case sensitive) e excluímos as vírgulas \n",
    "    palavra = str.lower(termo).replace(',', '')\n",
    "    \n",
    "    #lembra desse jeito de selecionar?\n",
    "    if palavra not in di:\n",
    "        di[palavra] = 1\n",
    "    else:\n",
    "        di[palavra] += 1\n",
    "        \n",
    "di"
   ]
  },
  {
   "cell_type": "markdown",
   "metadata": {},
   "source": [
    "### [parte 4]: Dicionário :\n",
    "Neste ponto poderíamos transformar o dicionário em um dataframe e continuar a análise. \n",
    "<br> Mas como não é o intuito desse workshop, vamos apenas mostrar a contagem das palavras.\n",
    "<br> Não se preocupe em não entender os passos a seguir.\n"
   ]
  },
  {
   "cell_type": "code",
   "execution_count": 224,
   "metadata": {},
   "outputs": [
    {
     "name": "stdout",
     "output_type": "stream",
     "text": [
      "que  ::  38\n",
      "dia  ::  24\n",
      "em  ::  24\n",
      "a  ::  23\n",
      "não  ::  23\n",
      "terra  ::  22\n",
      "parou  ::  22\n",
      "o  ::  21\n",
      "no  ::  21\n",
      "pois  ::  12\n",
      "saiu  ::  11\n",
      "sabia  ::  10\n",
      "também  ::  9\n",
      "lá  ::  9\n",
      "pra  ::  9\n",
      "e  ::  9\n",
      "tava  ::  8\n",
      "de  ::  5\n",
      "ninguém  ::  4\n",
      "para  ::  4\n",
      "eu  ::  3\n",
      "um  ::  3\n",
      "casa  ::  3\n",
      "essa  ::  2\n",
      "noite  ::  2\n",
      "tive  ::  2\n",
      "sonho  ::  2\n",
      "sonhador  ::  2\n",
      "maluco  ::  2\n",
      "sou  ::  2\n",
      "com  ::  2\n",
      "planeta  ::  2\n",
      "ia  ::  2\n",
      "se  ::  2\n",
      "ladrão  ::  2\n",
      "sabiam  ::  2\n",
      "os  ::  2\n",
      "fiéis  ::  2\n",
      "professor  ::  2\n",
      "tinha  ::  2\n",
      "mais  ::  2\n",
      "soldado  ::  2\n",
      "doutor  ::  2\n",
      "sonhei  ::  1\n",
      "foi  ::  1\n",
      "assim  ::  1\n",
      "todas  ::  1\n",
      "as  ::  1\n",
      "pessoas  ::  1\n",
      "do  ::  1\n",
      "inteiro  ::  1\n",
      "resolveram  ::  1\n",
      "sair  ::  1\n",
      "como  ::  1\n",
      "fosse  ::  1\n",
      "combinado  ::  1\n",
      "todo  ::  1\n",
      "naquele  ::  1\n",
      "empregado  ::  1\n",
      "pro  ::  1\n",
      "seu  ::  1\n",
      "trabalho  ::  1\n",
      "patrão  ::  1\n",
      "dona  ::  1\n",
      "comprar  ::  1\n",
      "pão  ::  1\n",
      "padeiro  ::  1\n",
      "guarda  ::  1\n",
      "prender  ::  1\n",
      "roubar  ::  1\n",
      "ter  ::  1\n",
      "onde  ::  1\n",
      "gastar  ::  1\n",
      "nas  ::  1\n",
      "igrejas  ::  1\n",
      "nem  ::  1\n",
      "sino  ::  1\n",
      "badalar  ::  1\n",
      "tavam  ::  1\n",
      "saíram  ::  1\n",
      "rezar  ::  1\n",
      "padre  ::  1\n",
      "aluno  ::  1\n",
      "estudar  ::  1\n",
      "lecionar  ::  1\n",
      "nada  ::  1\n",
      "ensinar  ::  1\n",
      "comandante  ::  1\n",
      "quartel  ::  1\n",
      "ir  ::  1\n",
      "guerra  ::  1\n",
      "inimigo  ::  1\n",
      "paciente  ::  1\n",
      "tratar  ::  1\n",
      "medicar  ::  1\n",
      "doença  ::  1\n",
      "curar  ::  1\n",
      "acordei  ::  1\n"
     ]
    }
   ],
   "source": [
    "listofTuples = sorted(di.items() , reverse=True, key=lambda x: x[1])\n",
    " \n",
    "# Iterate over the sorted sequence\n",
    "for elem in listofTuples :\n",
    "    print(elem[0] , \" :: \" , elem[1] )    "
   ]
  },
  {
   "cell_type": "code",
   "execution_count": null,
   "metadata": {},
   "outputs": [],
   "source": []
  }
 ],
 "metadata": {
  "kernelspec": {
   "display_name": "Python 3",
   "language": "python",
   "name": "python3"
  },
  "language_info": {
   "codemirror_mode": {
    "name": "ipython",
    "version": 3
   },
   "file_extension": ".py",
   "mimetype": "text/x-python",
   "name": "python",
   "nbconvert_exporter": "python",
   "pygments_lexer": "ipython3",
   "version": "3.7.3"
  }
 },
 "nbformat": 4,
 "nbformat_minor": 4
}
