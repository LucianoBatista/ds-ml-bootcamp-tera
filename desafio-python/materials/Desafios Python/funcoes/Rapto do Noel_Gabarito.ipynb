{
 "cells": [
  {
   "cell_type": "markdown",
   "metadata": {},
   "source": [
    "# URGENTE!!! AJUDEM A ENCONTRAR O NOEL!!!\n",
    "![](https://media.giphy.com/media/11EEXw1EIEoHaE/giphy.gif)"
   ]
  },
  {
   "cell_type": "markdown",
   "metadata": {},
   "source": [
    "<h1>Atenção a todos os cientistas de dados!</h1><br>\n",
    "O Noel, o dogginho mais fofinho da Tera, foi raptado! Nós temos poucas pistas e contamos com suas habilidades afiadas de Python para nos ajudar a encontrar o vil ser que foi responsável por abduzir tal criaturinha. Para realizar esta árdua tarefa, você deverá desenvolver sua capacidade de criar e iterar listas e dicionários, e em especial desenvolver funções que irão nos permitir chegar rapidamente ao culpado. Pegue sua água e seu lanchinho, alongue seus dedos e se prepare para por as mãos na massa!"
   ]
  },
  {
   "cell_type": "code",
   "execution_count": 1,
   "metadata": {},
   "outputs": [],
   "source": [
    "# Aqui temos um dicionário com as informações de todos os suspeitos levantados pela polícia do rapto de Noel\n",
    "# note que todos são moradores do mesmo prédio, apenas de andares diferentes\n",
    "\n",
    "suspeitos = {\n",
    "    'Nome' : ['André', 'Bianca', 'Leonardo', 'Kelly', 'Bernardo', 'Úrsula'],\n",
    "    'Idade' : [18, 30, 24, 20, 42, 37],\n",
    "    'Cor de Cabelo' : ['loiro', 'loiro', 'moreno', 'moreno', 'ruivo', 'moreno'],\n",
    "    'Andar' : [1, 4, 7, 12, 2, 6]\n",
    "}"
   ]
  },
  {
   "cell_type": "code",
   "execution_count": 2,
   "metadata": {},
   "outputs": [
    {
     "name": "stdout",
     "output_type": "stream",
     "text": [
      "Vi alguém moreno correndo para subir as escadas\n"
     ]
    }
   ],
   "source": [
    "# Aqui temos informações dadas pela primeira testemunha ocular, que mora no 3º andar\n",
    "\n",
    "print(\"Vi alguém moreno correndo para subir as escadas\")"
   ]
  },
  {
   "cell_type": "code",
   "execution_count": 3,
   "metadata": {},
   "outputs": [
    {
     "name": "stdout",
     "output_type": "stream",
     "text": [
      "Acredito que a pessoa tenha mais de 25 anos\n"
     ]
    }
   ],
   "source": [
    "# Aqui temos informações dadas pela segunda testemunha ocular, que não é residente do prédio\n",
    "\n",
    "print(\"Acredito que a pessoa tenha mais de 25 anos\")"
   ]
  },
  {
   "cell_type": "markdown",
   "metadata": {},
   "source": [
    "<h1>1. Sua primeira tarefa é criar uma função que retorne o input de nome dado na fórmula abaixo indicando se a pessoa é de fato é culpada pelo rapto do pobre Noel.</h1><br>\n",
    "Os retornos possíveis devem ser \"A pessoa não é culpada\" ou \"A pessoa é culpada\"."
   ]
  },
  {
   "cell_type": "code",
   "execution_count": 112,
   "metadata": {},
   "outputs": [
    {
     "name": "stdout",
     "output_type": "stream",
     "text": [
      "Digite o nome que deseja validar se é suspeito: André\n"
     ]
    }
   ],
   "source": [
    "# inpute aqui o nome de cada um dos suspeitos até encontrar o culpado!!!\n",
    "\n",
    "nome = str(input(\"Digite o nome que deseja validar se é suspeito: \"))"
   ]
  },
  {
   "cell_type": "code",
   "execution_count": 114,
   "metadata": {},
   "outputs": [],
   "source": [
    "# crie aqui a sua função\n",
    "\n",
    "def valida_suspeito(nome):\n",
    "    index = suspeitos['Nome'].index(nome)\n",
    "    andar = suspeitos['Andar'][index]\n",
    "    cabelo = suspeitos['Cor de Cabelo'][index]\n",
    "    idade = suspeitos['Idade'][index]\n",
    "    if (andar > 3) and (cabelo == \"moreno\") and (idade > 25):\n",
    "        return(print(\"A pessoa é culpada\"))\n",
    "    else:\n",
    "        return(print(\"A pessoa não é culpada\"))"
   ]
  },
  {
   "cell_type": "code",
   "execution_count": 115,
   "metadata": {},
   "outputs": [
    {
     "name": "stdout",
     "output_type": "stream",
     "text": [
      "A pessoa não é culpada\n"
     ]
    }
   ],
   "source": [
    "valida_suspeito(nome)"
   ]
  },
  {
   "cell_type": "markdown",
   "metadata": {},
   "source": [
    "# Parabéns!!! Você conseguiu salvar o Noel!!!\n",
    "![](https://img1.picmix.com/output/pic/normal/4/4/7/9/3269744_d1e01.gif)"
   ]
  },
  {
   "cell_type": "markdown",
   "metadata": {},
   "source": [
    "<h1>Agora precisamos preparar os cuidados pós trauma dele...</h1><br>\n",
    "Você agora irá separar as comidas orgânicas gourmet feitas à mão por monges do mosteiro de São Bento para deixar preparado para que qualquer cuidador possa assumir o controle da situação. Você também irá preparar os exercícios de agility do Noel, para garantir que ele está em forma!<br>\n",
    "Primeiro vamos preparar a comidinha do Noel, já que ele é bem criterioso com o que come e está com muita fome."
   ]
  },
  {
   "cell_type": "markdown",
   "metadata": {},
   "source": [
    "<h1>2. Sua segunda tarefa é criar uma função que irá dividir 200 petiscos de cachorro em 7 dias da semana, levando em consideração que nos dias em que há treinamento de Agility (terça e quinta) o Noel deve receber mais petisquinhos (25% a mais que nos demais dias) e que no final retorne um relatório de estoque, indicando quantos petiscos estão alocados para cada dia e se a quantidade de petiscos é par ou ímpar (tanto o Noel quanto sua dona são meio cismados com números ímpares, então irão comer um de cada pilha ímpar para deixar tudo par)"
   ]
  },
  {
   "cell_type": "code",
   "execution_count": 1,
   "metadata": {},
   "outputs": [],
   "source": [
    "# definindo a quantidade de petiscos a ser distribuído\n",
    "\n",
    "x = 200"
   ]
  },
  {
   "cell_type": "code",
   "execution_count": 2,
   "metadata": {},
   "outputs": [],
   "source": [
    "# definindo fatores de cada dia da semana\n",
    "\n",
    "fator_segunda = 1\n",
    "fator_terca = 1.25\n",
    "fator_quarta = 1\n",
    "fator_quinta = 1.25\n",
    "fator_sexta = 1\n",
    "fator_sabado = 1\n",
    "fator_domingo = 1"
   ]
  },
  {
   "cell_type": "code",
   "execution_count": 12,
   "metadata": {},
   "outputs": [],
   "source": [
    "# função para definir a divisão dos petiscos e se cada dia tem quantidades ímpares ou pares\n",
    "\n",
    "def racao(x):\n",
    "    \n",
    "    # declaração das variáveis numéricas vazias\n",
    "    segunda = 0\n",
    "    terca = 0\n",
    "    quarta = 0\n",
    "    quinta = 0\n",
    "    sexta = 0\n",
    "    sabado = 0\n",
    "    domingo = 0\n",
    "    \n",
    "    # divisão dos petiscos entre os dias da semana\n",
    "    while x > 1:\n",
    "        x = x - fator_segunda\n",
    "        segunda = segunda + fator_segunda\n",
    "        if x > 0:\n",
    "            x = x - fator_terca\n",
    "            terca = terca + fator_terca\n",
    "            if x > 0:\n",
    "                x = x - fator_quarta\n",
    "                quarta = quarta + fator_quarta\n",
    "                if x > 0:\n",
    "                    x = x - fator_quinta\n",
    "                    quinta = quinta + fator_quinta\n",
    "                    if x > 0:\n",
    "                        x = x - fator_sexta\n",
    "                        sexta = sexta + fator_sexta\n",
    "                        if x > 0:\n",
    "                            x = x - fator_sabado\n",
    "                            sabado = sabado + fator_sabado\n",
    "                            if x > 0:\n",
    "                                x = x - fator_domingo\n",
    "                                domingo = domingo + fator_domingo\n",
    "                            else:\n",
    "                                break\n",
    "                        else:\n",
    "                            break\n",
    "                    else:\n",
    "                        break\n",
    "                else:\n",
    "                    break\n",
    "            else:\n",
    "                break\n",
    "        else:\n",
    "            break\n",
    "    \n",
    "    # validação se é par ou ímpar\n",
    "    if segunda % 2 == 0:\n",
    "        validacao_seg = \"par\"\n",
    "    else:\n",
    "        validacao_seg = \"ímpar\"\n",
    "    if terca % 2 == 0:\n",
    "        validacao_ter = \"par\"\n",
    "    else:\n",
    "        validacao_ter = \"ímpar\"\n",
    "    if quarta % 2 == 0:\n",
    "        validacao_qua = \"par\"\n",
    "    else:\n",
    "        validacao_qua = \"ímpar\"\n",
    "    if quinta % 2 == 0:\n",
    "        validacao_qui = \"par\"\n",
    "    else:\n",
    "        validacao_qui = \"ímpar\"\n",
    "    if sexta % 2 == 0:\n",
    "        validacao_sex = \"par\"\n",
    "    else:\n",
    "        validacao_sex = \"ímpar\"\n",
    "    if sabado % 2 == 0:\n",
    "        validacao_sab = \"par\"\n",
    "    else:\n",
    "        validacao_sab = \"ímpar\"\n",
    "    if domingo % 2 == 0:\n",
    "        validacao_dom = \"par\"\n",
    "    else:\n",
    "        validacao_dom = \"ímpar\"\n",
    "    return(segunda+terca+quarta+quinta+sexta+sabado+domingo)\n",
    "    # return do resultado total\n",
    "    return(print(\"Na segunda feira tem {} petiscos, uma quantidade {}. Na terça feira tem {} petiscos, uma quantidade {}. Na quarta feira tem {} petiscos, uma quantidade {}. Na quinta feira tem {} petiscos, uma quantidade {}. Na sexta feira tem {} petiscos, uma quantidade {}. Na sábado tem {} petiscos, uma quantidade {}. Na domingo tem {} petiscos, uma quantidade {}.\".format(int(segunda), validacao_seg, int(terca), validacao_ter, int(quarta), validacao_qua, int(quinta), validacao_qui, int(sexta), validacao_sex, int(sabado), validacao_sab, int(domingo), validacao_dom)))\n",
    "        "
   ]
  },
  {
   "cell_type": "code",
   "execution_count": 13,
   "metadata": {},
   "outputs": [
    {
     "data": {
      "text/plain": [
       "200.5"
      ]
     },
     "execution_count": 13,
     "metadata": {},
     "output_type": "execute_result"
    }
   ],
   "source": [
    "racao(x)"
   ]
  },
  {
   "cell_type": "markdown",
   "metadata": {},
   "source": [
    "<h1>3. Sua terceira tarefa é criar uma função que retornará o resultado do treinamento de agility do Noel. Isso irá depender de sorte e de alguns inputs realizados por você!"
   ]
  },
  {
   "cell_type": "markdown",
   "metadata": {},
   "source": [
    "A cada hora de treinamento, aumenta-se um ponto em cada habilidade, não podendo se extrapolar 4h de treinamento por dia e nem 3 modalidades."
   ]
  },
  {
   "cell_type": "code",
   "execution_count": 1,
   "metadata": {},
   "outputs": [],
   "source": [
    "# atual score de agility do Noel\n",
    "\n",
    "equipamentos = {\n",
    "    'gangorra' : 4,\n",
    "    'jogo_de_estacas' : 6,\n",
    "    'mesa' : 7,\n",
    "    'muro' : 2,\n",
    "    'passarela' : 1,\n",
    "    'pneu' : 2,\n",
    "    'rampa_em_a' : 2,\n",
    "    'salto_simples' : 5,\n",
    "    'salto_em_distancia' : 6,\n",
    "    'slalom' : 2,\n",
    "    'tunel' : 8,\n",
    "    'tunel_fechado' : 9\n",
    "}"
   ]
  },
  {
   "cell_type": "code",
   "execution_count": 2,
   "metadata": {},
   "outputs": [
    {
     "name": "stdout",
     "output_type": "stream",
     "text": [
      "Quantas horas de treinamento deseja realizar (1-4): 4\n"
     ]
    }
   ],
   "source": [
    "# input de até 4h de treinamento\n",
    "\n",
    "while True:\n",
    "    qnt_hr = input('Quantas horas de treinamento deseja realizar (1-4): ')\n",
    "\n",
    "    try:\n",
    "        # verifica se o input pode ser convertido em número inteiro\n",
    "        hora = int(qnt_hr)\n",
    "\n",
    "    except ValueError:\n",
    "        # se o input não foi um número inteiro, reinicia o loop\n",
    "        print ('Por gentileza, insira um número inteiro de 1 a 4')\n",
    "        continue\n",
    "\n",
    "    # se o número estiver no range correto, pare o loop\n",
    "    if 1 <= hora <= 4:\n",
    "        break\n",
    "\n",
    "    # se não estiver no range correto, repita o loop\n",
    "    print ('Por gentileza, insira um número de 1 a 4.')"
   ]
  },
  {
   "cell_type": "code",
   "execution_count": 3,
   "metadata": {},
   "outputs": [
    {
     "name": "stdout",
     "output_type": "stream",
     "text": [
      "Quais treinamentos deseja realizar (1-3, separar por vírgula): muro, tunel, gangorra\n"
     ]
    }
   ],
   "source": [
    "# input de até 3 formas de treinamento\n",
    "\n",
    "while True:\n",
    "    treinamentos = input('Quais treinamentos deseja realizar (1-3, separar por vírgula): ')\n",
    "\n",
    "    try:\n",
    "        # verifica se o input pode ser convertido em número inteiro\n",
    "        qnt_treinamentos = int(len(treinamentos.split(', ')))\n",
    "\n",
    "    except ValueError:\n",
    "        # se o input não foi um texto com 3 inputs, reinicia o loop\n",
    "        print ('Por gentileza, insira um texto com até 3 treinamentos.')\n",
    "        continue\n",
    "\n",
    "    # se tiver entre 1 a 3 treinamentos, encerra o loop\n",
    "    if 1 <= qnt_treinamentos <= 3:\n",
    "        break\n",
    "\n",
    "    # otherwise print an error message, and we will loop around again\n",
    "    print ('Por gentileza, insira um texto com até 3 treinamentos.')"
   ]
  },
  {
   "cell_type": "code",
   "execution_count": 12,
   "metadata": {},
   "outputs": [],
   "source": [
    "# defina aqui a sua função para o treinamento\n",
    "\n",
    "def treinamento(hora, treinamentos):\n",
    "    aumento = hora / int(len(treinamentos.split(', ')))\n",
    "    lista = treinamentos.split(', ')\n",
    "    for item in lista:\n",
    "        equipamentos[item] = int(equipamentos[item] + aumento)\n",
    "    return(print(\"Segue o cartão de Agility do Noel atualizado!\"equipamentos)"
   ]
  },
  {
   "cell_type": "code",
   "execution_count": 13,
   "metadata": {},
   "outputs": [
    {
     "data": {
      "text/plain": [
       "{'gangorra': 8,\n",
       " 'jogo_de_estacas': 6,\n",
       " 'mesa': 7,\n",
       " 'muro': 6,\n",
       " 'passarela': 1,\n",
       " 'pneu': 2,\n",
       " 'rampa_em_a': 2,\n",
       " 'salto_simples': 5,\n",
       " 'salto_em_distancia': 6,\n",
       " 'slalom': 2,\n",
       " 'tunel': 12,\n",
       " 'tunel_fechado': 9}"
      ]
     },
     "execution_count": 13,
     "metadata": {},
     "output_type": "execute_result"
    }
   ],
   "source": [
    "treinamento(hora, treinamentos)"
   ]
  }
 ],
 "metadata": {
  "kernelspec": {
   "display_name": "Python 3",
   "language": "python",
   "name": "python3"
  },
  "language_info": {
   "codemirror_mode": {
    "name": "ipython",
    "version": 3
   },
   "file_extension": ".py",
   "mimetype": "text/x-python",
   "name": "python",
   "nbconvert_exporter": "python",
   "pygments_lexer": "ipython3",
   "version": "3.7.6"
  }
 },
 "nbformat": 4,
 "nbformat_minor": 4
}
