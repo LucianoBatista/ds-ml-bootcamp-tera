{
 "cells": [
  {
   "cell_type": "markdown",
   "metadata": {
    "slideshow": {
     "slide_type": "slide"
    }
   },
   "source": [
    "# <center> Transformações no Dataset para encontrar vinhos de qualidade\n",
    "<center> <img src = \"https://static01.nyt.com/images/2020/01/30/dining/30pour/30pour-superJumbo.jpg\" width=1000>\n",
    "\n"
   ]
  },
  {
   "cell_type": "markdown",
   "metadata": {
    "slideshow": {
     "slide_type": "slide"
    }
   },
   "source": [
    "O objetivo deste problema é prever quais vinhos foram aprovados pelos enólogos basendo-se apenas em suas propriedades químicas! Este problema foi adaptado de um famoso dataset no [UCI](https://archive.ics.uci.edu/ml/datasets/wine).\n",
    "As bases de dados já estão separadas em treino e teste nos arquivos `transf_wine_treino.csv` e `transf_wine_teste.csv`, com as seguintes features:\n",
    "- `type`: Tipo do vinho (Branco ou Tinto)\n",
    "- `fixed acidity`: Acidez proveniente de ácidos que não evaporam rapidamente\n",
    "- `volatile acidity`: Acidez proveniente de ácidos que evaporam rapidamente\n",
    "- `citric acid`: Ácido cítrico presente no vinho, dá sensação de fescor\n",
    "- `residual_sugar`: Açúcar da uva residual após fermentação\n",
    "- `chlorides`: Quantidade de sais presentes no vinho\n",
    "- `free sulfur dioxide`: Formas livres de SO2 presentes no vinho\n",
    "- `total sulfur dioxide`: Formas livres e moleculares de SO2 presentes no vinho\n",
    "- `pH`: pH (acidez) do vinho\n",
    "- `sulphates`: Quantidade de sulfatos no vinho\n",
    "- `alcohol`: Quantidade de álcool presente no vinho\n",
    "- `aprovado`: Indicativo de aprovação ou não do vinho pelos enólogos. `1` indica aprovação e `0` indica reprovação. **É nossa variável de interesse!**"
   ]
  },
  {
   "cell_type": "markdown",
   "metadata": {
    "slideshow": {
     "slide_type": "slide"
    }
   },
   "source": [
    "# <center> Para começar, vamos com calma!\n",
    "\n",
    "Este é o primeiro notebook de Python que iremos trabalhar, então é muito importante a participação de vocês será muito importante para ajustarmos o ritmo da aula!\n",
    "\n",
    "<center> <img src=\"https://64.media.tumblr.com/b12eac143b464ec8b2a52531b72ffe2b/31f6d7ea8b68dba8-33/s400x600/0f07bb5739c5ebeee9abf5fa1016a6a03c8cdfd4.gifv\" width=800>"
   ]
  },
  {
   "cell_type": "markdown",
   "metadata": {
    "slideshow": {
     "slide_type": "slide"
    }
   },
   "source": [
    "## <center> Mas o que podemos usar, de fato?\n",
    "\n",
    "Não teremos acesso a nenhum algoritmo de modelagem para resolver nosso problema! Mas o objetivo deste notebook é justamente mostrar o poder que uma `análise exploratória de dados` possui no momento de resolvermos nossos problemas! Vamos aprender (e usar) muitas técnicas de visualização e disposição de dados para isso, então vamos juntos! </center>\n",
    "\n",
    "<center> <img src=\"https://mentalexaltation.files.wordpress.com/2017/01/aragorn-lets-do-this.gif\" width=1200>\n"
   ]
  },
  {
   "cell_type": "code",
   "execution_count": 1,
   "metadata": {
    "slideshow": {
     "slide_type": "slide"
    }
   },
   "outputs": [],
   "source": [
    "# Carregando alguns módulos essenciais para trabalharmos os dados\n",
    "\n",
    "import warnings\n",
    "warnings.filterwarnings('ignore')\n",
    "\n",
    "import pandas as pd\n",
    "import numpy as np\n",
    "import matplotlib.pyplot as plt\n",
    "import seaborn as sns\n",
    "\n",
    "# Algumas opções do Pandas boas para vermos muitas linhas e colunas de uma vez\n",
    "pd.options.display.max_rows = 999\n",
    "pd.options.display.max_columns = 999\n",
    "\n",
    "# Carregando os dados\n",
    "dados_treino = pd.read_csv('../1. Dados/transf_wine_treino.csv',index_col=0).drop('index',axis=1)\n",
    "dados_teste = pd.read_csv('../1. Dados/transf_wine_teste.csv',index_col=0).drop('index',axis=1)"
   ]
  },
  {
   "cell_type": "code",
   "execution_count": 2,
   "metadata": {
    "slideshow": {
     "slide_type": "fragment"
    }
   },
   "outputs": [
    {
     "data": {
      "text/html": [
       "<div>\n",
       "<style scoped>\n",
       "    .dataframe tbody tr th:only-of-type {\n",
       "        vertical-align: middle;\n",
       "    }\n",
       "\n",
       "    .dataframe tbody tr th {\n",
       "        vertical-align: top;\n",
       "    }\n",
       "\n",
       "    .dataframe thead th {\n",
       "        text-align: right;\n",
       "    }\n",
       "</style>\n",
       "<table border=\"1\" class=\"dataframe\">\n",
       "  <thead>\n",
       "    <tr style=\"text-align: right;\">\n",
       "      <th></th>\n",
       "      <th>type</th>\n",
       "      <th>fixed acidity</th>\n",
       "      <th>volatile acidity</th>\n",
       "      <th>citric acid</th>\n",
       "      <th>residual sugar</th>\n",
       "      <th>chlorides</th>\n",
       "      <th>free sulfur dioxide</th>\n",
       "      <th>total sulfur dioxide</th>\n",
       "      <th>density</th>\n",
       "      <th>pH</th>\n",
       "      <th>sulphates</th>\n",
       "      <th>alcohol</th>\n",
       "      <th>aprovado</th>\n",
       "    </tr>\n",
       "  </thead>\n",
       "  <tbody>\n",
       "    <tr>\n",
       "      <th>0</th>\n",
       "      <td>white</td>\n",
       "      <td>6.7</td>\n",
       "      <td>0.41</td>\n",
       "      <td>0.27</td>\n",
       "      <td>2.6</td>\n",
       "      <td>0.033</td>\n",
       "      <td>25.0</td>\n",
       "      <td>85.0</td>\n",
       "      <td>0.99086</td>\n",
       "      <td>3.05</td>\n",
       "      <td>0.34</td>\n",
       "      <td>11.7</td>\n",
       "      <td>1</td>\n",
       "    </tr>\n",
       "    <tr>\n",
       "      <th>1</th>\n",
       "      <td>white</td>\n",
       "      <td>8.6</td>\n",
       "      <td>0.23</td>\n",
       "      <td>0.46</td>\n",
       "      <td>1.0</td>\n",
       "      <td>0.054</td>\n",
       "      <td>9.0</td>\n",
       "      <td>72.0</td>\n",
       "      <td>0.99410</td>\n",
       "      <td>2.95</td>\n",
       "      <td>0.49</td>\n",
       "      <td>9.1</td>\n",
       "      <td>1</td>\n",
       "    </tr>\n",
       "    <tr>\n",
       "      <th>2</th>\n",
       "      <td>white</td>\n",
       "      <td>6.6</td>\n",
       "      <td>0.32</td>\n",
       "      <td>0.26</td>\n",
       "      <td>4.6</td>\n",
       "      <td>0.031</td>\n",
       "      <td>26.0</td>\n",
       "      <td>120.0</td>\n",
       "      <td>0.99198</td>\n",
       "      <td>3.40</td>\n",
       "      <td>0.73</td>\n",
       "      <td>12.5</td>\n",
       "      <td>1</td>\n",
       "    </tr>\n",
       "    <tr>\n",
       "      <th>3</th>\n",
       "      <td>red</td>\n",
       "      <td>8.2</td>\n",
       "      <td>0.33</td>\n",
       "      <td>0.32</td>\n",
       "      <td>2.8</td>\n",
       "      <td>0.067</td>\n",
       "      <td>4.0</td>\n",
       "      <td>12.0</td>\n",
       "      <td>0.99473</td>\n",
       "      <td>3.30</td>\n",
       "      <td>0.76</td>\n",
       "      <td>12.8</td>\n",
       "      <td>1</td>\n",
       "    </tr>\n",
       "    <tr>\n",
       "      <th>4</th>\n",
       "      <td>white</td>\n",
       "      <td>6.9</td>\n",
       "      <td>0.28</td>\n",
       "      <td>0.24</td>\n",
       "      <td>2.1</td>\n",
       "      <td>0.034</td>\n",
       "      <td>49.0</td>\n",
       "      <td>121.0</td>\n",
       "      <td>0.98882</td>\n",
       "      <td>2.98</td>\n",
       "      <td>0.43</td>\n",
       "      <td>13.2</td>\n",
       "      <td>1</td>\n",
       "    </tr>\n",
       "  </tbody>\n",
       "</table>\n",
       "</div>"
      ],
      "text/plain": [
       "    type  fixed acidity  volatile acidity  citric acid  residual sugar  \\\n",
       "0  white            6.7              0.41         0.27             2.6   \n",
       "1  white            8.6              0.23         0.46             1.0   \n",
       "2  white            6.6              0.32         0.26             4.6   \n",
       "3    red            8.2              0.33         0.32             2.8   \n",
       "4  white            6.9              0.28         0.24             2.1   \n",
       "\n",
       "   chlorides  free sulfur dioxide  total sulfur dioxide  density    pH  \\\n",
       "0      0.033                 25.0                  85.0  0.99086  3.05   \n",
       "1      0.054                  9.0                  72.0  0.99410  2.95   \n",
       "2      0.031                 26.0                 120.0  0.99198  3.40   \n",
       "3      0.067                  4.0                  12.0  0.99473  3.30   \n",
       "4      0.034                 49.0                 121.0  0.98882  2.98   \n",
       "\n",
       "   sulphates  alcohol  aprovado  \n",
       "0       0.34     11.7         1  \n",
       "1       0.49      9.1         1  \n",
       "2       0.73     12.5         1  \n",
       "3       0.76     12.8         1  \n",
       "4       0.43     13.2         1  "
      ]
     },
     "execution_count": 2,
     "metadata": {},
     "output_type": "execute_result"
    }
   ],
   "source": [
    "# Primeiras linhas da base de treino\n",
    "dados_treino.head()"
   ]
  },
  {
   "cell_type": "markdown",
   "metadata": {
    "slideshow": {
     "slide_type": "slide"
    }
   },
   "source": [
    "### E o que queremos acertar?\n",
    "\n",
    "Basicamente, queremos descobrir usando `apenas variáveis da própria base` como selecionar vinhos com a marcação `1` (Aprovado)"
   ]
  },
  {
   "cell_type": "code",
   "execution_count": 3,
   "metadata": {
    "scrolled": true,
    "slideshow": {
     "slide_type": "-"
    }
   },
   "outputs": [
    {
     "data": {
      "text/html": [
       "<div>\n",
       "<style scoped>\n",
       "    .dataframe tbody tr th:only-of-type {\n",
       "        vertical-align: middle;\n",
       "    }\n",
       "\n",
       "    .dataframe tbody tr th {\n",
       "        vertical-align: top;\n",
       "    }\n",
       "\n",
       "    .dataframe thead th {\n",
       "        text-align: right;\n",
       "    }\n",
       "</style>\n",
       "<table border=\"1\" class=\"dataframe\">\n",
       "  <thead>\n",
       "    <tr style=\"text-align: right;\">\n",
       "      <th></th>\n",
       "      <th>type</th>\n",
       "      <th>fixed acidity</th>\n",
       "      <th>volatile acidity</th>\n",
       "      <th>citric acid</th>\n",
       "      <th>residual sugar</th>\n",
       "      <th>chlorides</th>\n",
       "      <th>free sulfur dioxide</th>\n",
       "      <th>total sulfur dioxide</th>\n",
       "      <th>density</th>\n",
       "      <th>pH</th>\n",
       "      <th>sulphates</th>\n",
       "      <th>alcohol</th>\n",
       "      <th>aprovado</th>\n",
       "    </tr>\n",
       "  </thead>\n",
       "  <tbody>\n",
       "    <tr>\n",
       "      <th>0</th>\n",
       "      <td>white</td>\n",
       "      <td>6.7</td>\n",
       "      <td>0.41</td>\n",
       "      <td>0.27</td>\n",
       "      <td>2.6</td>\n",
       "      <td>0.033</td>\n",
       "      <td>25.0</td>\n",
       "      <td>85.0</td>\n",
       "      <td>0.99086</td>\n",
       "      <td>3.05</td>\n",
       "      <td>0.34</td>\n",
       "      <td>11.7</td>\n",
       "      <td>1</td>\n",
       "    </tr>\n",
       "    <tr>\n",
       "      <th>1</th>\n",
       "      <td>white</td>\n",
       "      <td>8.6</td>\n",
       "      <td>0.23</td>\n",
       "      <td>0.46</td>\n",
       "      <td>1.0</td>\n",
       "      <td>0.054</td>\n",
       "      <td>9.0</td>\n",
       "      <td>72.0</td>\n",
       "      <td>0.99410</td>\n",
       "      <td>2.95</td>\n",
       "      <td>0.49</td>\n",
       "      <td>9.1</td>\n",
       "      <td>1</td>\n",
       "    </tr>\n",
       "    <tr>\n",
       "      <th>2</th>\n",
       "      <td>white</td>\n",
       "      <td>6.6</td>\n",
       "      <td>0.32</td>\n",
       "      <td>0.26</td>\n",
       "      <td>4.6</td>\n",
       "      <td>0.031</td>\n",
       "      <td>26.0</td>\n",
       "      <td>120.0</td>\n",
       "      <td>0.99198</td>\n",
       "      <td>3.40</td>\n",
       "      <td>0.73</td>\n",
       "      <td>12.5</td>\n",
       "      <td>1</td>\n",
       "    </tr>\n",
       "    <tr>\n",
       "      <th>3</th>\n",
       "      <td>red</td>\n",
       "      <td>8.2</td>\n",
       "      <td>0.33</td>\n",
       "      <td>0.32</td>\n",
       "      <td>2.8</td>\n",
       "      <td>0.067</td>\n",
       "      <td>4.0</td>\n",
       "      <td>12.0</td>\n",
       "      <td>0.99473</td>\n",
       "      <td>3.30</td>\n",
       "      <td>0.76</td>\n",
       "      <td>12.8</td>\n",
       "      <td>1</td>\n",
       "    </tr>\n",
       "    <tr>\n",
       "      <th>4</th>\n",
       "      <td>white</td>\n",
       "      <td>6.9</td>\n",
       "      <td>0.28</td>\n",
       "      <td>0.24</td>\n",
       "      <td>2.1</td>\n",
       "      <td>0.034</td>\n",
       "      <td>49.0</td>\n",
       "      <td>121.0</td>\n",
       "      <td>0.98882</td>\n",
       "      <td>2.98</td>\n",
       "      <td>0.43</td>\n",
       "      <td>13.2</td>\n",
       "      <td>1</td>\n",
       "    </tr>\n",
       "  </tbody>\n",
       "</table>\n",
       "</div>"
      ],
      "text/plain": [
       "    type  fixed acidity  volatile acidity  citric acid  residual sugar  \\\n",
       "0  white            6.7              0.41         0.27             2.6   \n",
       "1  white            8.6              0.23         0.46             1.0   \n",
       "2  white            6.6              0.32         0.26             4.6   \n",
       "3    red            8.2              0.33         0.32             2.8   \n",
       "4  white            6.9              0.28         0.24             2.1   \n",
       "\n",
       "   chlorides  free sulfur dioxide  total sulfur dioxide  density    pH  \\\n",
       "0      0.033                 25.0                  85.0  0.99086  3.05   \n",
       "1      0.054                  9.0                  72.0  0.99410  2.95   \n",
       "2      0.031                 26.0                 120.0  0.99198  3.40   \n",
       "3      0.067                  4.0                  12.0  0.99473  3.30   \n",
       "4      0.034                 49.0                 121.0  0.98882  2.98   \n",
       "\n",
       "   sulphates  alcohol  aprovado  \n",
       "0       0.34     11.7         1  \n",
       "1       0.49      9.1         1  \n",
       "2       0.73     12.5         1  \n",
       "3       0.76     12.8         1  \n",
       "4       0.43     13.2         1  "
      ]
     },
     "execution_count": 3,
     "metadata": {},
     "output_type": "execute_result"
    }
   ],
   "source": [
    "# Selecionando manualmente os aprovados\n",
    "vinhos_aprovados = dados_treino[dados_treino.aprovado==1]\n",
    "# Visualizando os dados\n",
    "vinhos_aprovados.head()"
   ]
  },
  {
   "cell_type": "markdown",
   "metadata": {
    "slideshow": {
     "slide_type": "fragment"
    }
   },
   "source": [
    "O problema é que na maior parte dos casos não teremos essa variável de antemão, portanto precisamos descobrir como essa marcação se relaciona com `outras variáveis` da base."
   ]
  },
  {
   "cell_type": "markdown",
   "metadata": {
    "slideshow": {
     "slide_type": "slide"
    }
   },
   "source": [
    "### 2. Entendimento dos Dados e EDA\n",
    "\n",
    "Para ter uma noção geral da base e dos tipos de dados, o método `.info()` do Pandas é muito útil:"
   ]
  },
  {
   "cell_type": "code",
   "execution_count": 4,
   "metadata": {
    "slideshow": {
     "slide_type": "fragment"
    }
   },
   "outputs": [
    {
     "name": "stdout",
     "output_type": "stream",
     "text": [
      "<class 'pandas.core.frame.DataFrame'>\n",
      "Int64Index: 3820 entries, 0 to 3819\n",
      "Data columns (total 13 columns):\n",
      " #   Column                Non-Null Count  Dtype  \n",
      "---  ------                --------------  -----  \n",
      " 0   type                  3820 non-null   object \n",
      " 1   fixed acidity         3812 non-null   float64\n",
      " 2   volatile acidity      3815 non-null   float64\n",
      " 3   citric acid           3817 non-null   float64\n",
      " 4   residual sugar        3819 non-null   float64\n",
      " 5   chlorides             3818 non-null   float64\n",
      " 6   free sulfur dioxide   3820 non-null   float64\n",
      " 7   total sulfur dioxide  3820 non-null   float64\n",
      " 8   density               3820 non-null   float64\n",
      " 9   pH                    3813 non-null   float64\n",
      " 10  sulphates             3816 non-null   float64\n",
      " 11  alcohol               3820 non-null   float64\n",
      " 12  aprovado              3820 non-null   int64  \n",
      "dtypes: float64(11), int64(1), object(1)\n",
      "memory usage: 417.8+ KB\n"
     ]
    }
   ],
   "source": [
    "dados_treino.info()"
   ]
  },
  {
   "cell_type": "markdown",
   "metadata": {
    "slideshow": {
     "slide_type": "-"
    }
   },
   "source": [
    "O que já podemos descobrir deste tipo de visão?"
   ]
  },
  {
   "cell_type": "markdown",
   "metadata": {
    "slideshow": {
     "slide_type": "slide"
    }
   },
   "source": [
    "Como temos muitas variáveis numéricas e contínuas, podemos descobrir as principais estatísticas da base usando outro método, o `.describe()`:"
   ]
  },
  {
   "cell_type": "code",
   "execution_count": 5,
   "metadata": {
    "slideshow": {
     "slide_type": "-"
    }
   },
   "outputs": [
    {
     "data": {
      "text/html": [
       "<div>\n",
       "<style scoped>\n",
       "    .dataframe tbody tr th:only-of-type {\n",
       "        vertical-align: middle;\n",
       "    }\n",
       "\n",
       "    .dataframe tbody tr th {\n",
       "        vertical-align: top;\n",
       "    }\n",
       "\n",
       "    .dataframe thead th {\n",
       "        text-align: right;\n",
       "    }\n",
       "</style>\n",
       "<table border=\"1\" class=\"dataframe\">\n",
       "  <thead>\n",
       "    <tr style=\"text-align: right;\">\n",
       "      <th></th>\n",
       "      <th>fixed acidity</th>\n",
       "      <th>volatile acidity</th>\n",
       "      <th>citric acid</th>\n",
       "      <th>residual sugar</th>\n",
       "      <th>chlorides</th>\n",
       "      <th>free sulfur dioxide</th>\n",
       "      <th>total sulfur dioxide</th>\n",
       "      <th>density</th>\n",
       "      <th>pH</th>\n",
       "      <th>sulphates</th>\n",
       "      <th>alcohol</th>\n",
       "      <th>aprovado</th>\n",
       "    </tr>\n",
       "  </thead>\n",
       "  <tbody>\n",
       "    <tr>\n",
       "      <th>count</th>\n",
       "      <td>3812.000000</td>\n",
       "      <td>3815.000000</td>\n",
       "      <td>3817.000000</td>\n",
       "      <td>3819.000000</td>\n",
       "      <td>3818.000000</td>\n",
       "      <td>3820.000000</td>\n",
       "      <td>3820.000000</td>\n",
       "      <td>3820.000000</td>\n",
       "      <td>3813.000000</td>\n",
       "      <td>3816.000000</td>\n",
       "      <td>3820.000000</td>\n",
       "      <td>3820.000000</td>\n",
       "    </tr>\n",
       "    <tr>\n",
       "      <th>mean</th>\n",
       "      <td>7.234824</td>\n",
       "      <td>0.353751</td>\n",
       "      <td>0.315517</td>\n",
       "      <td>5.422427</td>\n",
       "      <td>0.057588</td>\n",
       "      <td>30.224738</td>\n",
       "      <td>115.938482</td>\n",
       "      <td>0.994884</td>\n",
       "      <td>3.215156</td>\n",
       "      <td>0.528305</td>\n",
       "      <td>10.366881</td>\n",
       "      <td>0.495026</td>\n",
       "    </tr>\n",
       "    <tr>\n",
       "      <th>std</th>\n",
       "      <td>1.278295</td>\n",
       "      <td>0.170932</td>\n",
       "      <td>0.148611</td>\n",
       "      <td>4.839934</td>\n",
       "      <td>0.035642</td>\n",
       "      <td>18.459657</td>\n",
       "      <td>57.503221</td>\n",
       "      <td>0.002990</td>\n",
       "      <td>0.161158</td>\n",
       "      <td>0.148777</td>\n",
       "      <td>1.166274</td>\n",
       "      <td>0.500041</td>\n",
       "    </tr>\n",
       "    <tr>\n",
       "      <th>min</th>\n",
       "      <td>3.800000</td>\n",
       "      <td>0.080000</td>\n",
       "      <td>0.000000</td>\n",
       "      <td>0.600000</td>\n",
       "      <td>0.009000</td>\n",
       "      <td>1.000000</td>\n",
       "      <td>6.000000</td>\n",
       "      <td>0.987110</td>\n",
       "      <td>2.720000</td>\n",
       "      <td>0.250000</td>\n",
       "      <td>8.000000</td>\n",
       "      <td>0.000000</td>\n",
       "    </tr>\n",
       "    <tr>\n",
       "      <th>25%</th>\n",
       "      <td>6.400000</td>\n",
       "      <td>0.240000</td>\n",
       "      <td>0.240000</td>\n",
       "      <td>1.800000</td>\n",
       "      <td>0.039000</td>\n",
       "      <td>16.000000</td>\n",
       "      <td>76.000000</td>\n",
       "      <td>0.992660</td>\n",
       "      <td>3.110000</td>\n",
       "      <td>0.430000</td>\n",
       "      <td>9.400000</td>\n",
       "      <td>0.000000</td>\n",
       "    </tr>\n",
       "    <tr>\n",
       "      <th>50%</th>\n",
       "      <td>7.000000</td>\n",
       "      <td>0.300000</td>\n",
       "      <td>0.310000</td>\n",
       "      <td>2.850000</td>\n",
       "      <td>0.048000</td>\n",
       "      <td>28.000000</td>\n",
       "      <td>119.000000</td>\n",
       "      <td>0.995165</td>\n",
       "      <td>3.200000</td>\n",
       "      <td>0.500000</td>\n",
       "      <td>10.100000</td>\n",
       "      <td>0.000000</td>\n",
       "    </tr>\n",
       "    <tr>\n",
       "      <th>75%</th>\n",
       "      <td>7.700000</td>\n",
       "      <td>0.430000</td>\n",
       "      <td>0.400000</td>\n",
       "      <td>8.100000</td>\n",
       "      <td>0.069000</td>\n",
       "      <td>41.000000</td>\n",
       "      <td>156.000000</td>\n",
       "      <td>0.997100</td>\n",
       "      <td>3.310000</td>\n",
       "      <td>0.590000</td>\n",
       "      <td>11.100000</td>\n",
       "      <td>1.000000</td>\n",
       "    </tr>\n",
       "    <tr>\n",
       "      <th>max</th>\n",
       "      <td>15.900000</td>\n",
       "      <td>1.580000</td>\n",
       "      <td>1.230000</td>\n",
       "      <td>65.800000</td>\n",
       "      <td>0.610000</td>\n",
       "      <td>289.000000</td>\n",
       "      <td>440.000000</td>\n",
       "      <td>1.038980</td>\n",
       "      <td>4.010000</td>\n",
       "      <td>2.000000</td>\n",
       "      <td>14.900000</td>\n",
       "      <td>1.000000</td>\n",
       "    </tr>\n",
       "  </tbody>\n",
       "</table>\n",
       "</div>"
      ],
      "text/plain": [
       "       fixed acidity  volatile acidity  citric acid  residual sugar  \\\n",
       "count    3812.000000       3815.000000  3817.000000     3819.000000   \n",
       "mean        7.234824          0.353751     0.315517        5.422427   \n",
       "std         1.278295          0.170932     0.148611        4.839934   \n",
       "min         3.800000          0.080000     0.000000        0.600000   \n",
       "25%         6.400000          0.240000     0.240000        1.800000   \n",
       "50%         7.000000          0.300000     0.310000        2.850000   \n",
       "75%         7.700000          0.430000     0.400000        8.100000   \n",
       "max        15.900000          1.580000     1.230000       65.800000   \n",
       "\n",
       "         chlorides  free sulfur dioxide  total sulfur dioxide      density  \\\n",
       "count  3818.000000          3820.000000           3820.000000  3820.000000   \n",
       "mean      0.057588            30.224738            115.938482     0.994884   \n",
       "std       0.035642            18.459657             57.503221     0.002990   \n",
       "min       0.009000             1.000000              6.000000     0.987110   \n",
       "25%       0.039000            16.000000             76.000000     0.992660   \n",
       "50%       0.048000            28.000000            119.000000     0.995165   \n",
       "75%       0.069000            41.000000            156.000000     0.997100   \n",
       "max       0.610000           289.000000            440.000000     1.038980   \n",
       "\n",
       "                pH    sulphates      alcohol     aprovado  \n",
       "count  3813.000000  3816.000000  3820.000000  3820.000000  \n",
       "mean      3.215156     0.528305    10.366881     0.495026  \n",
       "std       0.161158     0.148777     1.166274     0.500041  \n",
       "min       2.720000     0.250000     8.000000     0.000000  \n",
       "25%       3.110000     0.430000     9.400000     0.000000  \n",
       "50%       3.200000     0.500000    10.100000     0.000000  \n",
       "75%       3.310000     0.590000    11.100000     1.000000  \n",
       "max       4.010000     2.000000    14.900000     1.000000  "
      ]
     },
     "execution_count": 5,
     "metadata": {},
     "output_type": "execute_result"
    }
   ],
   "source": [
    "# Aplicando o método describe\n",
    "dados_treino.describe()"
   ]
  },
  {
   "cell_type": "markdown",
   "metadata": {
    "slideshow": {
     "slide_type": "fragment"
    }
   },
   "source": [
    "Quais outras conclusões podemos tirar a partir dessa visão?"
   ]
  },
  {
   "cell_type": "markdown",
   "metadata": {
    "slideshow": {
     "slide_type": "slide"
    }
   },
   "source": [
    "### E como representar distribuições graficamente?\n",
    "\n",
    "Apesar do método `.describe()` indicar várias estatísticas interessantes, em muitos casos a visualização gráfica pode nos ajudar ainda mais! Uma forma muito útil de representar dados contínuos é pela função `displot`, do `Seaborn`"
   ]
  },
  {
   "cell_type": "code",
   "execution_count": 6,
   "metadata": {
    "slideshow": {
     "slide_type": "fragment"
    }
   },
   "outputs": [
    {
     "data": {
      "image/png": "[encoded data removed]",
      "text/plain": [
       "<Figure size 864x288 with 1 Axes>"
      ]
     },
     "metadata": {},
     "output_type": "display_data"
    }
   ],
   "source": [
    "# Importando o módulo Seaborn\n",
    "import seaborn as sns\n",
    "sns.set(font_scale = 1.3) # Para aumentar o tamanho da fonte\n",
    "coluna = 'fixed acidity' # Coluna a ser representada\n",
    "\n",
    "# Instanciando o Displot. Só precisamos da coluna que queremos representar\n",
    "sns.displot(\n",
    "    dados_treino[coluna], #Dados a serem representados. Selecionamos apenas a coluna de interesse\n",
    "    height=4, # Altura em polegadas do gráfico\n",
    "    aspect=3, # Proporção entre largura e altura do gráfico. Números > 1 representam retâgulos mais 'deitados'\n",
    "    kind='kde',\n",
    ")\n",
    "plt.show()"
   ]
  },
  {
   "cell_type": "markdown",
   "metadata": {
    "slideshow": {
     "slide_type": "subslide"
    }
   },
   "source": [
    "Trocando a coluna para `alcohol`:"
   ]
  },
  {
   "cell_type": "code",
   "execution_count": 7,
   "metadata": {
    "scrolled": true,
    "slideshow": {
     "slide_type": "-"
    }
   },
   "outputs": [
    {
     "data": {
      "image/png": "[encoded data removed]",
      "text/plain": [
       "<Figure size 864x288 with 1 Axes>"
      ]
     },
     "metadata": {},
     "output_type": "display_data"
    }
   ],
   "source": [
    "# Importando o módulo Seaborn\n",
    "import seaborn as sns\n",
    "sns.set(font_scale = 1.3) # Para aumentar o tamanho da fonte\n",
    "coluna = 'alcohol' # Coluna a ser representada\n",
    "\n",
    "# Instanciando o Displot. Só precisamos da coluna que queremos representar\n",
    "sns.displot(\n",
    "    dados_treino[coluna], #Dados a serem representados. Selecionamos apenas a coluna de interesse\n",
    "    height=4, # Altura em polegadas do gráfico\n",
    "    aspect=3, # Proporção entre largura e altura do gráfico. Números > 1 representam retâgulos mais 'deitados'\n",
    "    kind='kde',\n",
    "\n",
    ")\n",
    "plt.show()"
   ]
  },
  {
   "cell_type": "markdown",
   "metadata": {
    "slideshow": {
     "slide_type": "-"
    }
   },
   "source": [
    "Podemos tirar mais conclusões do `displot`?"
   ]
  },
  {
   "cell_type": "markdown",
   "metadata": {
    "slideshow": {
     "slide_type": "slide"
    }
   },
   "source": [
    "### Mas também temos variáveis discretas! O que fazer nesse caso?\n",
    "\n",
    "Além das variáveis contínuas, também temos uma variável específica na base que não é numérica: a `type`, que indica o tipo de vinho (branco ou tinto)"
   ]
  },
  {
   "cell_type": "code",
   "execution_count": 8,
   "metadata": {
    "slideshow": {
     "slide_type": "-"
    }
   },
   "outputs": [
    {
     "data": {
      "text/plain": [
       "0       white\n",
       "1       white\n",
       "2       white\n",
       "3         red\n",
       "4       white\n",
       "        ...  \n",
       "3815      red\n",
       "3816      red\n",
       "3817      red\n",
       "3818      red\n",
       "3819      red\n",
       "Name: type, Length: 3820, dtype: object"
      ]
     },
     "execution_count": 8,
     "metadata": {},
     "output_type": "execute_result"
    }
   ],
   "source": [
    "# Representando a variável categórica da base\n",
    "dados_treino.type"
   ]
  },
  {
   "cell_type": "markdown",
   "metadata": {
    "slideshow": {
     "slide_type": "subslide"
    }
   },
   "source": [
    "Para esta variável, podemos _contar_ quantos registros temos, até mesmo para ver a proporção de cada tipo de vinho na nossa base. Podemos aplicar o método interno do `Pandas`, `.value_counts()` para fazer este tipo de contagem"
   ]
  },
  {
   "cell_type": "code",
   "execution_count": 9,
   "metadata": {
    "slideshow": {
     "slide_type": "-"
    }
   },
   "outputs": [
    {
     "data": {
      "text/plain": [
       "white    2822\n",
       "red       998\n",
       "Name: type, dtype: int64"
      ]
     },
     "execution_count": 9,
     "metadata": {},
     "output_type": "execute_result"
    }
   ],
   "source": [
    "# Selecionando a coluna e contando registros\n",
    "dados_treino.type.value_counts()"
   ]
  },
  {
   "cell_type": "code",
   "execution_count": 10,
   "metadata": {
    "slideshow": {
     "slide_type": "-"
    }
   },
   "outputs": [
    {
     "data": {
      "text/plain": [
       "white    0.736287\n",
       "red      0.263713\n",
       "Name: type, dtype: float64"
      ]
     },
     "execution_count": 10,
     "metadata": {},
     "output_type": "execute_result"
    }
   ],
   "source": [
    "# Aplicando a mesma contagem para os dados de teste, agora normalizando\n",
    "dados_teste.type.value_counts(normalize=True)"
   ]
  },
  {
   "cell_type": "markdown",
   "metadata": {
    "slideshow": {
     "slide_type": "-"
    }
   },
   "source": [
    "O que podemos concluir desta contagem?"
   ]
  },
  {
   "cell_type": "markdown",
   "metadata": {
    "slideshow": {
     "slide_type": "subslide"
    }
   },
   "source": [
    "Também podemos representar estas contagens em um `Histograma`, usando o método do dataframe `.hist()`:"
   ]
  },
  {
   "cell_type": "code",
   "execution_count": 11,
   "metadata": {
    "slideshow": {
     "slide_type": "-"
    }
   },
   "outputs": [
    {
     "data": {
      "image/png": "[encoded data removed]",
      "text/plain": [
       "<Figure size 432x288 with 1 Axes>"
      ]
     },
     "metadata": {},
     "output_type": "display_data"
    }
   ],
   "source": [
    "# Selecionando a coluna 'type' e construindo o histograma\n",
    "dados_treino.type.hist()\n",
    "plt.show()"
   ]
  },
  {
   "cell_type": "markdown",
   "metadata": {
    "slideshow": {
     "slide_type": "slide"
    }
   },
   "source": [
    "### Visualizando relações entre variáveis\n",
    "\n",
    "Agora que temos recursos para analisar uma variável, como representar `relações entre variáveis`?\n",
    "Neste ponto, iremos abordar alguns tipos mais famosos de gráficos, como os de dispersão e de linha! <p>\n",
    "Para construir gráficos de `dispersão`, podemos usar a função `.scatter()` do Matplotlib:"
   ]
  },
  {
   "cell_type": "code",
   "execution_count": 12,
   "metadata": {
    "slideshow": {
     "slide_type": "fragment"
    }
   },
   "outputs": [
    {
     "name": "stderr",
     "output_type": "stream",
     "text": [
      "*c* argument looks like a single numeric RGB or RGBA sequence, which should be avoided as value-mapping will have precedence in case its length matches with *x* & *y*.  Please use the *color* keyword-argument or provide a 2-D array with a single row if you intend to specify the same RGB or RGBA value for all points.\n"
     ]
    },
    {
     "data": {
      "image/png": "[encoded data removed]",
      "text/plain": [
       "<Figure size 432x288 with 1 Axes>"
      ]
     },
     "metadata": {},
     "output_type": "display_data"
    }
   ],
   "source": [
    "# Selecionando dados e representando em dispersão\n",
    "dados_treino.plot(\n",
    "    x='fixed acidity', # Coluna para o eixo X\n",
    "    y='alcohol', # Coluna para o eixo Y\n",
    "    kind='scatter' # Tipo de gráfico. Para dispersão, usamos 'scatter'\n",
    ")\n",
    "plt.show()\n"
   ]
  },
  {
   "cell_type": "markdown",
   "metadata": {
    "slideshow": {
     "slide_type": "subslide"
    }
   },
   "source": [
    "O gráfico é rápido e muito versátil, pela facilidade na escolha de colunas e também o tipo!"
   ]
  },
  {
   "cell_type": "code",
   "execution_count": 13,
   "metadata": {
    "slideshow": {
     "slide_type": "-"
    }
   },
   "outputs": [
    {
     "name": "stderr",
     "output_type": "stream",
     "text": [
      "*c* argument looks like a single numeric RGB or RGBA sequence, which should be avoided as value-mapping will have precedence in case its length matches with *x* & *y*.  Please use the *color* keyword-argument or provide a 2-D array with a single row if you intend to specify the same RGB or RGBA value for all points.\n"
     ]
    },
    {
     "data": {
      "image/png": "[encoded data removed]",
      "text/plain": [
       "<Figure size 432x288 with 1 Axes>"
      ]
     },
     "metadata": {},
     "output_type": "display_data"
    }
   ],
   "source": [
    "# Selecionando dados e representando em dispersão\n",
    "dados_treino.plot(\n",
    "    x='fixed acidity', # Coluna para o eixo X\n",
    "    y='density', # Coluna para o eixo Y\n",
    "    kind='scatter' # Tipo de gráfico. Para dispersão, usamos 'scatter'\n",
    ")\n",
    "plt.show()\n"
   ]
  },
  {
   "cell_type": "markdown",
   "metadata": {
    "slideshow": {
     "slide_type": "-"
    }
   },
   "source": [
    "Podemos tirar alguma conclusão destas visualizações?"
   ]
  },
  {
   "cell_type": "markdown",
   "metadata": {
    "slideshow": {
     "slide_type": "slide"
    }
   },
   "source": [
    "Podemos inclusive mudar as cores do gráfico, usando para isso alguma outra coluna categórica, como, por exemplo, o tipo de vinho (`type`):"
   ]
  },
  {
   "cell_type": "code",
   "execution_count": 14,
   "metadata": {
    "scrolled": true,
    "slideshow": {
     "slide_type": "fragment"
    }
   },
   "outputs": [
    {
     "data": {
      "image/png": "[encoded data removed]",
      "text/plain": [
       "<Figure size 432x288 with 1 Axes>"
      ]
     },
     "metadata": {},
     "output_type": "display_data"
    }
   ],
   "source": [
    "# Selecionando dados e representando em dispersão\n",
    "dados_treino.plot(\n",
    "    x='fixed acidity', # Coluna para o eixo X\n",
    "    y='density', # Coluna para o eixo Y\n",
    "    c='type', # Indicando que queremos diferenciar as cores (c) do gráfico pela coluna 'type'\n",
    "    kind='scatter' # Tipo de gráfico. Para dispersão, usamos 'scatter'\n",
    ")\n",
    "plt.show()"
   ]
  },
  {
   "cell_type": "markdown",
   "metadata": {
    "slideshow": {
     "slide_type": "fragment"
    }
   },
   "source": [
    "Agora os dados de vinho tinto estão representados pelos pontos vermelhos, e os de vinho branco pelos pontos brancos."
   ]
  },
  {
   "cell_type": "markdown",
   "metadata": {
    "slideshow": {
     "slide_type": "slide"
    }
   },
   "source": [
    "### Unindo visões\n",
    "\n",
    "Agora que temos clareza de que tanto os histogramas quanto os gráficos de dispersão são úteis, será que podemos unir tudo em uma visão única?\n",
    "\n",
    "A resposta é **sim**! Podemos usar mais uma função do Seaborn, o `pairplot()`, para isso:"
   ]
  },
  {
   "cell_type": "code",
   "execution_count": 15,
   "metadata": {
    "slideshow": {
     "slide_type": "subslide"
    }
   },
   "outputs": [
    {
     "data": {
      "image/png": "[encoded data removed]",
      "text/plain": [
       "<Figure size 444.73x360 with 6 Axes>"
      ]
     },
     "metadata": {},
     "output_type": "display_data"
    }
   ],
   "source": [
    "# Analisando as variáveis Residual Sugar, Chloirides e Free Sulfur Dioxide\n",
    "sns.set_context(font_scale=1.4)\n",
    "sns.pairplot(dados_treino, # Dados para plotar\n",
    "             hue='type', #Cada gráfico separado pelo tipo, nossa variável categórica\n",
    "            vars=['residual sugar','chlorides'] # Variáveis a serem analisadas\n",
    "            )\n",
    "plt.show()"
   ]
  },
  {
   "cell_type": "markdown",
   "metadata": {
    "slideshow": {
     "slide_type": "-"
    }
   },
   "source": [
    "Neste gráfico, temos ao mesmo tempo \n",
    "* Nos gráficos da diagonal principal, a distribuição (`displot`) da variável de interesse\n",
    "* Nos gráficos fora da diagonal principal, os gráficos de dispersão entre as variáveis"
   ]
  },
  {
   "cell_type": "code",
   "execution_count": 16,
   "metadata": {
    "slideshow": {
     "slide_type": "subslide"
    }
   },
   "outputs": [
    {
     "data": {
      "image/png": "[encoded data removed]",
      "text/plain": [
       "<Figure size 444.73x360 with 6 Axes>"
      ]
     },
     "metadata": {},
     "output_type": "display_data"
    }
   ],
   "source": [
    "# Analisando as variáveis Residual Sugar, Chloirides e Free Sulfur Dioxide\n",
    "sns.set_context(font_scale=1.4)\n",
    "sns.pairplot(dados_treino, # Dados para plotar\n",
    "             hue='type', #Cada gráfico separado pelo tipo, nossa variável categórica\n",
    "            vars=['alcohol','free sulfur dioxide'] # Variáveis a serem analisadas\n",
    "            )\n",
    "plt.show()"
   ]
  },
  {
   "cell_type": "markdown",
   "metadata": {
    "slideshow": {
     "slide_type": "-"
    }
   },
   "source": [
    "Podemos identificar alguma conclusão importante dessas visões?"
   ]
  },
  {
   "cell_type": "markdown",
   "metadata": {
    "slideshow": {
     "slide_type": "slide"
    }
   },
   "source": [
    "### Relações entre variáveis\n",
    "\n",
    "Para identificar correlações, podemos ser mais diretos e usar a matriz de correlações de Pearson do DataFrame, `.corr()`"
   ]
  },
  {
   "cell_type": "code",
   "execution_count": 17,
   "metadata": {
    "scrolled": true,
    "slideshow": {
     "slide_type": "fragment"
    }
   },
   "outputs": [
    {
     "data": {
      "text/html": [
       "<div>\n",
       "<style scoped>\n",
       "    .dataframe tbody tr th:only-of-type {\n",
       "        vertical-align: middle;\n",
       "    }\n",
       "\n",
       "    .dataframe tbody tr th {\n",
       "        vertical-align: top;\n",
       "    }\n",
       "\n",
       "    .dataframe thead th {\n",
       "        text-align: right;\n",
       "    }\n",
       "</style>\n",
       "<table border=\"1\" class=\"dataframe\">\n",
       "  <thead>\n",
       "    <tr style=\"text-align: right;\">\n",
       "      <th></th>\n",
       "      <th>fixed acidity</th>\n",
       "      <th>volatile acidity</th>\n",
       "      <th>citric acid</th>\n",
       "      <th>residual sugar</th>\n",
       "      <th>chlorides</th>\n",
       "      <th>free sulfur dioxide</th>\n",
       "      <th>total sulfur dioxide</th>\n",
       "      <th>density</th>\n",
       "      <th>pH</th>\n",
       "      <th>sulphates</th>\n",
       "      <th>alcohol</th>\n",
       "      <th>aprovado</th>\n",
       "    </tr>\n",
       "  </thead>\n",
       "  <tbody>\n",
       "    <tr>\n",
       "      <th>fixed acidity</th>\n",
       "      <td>1.000000</td>\n",
       "      <td>0.222785</td>\n",
       "      <td>0.309627</td>\n",
       "      <td>-0.115249</td>\n",
       "      <td>0.289936</td>\n",
       "      <td>-0.278518</td>\n",
       "      <td>-0.325076</td>\n",
       "      <td>0.455007</td>\n",
       "      <td>-0.254550</td>\n",
       "      <td>0.289676</td>\n",
       "      <td>-0.102279</td>\n",
       "      <td>-0.075287</td>\n",
       "    </tr>\n",
       "    <tr>\n",
       "      <th>volatile acidity</th>\n",
       "      <td>0.222785</td>\n",
       "      <td>1.000000</td>\n",
       "      <td>-0.388123</td>\n",
       "      <td>-0.205602</td>\n",
       "      <td>0.385803</td>\n",
       "      <td>-0.349255</td>\n",
       "      <td>-0.420528</td>\n",
       "      <td>0.278714</td>\n",
       "      <td>0.283761</td>\n",
       "      <td>0.235139</td>\n",
       "      <td>-0.049637</td>\n",
       "      <td>-0.250180</td>\n",
       "    </tr>\n",
       "    <tr>\n",
       "      <th>citric acid</th>\n",
       "      <td>0.309627</td>\n",
       "      <td>-0.388123</td>\n",
       "      <td>1.000000</td>\n",
       "      <td>0.175701</td>\n",
       "      <td>0.023442</td>\n",
       "      <td>0.163051</td>\n",
       "      <td>0.237000</td>\n",
       "      <td>0.100831</td>\n",
       "      <td>-0.364916</td>\n",
       "      <td>0.036574</td>\n",
       "      <td>-0.025742</td>\n",
       "      <td>0.069604</td>\n",
       "    </tr>\n",
       "    <tr>\n",
       "      <th>residual sugar</th>\n",
       "      <td>-0.115249</td>\n",
       "      <td>-0.205602</td>\n",
       "      <td>0.175701</td>\n",
       "      <td>1.000000</td>\n",
       "      <td>-0.128864</td>\n",
       "      <td>0.413484</td>\n",
       "      <td>0.497286</td>\n",
       "      <td>0.553032</td>\n",
       "      <td>-0.275806</td>\n",
       "      <td>-0.176995</td>\n",
       "      <td>-0.335601</td>\n",
       "      <td>-0.038862</td>\n",
       "    </tr>\n",
       "    <tr>\n",
       "      <th>chlorides</th>\n",
       "      <td>0.289936</td>\n",
       "      <td>0.385803</td>\n",
       "      <td>0.023442</td>\n",
       "      <td>-0.128864</td>\n",
       "      <td>1.000000</td>\n",
       "      <td>-0.181222</td>\n",
       "      <td>-0.265867</td>\n",
       "      <td>0.356728</td>\n",
       "      <td>0.037354</td>\n",
       "      <td>0.411112</td>\n",
       "      <td>-0.259419</td>\n",
       "      <td>-0.179230</td>\n",
       "    </tr>\n",
       "    <tr>\n",
       "      <th>free sulfur dioxide</th>\n",
       "      <td>-0.278518</td>\n",
       "      <td>-0.349255</td>\n",
       "      <td>0.163051</td>\n",
       "      <td>0.413484</td>\n",
       "      <td>-0.181222</td>\n",
       "      <td>1.000000</td>\n",
       "      <td>0.725463</td>\n",
       "      <td>0.029537</td>\n",
       "      <td>-0.159882</td>\n",
       "      <td>-0.172979</td>\n",
       "      <td>-0.160953</td>\n",
       "      <td>0.042836</td>\n",
       "    </tr>\n",
       "    <tr>\n",
       "      <th>total sulfur dioxide</th>\n",
       "      <td>-0.325076</td>\n",
       "      <td>-0.420528</td>\n",
       "      <td>0.237000</td>\n",
       "      <td>0.497286</td>\n",
       "      <td>-0.265867</td>\n",
       "      <td>0.725463</td>\n",
       "      <td>1.000000</td>\n",
       "      <td>0.030814</td>\n",
       "      <td>-0.256720</td>\n",
       "      <td>-0.251869</td>\n",
       "      <td>-0.253002</td>\n",
       "      <td>-0.056357</td>\n",
       "    </tr>\n",
       "    <tr>\n",
       "      <th>density</th>\n",
       "      <td>0.455007</td>\n",
       "      <td>0.278714</td>\n",
       "      <td>0.100831</td>\n",
       "      <td>0.553032</td>\n",
       "      <td>0.356728</td>\n",
       "      <td>0.029537</td>\n",
       "      <td>0.030814</td>\n",
       "      <td>1.000000</td>\n",
       "      <td>0.003035</td>\n",
       "      <td>0.266175</td>\n",
       "      <td>-0.669189</td>\n",
       "      <td>-0.278794</td>\n",
       "    </tr>\n",
       "    <tr>\n",
       "      <th>pH</th>\n",
       "      <td>-0.254550</td>\n",
       "      <td>0.283761</td>\n",
       "      <td>-0.364916</td>\n",
       "      <td>-0.275806</td>\n",
       "      <td>0.037354</td>\n",
       "      <td>-0.159882</td>\n",
       "      <td>-0.256720</td>\n",
       "      <td>0.003035</td>\n",
       "      <td>1.000000</td>\n",
       "      <td>0.186242</td>\n",
       "      <td>0.141885</td>\n",
       "      <td>0.029202</td>\n",
       "    </tr>\n",
       "    <tr>\n",
       "      <th>sulphates</th>\n",
       "      <td>0.289676</td>\n",
       "      <td>0.235139</td>\n",
       "      <td>0.036574</td>\n",
       "      <td>-0.176995</td>\n",
       "      <td>0.411112</td>\n",
       "      <td>-0.172979</td>\n",
       "      <td>-0.251869</td>\n",
       "      <td>0.266175</td>\n",
       "      <td>0.186242</td>\n",
       "      <td>1.000000</td>\n",
       "      <td>-0.009753</td>\n",
       "      <td>0.042009</td>\n",
       "    </tr>\n",
       "    <tr>\n",
       "      <th>alcohol</th>\n",
       "      <td>-0.102279</td>\n",
       "      <td>-0.049637</td>\n",
       "      <td>-0.025742</td>\n",
       "      <td>-0.335601</td>\n",
       "      <td>-0.259419</td>\n",
       "      <td>-0.160953</td>\n",
       "      <td>-0.253002</td>\n",
       "      <td>-0.669189</td>\n",
       "      <td>0.141885</td>\n",
       "      <td>-0.009753</td>\n",
       "      <td>1.000000</td>\n",
       "      <td>0.426294</td>\n",
       "    </tr>\n",
       "    <tr>\n",
       "      <th>aprovado</th>\n",
       "      <td>-0.075287</td>\n",
       "      <td>-0.250180</td>\n",
       "      <td>0.069604</td>\n",
       "      <td>-0.038862</td>\n",
       "      <td>-0.179230</td>\n",
       "      <td>0.042836</td>\n",
       "      <td>-0.056357</td>\n",
       "      <td>-0.278794</td>\n",
       "      <td>0.029202</td>\n",
       "      <td>0.042009</td>\n",
       "      <td>0.426294</td>\n",
       "      <td>1.000000</td>\n",
       "    </tr>\n",
       "  </tbody>\n",
       "</table>\n",
       "</div>"
      ],
      "text/plain": [
       "                      fixed acidity  volatile acidity  citric acid  \\\n",
       "fixed acidity              1.000000          0.222785     0.309627   \n",
       "volatile acidity           0.222785          1.000000    -0.388123   \n",
       "citric acid                0.309627         -0.388123     1.000000   \n",
       "residual sugar            -0.115249         -0.205602     0.175701   \n",
       "chlorides                  0.289936          0.385803     0.023442   \n",
       "free sulfur dioxide       -0.278518         -0.349255     0.163051   \n",
       "total sulfur dioxide      -0.325076         -0.420528     0.237000   \n",
       "density                    0.455007          0.278714     0.100831   \n",
       "pH                        -0.254550          0.283761    -0.364916   \n",
       "sulphates                  0.289676          0.235139     0.036574   \n",
       "alcohol                   -0.102279         -0.049637    -0.025742   \n",
       "aprovado                  -0.075287         -0.250180     0.069604   \n",
       "\n",
       "                      residual sugar  chlorides  free sulfur dioxide  \\\n",
       "fixed acidity              -0.115249   0.289936            -0.278518   \n",
       "volatile acidity           -0.205602   0.385803            -0.349255   \n",
       "citric acid                 0.175701   0.023442             0.163051   \n",
       "residual sugar              1.000000  -0.128864             0.413484   \n",
       "chlorides                  -0.128864   1.000000            -0.181222   \n",
       "free sulfur dioxide         0.413484  -0.181222             1.000000   \n",
       "total sulfur dioxide        0.497286  -0.265867             0.725463   \n",
       "density                     0.553032   0.356728             0.029537   \n",
       "pH                         -0.275806   0.037354            -0.159882   \n",
       "sulphates                  -0.176995   0.411112            -0.172979   \n",
       "alcohol                    -0.335601  -0.259419            -0.160953   \n",
       "aprovado                   -0.038862  -0.179230             0.042836   \n",
       "\n",
       "                      total sulfur dioxide   density        pH  sulphates  \\\n",
       "fixed acidity                    -0.325076  0.455007 -0.254550   0.289676   \n",
       "volatile acidity                 -0.420528  0.278714  0.283761   0.235139   \n",
       "citric acid                       0.237000  0.100831 -0.364916   0.036574   \n",
       "residual sugar                    0.497286  0.553032 -0.275806  -0.176995   \n",
       "chlorides                        -0.265867  0.356728  0.037354   0.411112   \n",
       "free sulfur dioxide               0.725463  0.029537 -0.159882  -0.172979   \n",
       "total sulfur dioxide              1.000000  0.030814 -0.256720  -0.251869   \n",
       "density                           0.030814  1.000000  0.003035   0.266175   \n",
       "pH                               -0.256720  0.003035  1.000000   0.186242   \n",
       "sulphates                        -0.251869  0.266175  0.186242   1.000000   \n",
       "alcohol                          -0.253002 -0.669189  0.141885  -0.009753   \n",
       "aprovado                         -0.056357 -0.278794  0.029202   0.042009   \n",
       "\n",
       "                       alcohol  aprovado  \n",
       "fixed acidity        -0.102279 -0.075287  \n",
       "volatile acidity     -0.049637 -0.250180  \n",
       "citric acid          -0.025742  0.069604  \n",
       "residual sugar       -0.335601 -0.038862  \n",
       "chlorides            -0.259419 -0.179230  \n",
       "free sulfur dioxide  -0.160953  0.042836  \n",
       "total sulfur dioxide -0.253002 -0.056357  \n",
       "density              -0.669189 -0.278794  \n",
       "pH                    0.141885  0.029202  \n",
       "sulphates            -0.009753  0.042009  \n",
       "alcohol               1.000000  0.426294  \n",
       "aprovado              0.426294  1.000000  "
      ]
     },
     "execution_count": 17,
     "metadata": {},
     "output_type": "execute_result"
    }
   ],
   "source": [
    "# Correlações entre as features numéricas\n",
    "dados_treino.corr()"
   ]
  },
  {
   "cell_type": "markdown",
   "metadata": {
    "slideshow": {
     "slide_type": "slide"
    }
   },
   "source": [
    "Podemos inclusive fazer um **Heatmap** do Seaborn usando o Dataframe de correlações como input"
   ]
  },
  {
   "cell_type": "code",
   "execution_count": 18,
   "metadata": {
    "scrolled": false,
    "slideshow": {
     "slide_type": "-"
    }
   },
   "outputs": [
    {
     "data": {
      "image/png": "[encoded data removed]",
      "text/plain": [
       "<Figure size 864x576 with 2 Axes>"
      ]
     },
     "metadata": {},
     "output_type": "display_data"
    }
   ],
   "source": [
    "# Plotando a matriz de correlações usando um Heatmap para dar cor aos números\n",
    "sns.set_context(font_scale=1.9)\n",
    "plt.figure(figsize=(12,8))\n",
    "sns.heatmap(\n",
    "    dados_treino.corr(), #Fonte dos dados, nossa matriz de correlação\n",
    "    annot=True, #Anotar os valores das correlações nas caixinhas coloridas\n",
    "    fmt='.2f', # Formato float de 2 dígitos, para arredondar os números\n",
    "    cmap='RdBu', # Mapa de cores do vermelho (menor) para o azul (maior)\n",
    "    mask=np.triu(np.ones_like(dados_treino.corr())) # Máscara para excluir a diagonal superior da matriz\n",
    "           )\n",
    "plt.show()"
   ]
  },
  {
   "cell_type": "markdown",
   "metadata": {
    "slideshow": {
     "slide_type": "slide"
    }
   },
   "source": [
    "### Mais relações com a variável resposta\n",
    "\n",
    "Nossa variável de interesse é numérica, então podemos construir visões gráficas que relacionem esta informação com outras propriedades de vinhos na base.\n",
    "\n",
    "Um dos gráficos mais comuns para visualização de dispersão é o `boxplot`, bastante útil comparando variáveis numéricas e categóricas:"
   ]
  },
  {
   "cell_type": "code",
   "execution_count": 19,
   "metadata": {
    "slideshow": {
     "slide_type": "fragment"
    }
   },
   "outputs": [
    {
     "data": {
      "image/png": "[encoded data removed]",
      "text/plain": [
       "<Figure size 432x288 with 1 Axes>"
      ]
     },
     "metadata": {},
     "output_type": "display_data"
    }
   ],
   "source": [
    "sns.boxplot(\n",
    "    data=dados_treino, # Dataframe utilizado\n",
    "    x='alcohol', # Variável no eixo x\n",
    "    y='aprovado', # Variável no eixo y\n",
    "    orient='h'\n",
    ")\n",
    "plt.show()"
   ]
  },
  {
   "cell_type": "markdown",
   "metadata": {
    "slideshow": {
     "slide_type": "-"
    }
   },
   "source": [
    "Podemos tirar alguma conclusão?"
   ]
  },
  {
   "cell_type": "markdown",
   "metadata": {
    "slideshow": {
     "slide_type": "slide"
    }
   },
   "source": [
    "Seria interessante se pudessemos construir `boxplots` de todas as variáveis numéricas! Faremos isso combinando o código anterior com uma estrutura de repetição, o `for`:"
   ]
  },
  {
   "cell_type": "code",
   "execution_count": 20,
   "metadata": {
    "slideshow": {
     "slide_type": "-"
    }
   },
   "outputs": [],
   "source": [
    "# Listando as colunas numéricas\n",
    "colunas_numericas = [['fixed acidity','volatile acidity','citric acid','residual sugar'],\n",
    "                    ['chlorides','free sulfur dioxide','total sulfur dioxide','density'],\n",
    "                    ['pH','sulphates','alcohol','']] # Essa última célula está vazia pois temos 11 colunas numéricas"
   ]
  },
  {
   "cell_type": "code",
   "execution_count": 21,
   "metadata": {
    "scrolled": false,
    "slideshow": {
     "slide_type": "subslide"
    }
   },
   "outputs": [
    {
     "data": {
      "image/png": "[encoded data removed]",
      "text/plain": [
       "<Figure size 2880x1440 with 12 Axes>"
      ]
     },
     "metadata": {},
     "output_type": "display_data"
    }
   ],
   "source": [
    "sns.set(font_scale=2)\n",
    "fig, eixo = plt.subplots(3,4,figsize=(40,20)) # Criando uma figura e 12 eixos, em uma matriz de 3 linhas x 4 colunas\n",
    "for linha in range(3):\n",
    "    for coluna in range(4):\n",
    "        if colunas_numericas[linha][coluna] != '':\n",
    "            sns.boxplot(data=dados_treino,x=colunas_numericas[linha][coluna],y='aprovado',ax=eixo[linha][coluna],orient='h')"
   ]
  },
  {
   "cell_type": "markdown",
   "metadata": {
    "slideshow": {
     "slide_type": "-"
    }
   },
   "source": [
    "Quais outras conclusões podemos tirar dessa visualização?"
   ]
  },
  {
   "cell_type": "markdown",
   "metadata": {
    "slideshow": {
     "slide_type": "slide"
    }
   },
   "source": [
    "## 3. Preprocessamento dos dados\n",
    "\n",
    "Como vimos inicialmente, temos alguns registros faltantes na nossa base. Temos recursos para tratá-los?"
   ]
  },
  {
   "cell_type": "markdown",
   "metadata": {
    "slideshow": {
     "slide_type": "slide"
    }
   },
   "source": [
    "### 3.1 Tratamento de missings"
   ]
  },
  {
   "cell_type": "markdown",
   "metadata": {
    "slideshow": {
     "slide_type": "-"
    }
   },
   "source": [
    "O primeiro caminho para tratar missings é entender se temos de fato, e qual é o tamanho do problema na nossa base! <p>\n",
    "Um bom caminho para isso é usar o método `.isna()` do Pandas"
   ]
  },
  {
   "cell_type": "code",
   "execution_count": 22,
   "metadata": {
    "scrolled": true,
    "slideshow": {
     "slide_type": "fragment"
    }
   },
   "outputs": [
    {
     "data": {
      "text/html": [
       "<div>\n",
       "<style scoped>\n",
       "    .dataframe tbody tr th:only-of-type {\n",
       "        vertical-align: middle;\n",
       "    }\n",
       "\n",
       "    .dataframe tbody tr th {\n",
       "        vertical-align: top;\n",
       "    }\n",
       "\n",
       "    .dataframe thead th {\n",
       "        text-align: right;\n",
       "    }\n",
       "</style>\n",
       "<table border=\"1\" class=\"dataframe\">\n",
       "  <thead>\n",
       "    <tr style=\"text-align: right;\">\n",
       "      <th></th>\n",
       "      <th>type</th>\n",
       "      <th>fixed acidity</th>\n",
       "      <th>volatile acidity</th>\n",
       "      <th>citric acid</th>\n",
       "      <th>residual sugar</th>\n",
       "      <th>chlorides</th>\n",
       "      <th>free sulfur dioxide</th>\n",
       "      <th>total sulfur dioxide</th>\n",
       "      <th>density</th>\n",
       "      <th>pH</th>\n",
       "      <th>sulphates</th>\n",
       "      <th>alcohol</th>\n",
       "      <th>aprovado</th>\n",
       "    </tr>\n",
       "  </thead>\n",
       "  <tbody>\n",
       "    <tr>\n",
       "      <th>0</th>\n",
       "      <td>False</td>\n",
       "      <td>False</td>\n",
       "      <td>False</td>\n",
       "      <td>False</td>\n",
       "      <td>False</td>\n",
       "      <td>False</td>\n",
       "      <td>False</td>\n",
       "      <td>False</td>\n",
       "      <td>False</td>\n",
       "      <td>False</td>\n",
       "      <td>False</td>\n",
       "      <td>False</td>\n",
       "      <td>False</td>\n",
       "    </tr>\n",
       "    <tr>\n",
       "      <th>1</th>\n",
       "      <td>False</td>\n",
       "      <td>False</td>\n",
       "      <td>False</td>\n",
       "      <td>False</td>\n",
       "      <td>False</td>\n",
       "      <td>False</td>\n",
       "      <td>False</td>\n",
       "      <td>False</td>\n",
       "      <td>False</td>\n",
       "      <td>False</td>\n",
       "      <td>False</td>\n",
       "      <td>False</td>\n",
       "      <td>False</td>\n",
       "    </tr>\n",
       "    <tr>\n",
       "      <th>2</th>\n",
       "      <td>False</td>\n",
       "      <td>False</td>\n",
       "      <td>False</td>\n",
       "      <td>False</td>\n",
       "      <td>False</td>\n",
       "      <td>False</td>\n",
       "      <td>False</td>\n",
       "      <td>False</td>\n",
       "      <td>False</td>\n",
       "      <td>False</td>\n",
       "      <td>False</td>\n",
       "      <td>False</td>\n",
       "      <td>False</td>\n",
       "    </tr>\n",
       "    <tr>\n",
       "      <th>3</th>\n",
       "      <td>False</td>\n",
       "      <td>False</td>\n",
       "      <td>False</td>\n",
       "      <td>False</td>\n",
       "      <td>False</td>\n",
       "      <td>False</td>\n",
       "      <td>False</td>\n",
       "      <td>False</td>\n",
       "      <td>False</td>\n",
       "      <td>False</td>\n",
       "      <td>False</td>\n",
       "      <td>False</td>\n",
       "      <td>False</td>\n",
       "    </tr>\n",
       "    <tr>\n",
       "      <th>4</th>\n",
       "      <td>False</td>\n",
       "      <td>False</td>\n",
       "      <td>False</td>\n",
       "      <td>False</td>\n",
       "      <td>False</td>\n",
       "      <td>False</td>\n",
       "      <td>False</td>\n",
       "      <td>False</td>\n",
       "      <td>False</td>\n",
       "      <td>False</td>\n",
       "      <td>False</td>\n",
       "      <td>False</td>\n",
       "      <td>False</td>\n",
       "    </tr>\n",
       "    <tr>\n",
       "      <th>...</th>\n",
       "      <td>...</td>\n",
       "      <td>...</td>\n",
       "      <td>...</td>\n",
       "      <td>...</td>\n",
       "      <td>...</td>\n",
       "      <td>...</td>\n",
       "      <td>...</td>\n",
       "      <td>...</td>\n",
       "      <td>...</td>\n",
       "      <td>...</td>\n",
       "      <td>...</td>\n",
       "      <td>...</td>\n",
       "      <td>...</td>\n",
       "    </tr>\n",
       "    <tr>\n",
       "      <th>3815</th>\n",
       "      <td>False</td>\n",
       "      <td>False</td>\n",
       "      <td>False</td>\n",
       "      <td>False</td>\n",
       "      <td>False</td>\n",
       "      <td>False</td>\n",
       "      <td>False</td>\n",
       "      <td>False</td>\n",
       "      <td>False</td>\n",
       "      <td>False</td>\n",
       "      <td>False</td>\n",
       "      <td>False</td>\n",
       "      <td>False</td>\n",
       "    </tr>\n",
       "    <tr>\n",
       "      <th>3816</th>\n",
       "      <td>False</td>\n",
       "      <td>False</td>\n",
       "      <td>False</td>\n",
       "      <td>False</td>\n",
       "      <td>False</td>\n",
       "      <td>False</td>\n",
       "      <td>False</td>\n",
       "      <td>False</td>\n",
       "      <td>False</td>\n",
       "      <td>False</td>\n",
       "      <td>False</td>\n",
       "      <td>False</td>\n",
       "      <td>False</td>\n",
       "    </tr>\n",
       "    <tr>\n",
       "      <th>3817</th>\n",
       "      <td>False</td>\n",
       "      <td>False</td>\n",
       "      <td>False</td>\n",
       "      <td>False</td>\n",
       "      <td>False</td>\n",
       "      <td>False</td>\n",
       "      <td>False</td>\n",
       "      <td>False</td>\n",
       "      <td>False</td>\n",
       "      <td>False</td>\n",
       "      <td>False</td>\n",
       "      <td>False</td>\n",
       "      <td>False</td>\n",
       "    </tr>\n",
       "    <tr>\n",
       "      <th>3818</th>\n",
       "      <td>False</td>\n",
       "      <td>False</td>\n",
       "      <td>False</td>\n",
       "      <td>False</td>\n",
       "      <td>False</td>\n",
       "      <td>False</td>\n",
       "      <td>False</td>\n",
       "      <td>False</td>\n",
       "      <td>False</td>\n",
       "      <td>False</td>\n",
       "      <td>False</td>\n",
       "      <td>False</td>\n",
       "      <td>False</td>\n",
       "    </tr>\n",
       "    <tr>\n",
       "      <th>3819</th>\n",
       "      <td>False</td>\n",
       "      <td>False</td>\n",
       "      <td>False</td>\n",
       "      <td>False</td>\n",
       "      <td>False</td>\n",
       "      <td>False</td>\n",
       "      <td>False</td>\n",
       "      <td>False</td>\n",
       "      <td>False</td>\n",
       "      <td>False</td>\n",
       "      <td>False</td>\n",
       "      <td>False</td>\n",
       "      <td>False</td>\n",
       "    </tr>\n",
       "  </tbody>\n",
       "</table>\n",
       "<p>3820 rows × 13 columns</p>\n",
       "</div>"
      ],
      "text/plain": [
       "       type  fixed acidity  volatile acidity  citric acid  residual sugar  \\\n",
       "0     False          False             False        False           False   \n",
       "1     False          False             False        False           False   \n",
       "2     False          False             False        False           False   \n",
       "3     False          False             False        False           False   \n",
       "4     False          False             False        False           False   \n",
       "...     ...            ...               ...          ...             ...   \n",
       "3815  False          False             False        False           False   \n",
       "3816  False          False             False        False           False   \n",
       "3817  False          False             False        False           False   \n",
       "3818  False          False             False        False           False   \n",
       "3819  False          False             False        False           False   \n",
       "\n",
       "      chlorides  free sulfur dioxide  total sulfur dioxide  density     pH  \\\n",
       "0         False                False                 False    False  False   \n",
       "1         False                False                 False    False  False   \n",
       "2         False                False                 False    False  False   \n",
       "3         False                False                 False    False  False   \n",
       "4         False                False                 False    False  False   \n",
       "...         ...                  ...                   ...      ...    ...   \n",
       "3815      False                False                 False    False  False   \n",
       "3816      False                False                 False    False  False   \n",
       "3817      False                False                 False    False  False   \n",
       "3818      False                False                 False    False  False   \n",
       "3819      False                False                 False    False  False   \n",
       "\n",
       "      sulphates  alcohol  aprovado  \n",
       "0         False    False     False  \n",
       "1         False    False     False  \n",
       "2         False    False     False  \n",
       "3         False    False     False  \n",
       "4         False    False     False  \n",
       "...         ...      ...       ...  \n",
       "3815      False    False     False  \n",
       "3816      False    False     False  \n",
       "3817      False    False     False  \n",
       "3818      False    False     False  \n",
       "3819      False    False     False  \n",
       "\n",
       "[3820 rows x 13 columns]"
      ]
     },
     "execution_count": 22,
     "metadata": {},
     "output_type": "execute_result"
    }
   ],
   "source": [
    "dados_treino.isna()  "
   ]
  },
  {
   "cell_type": "markdown",
   "metadata": {
    "slideshow": {
     "slide_type": "slide"
    }
   },
   "source": [
    "Para entender os missings por coluna, podemos calcular a média:"
   ]
  },
  {
   "cell_type": "code",
   "execution_count": 23,
   "metadata": {
    "scrolled": true,
    "slideshow": {
     "slide_type": "-"
    }
   },
   "outputs": [
    {
     "data": {
      "text/plain": [
       "type                    0.000000\n",
       "fixed acidity           0.209424\n",
       "volatile acidity        0.130890\n",
       "citric acid             0.078534\n",
       "residual sugar          0.026178\n",
       "chlorides               0.052356\n",
       "free sulfur dioxide     0.000000\n",
       "total sulfur dioxide    0.000000\n",
       "density                 0.000000\n",
       "pH                      0.183246\n",
       "sulphates               0.104712\n",
       "alcohol                 0.000000\n",
       "aprovado                0.000000\n",
       "dtype: float64"
      ]
     },
     "execution_count": 23,
     "metadata": {},
     "output_type": "execute_result"
    }
   ],
   "source": [
    "dados_treino.isna().mean(axis=0)*100 #Multiplicando por 100 para transformar em percentual"
   ]
  },
  {
   "cell_type": "code",
   "execution_count": 24,
   "metadata": {
    "scrolled": true,
    "slideshow": {
     "slide_type": "-"
    }
   },
   "outputs": [
    {
     "data": {
      "text/plain": [
       "type                    0.0\n",
       "fixed acidity           0.0\n",
       "volatile acidity        0.0\n",
       "citric acid             0.0\n",
       "residual sugar          0.0\n",
       "chlorides               0.0\n",
       "free sulfur dioxide     0.0\n",
       "total sulfur dioxide    0.0\n",
       "density                 0.0\n",
       "pH                      0.0\n",
       "sulphates               0.0\n",
       "alcohol                 0.0\n",
       "aprovado                0.0\n",
       "dtype: float64"
      ]
     },
     "execution_count": 24,
     "metadata": {},
     "output_type": "execute_result"
    }
   ],
   "source": [
    "dados_teste.isna().mean()"
   ]
  },
  {
   "cell_type": "markdown",
   "metadata": {
    "slideshow": {
     "slide_type": "-"
    }
   },
   "source": [
    "Não temos missings nos dados de teste, e temos apenas 0.20% de missings no máximo nos dados de treino!\n",
    "Mas será que os missings ocorrem em registros iguais?"
   ]
  },
  {
   "cell_type": "markdown",
   "metadata": {
    "slideshow": {
     "slide_type": "slide"
    }
   },
   "source": [
    "<center> Fizemos a análise de missings usando basicamente funções do Pandas, mas há módulos próprios para isso, como o <b>MissingNo!!! </b>\n",
    "    \n",
    "<img src = \"../0. MISC/missingno.jpg\" width=1200>"
   ]
  },
  {
   "cell_type": "markdown",
   "metadata": {
    "slideshow": {
     "slide_type": "subslide"
    }
   },
   "source": [
    "Caso não tenha essa lib, descomente a linha abaixo e rode a célula!!\n"
   ]
  },
  {
   "cell_type": "code",
   "execution_count": 25,
   "metadata": {
    "slideshow": {
     "slide_type": "-"
    }
   },
   "outputs": [],
   "source": [
    "#!pip install missingno"
   ]
  },
  {
   "cell_type": "code",
   "execution_count": 26,
   "metadata": {
    "slideshow": {
     "slide_type": "-"
    }
   },
   "outputs": [
    {
     "data": {
      "image/png": "[encoded data removed]",
      "text/plain": [
       "<Figure size 1800x720 with 2 Axes>"
      ]
     },
     "metadata": {},
     "output_type": "display_data"
    }
   ],
   "source": [
    "import missingno as msno\n",
    "msno.matrix(dados_treino)\n",
    "plt.show()"
   ]
  },
  {
   "cell_type": "markdown",
   "metadata": {
    "slideshow": {
     "slide_type": "-"
    }
   },
   "source": [
    "Nessa representação, fica bem fácil entender as variáveis com missings, mas agora o que fazer com elas?"
   ]
  },
  {
   "cell_type": "markdown",
   "metadata": {
    "slideshow": {
     "slide_type": "slide"
    }
   },
   "source": [
    "Caso optemos por preencher os missings, há algumas formas padrão de se fazer isso\n",
    "\n",
    "* Preenchimento com zeros\n",
    "* Preenchimento com médias\n",
    "* Preenchimento via regressão"
   ]
  },
  {
   "cell_type": "markdown",
   "metadata": {
    "slideshow": {
     "slide_type": "-"
    }
   },
   "source": [
    "Em situações como essa, onde os missings representam uma baixa proporção da base, podemos apenas **excluir os registros**. Podemos fazer isso usando o método `.dropna()` do Pandas\n"
   ]
  },
  {
   "cell_type": "code",
   "execution_count": 27,
   "metadata": {
    "scrolled": false,
    "slideshow": {
     "slide_type": "fragment"
    }
   },
   "outputs": [
    {
     "data": {
      "text/plain": [
       "type                    0.0\n",
       "fixed acidity           0.0\n",
       "volatile acidity        0.0\n",
       "citric acid             0.0\n",
       "residual sugar          0.0\n",
       "chlorides               0.0\n",
       "free sulfur dioxide     0.0\n",
       "total sulfur dioxide    0.0\n",
       "density                 0.0\n",
       "pH                      0.0\n",
       "sulphates               0.0\n",
       "alcohol                 0.0\n",
       "aprovado                0.0\n",
       "dtype: float64"
      ]
     },
     "execution_count": 27,
     "metadata": {},
     "output_type": "execute_result"
    }
   ],
   "source": [
    "dados_treino_mis = dados_treino.dropna()\n",
    "\n",
    "# Testando para ver se excluiu mesmo\n",
    "dados_treino_mis.isna().mean()"
   ]
  },
  {
   "cell_type": "markdown",
   "metadata": {
    "slideshow": {
     "slide_type": "slide"
    }
   },
   "source": [
    "## 4. Usando análises para encontrar os vinhos aprovados\n",
    "\n",
    "Agora que temos um bom repositório de técnicas, vamos usá-las para tentar encontrar os melhores vinhos!"
   ]
  },
  {
   "cell_type": "markdown",
   "metadata": {
    "slideshow": {
     "slide_type": "slide"
    }
   },
   "source": [
    "### Agrupamentos para medir sucesso\n",
    "\n",
    "Nosso objetivo é identificar os vinhos aprovados (marcação `1`). Conseguimos encontrar estes vinhos por regras simples das propriedades químicas?\n",
    "\n",
    "Se calcularmos a `média`da coluna `aprovado`, veremos o percentual de vinhos da base que são aprovados"
   ]
  },
  {
   "cell_type": "code",
   "execution_count": 28,
   "metadata": {
    "slideshow": {
     "slide_type": "-"
    }
   },
   "outputs": [
    {
     "data": {
      "text/plain": [
       "0.4950261780104712"
      ]
     },
     "execution_count": 28,
     "metadata": {},
     "output_type": "execute_result"
    }
   ],
   "source": [
    "# A média de uma coluna que possui '0's e '1's nos dará o percentual de '1's\n",
    "dados_treino.aprovado.mean()"
   ]
  },
  {
   "cell_type": "markdown",
   "metadata": {
    "slideshow": {
     "slide_type": "-"
    }
   },
   "source": [
    "Temos então **49,5%** dos vinhos aprovados. Vamos então descobrir como filtrar vinhos aprovados baseados nas outras propriedades"
   ]
  },
  {
   "cell_type": "markdown",
   "metadata": {
    "slideshow": {
     "slide_type": "subslide"
    }
   },
   "source": [
    "### O `groupby` como seleção\n",
    "\n",
    "Para podermos avaliar a base de forma agrupada, podemos usar o método `.groupby()` do Pandas. A estrutura geral é:\n",
    "* `dataframe.groupby(variavel_de_agrupamento)[variavel_de_interesse].agg('forma_de_agrupamento')`\n",
    "\n",
    "Vamos começar pelo tipo de vinho, que é uma variável categórica"
   ]
  },
  {
   "cell_type": "code",
   "execution_count": 29,
   "metadata": {
    "slideshow": {
     "slide_type": "-"
    }
   },
   "outputs": [
    {
     "data": {
      "text/plain": [
       "<pandas.core.groupby.generic.DataFrameGroupBy object at 0x000001643EC23B80>"
      ]
     },
     "execution_count": 29,
     "metadata": {},
     "output_type": "execute_result"
    }
   ],
   "source": [
    "# Fazendo apenas o groupby, o que o Python retorna é um agrupamento\n",
    "dados_treino.groupby('type')"
   ]
  },
  {
   "cell_type": "code",
   "execution_count": 30,
   "metadata": {
    "scrolled": true,
    "slideshow": {
     "slide_type": "fragment"
    }
   },
   "outputs": [
    {
     "data": {
      "text/plain": [
       "type\n",
       "red      0.406814\n",
       "white    0.526223\n",
       "Name: aprovado, dtype: float64"
      ]
     },
     "execution_count": 30,
     "metadata": {},
     "output_type": "execute_result"
    }
   ],
   "source": [
    "dados_treino.groupby('type')['aprovado'].mean() # Média da coluna 'agrupado' pela variável 'type'"
   ]
  },
  {
   "cell_type": "markdown",
   "metadata": {
    "slideshow": {
     "slide_type": "fragment"
    }
   },
   "source": [
    "Baseado nesta avaliação, qual tipo de vinho parece ter maior aprovação?"
   ]
  },
  {
   "cell_type": "markdown",
   "metadata": {
    "slideshow": {
     "slide_type": "slide"
    }
   },
   "source": [
    "### Mais agrupamentos\n",
    "\n",
    "Quando avaliamos variáveis contínuas, o `.groupby()` não pode ser diretamente usado; para isso, precisamos transformar a variável contínua em categórica para fazer essa avaliação.\n",
    "\n",
    "Para este tipo de análise, podemos converter uma variável contínua em faixas usando outra função do pandas, o `.cut()`!"
   ]
  },
  {
   "cell_type": "code",
   "execution_count": 31,
   "metadata": {
    "slideshow": {
     "slide_type": "-"
    }
   },
   "outputs": [],
   "source": [
    "# Separando uma variável contínua em faixas\n",
    "coluna = 'chlorides'\n",
    "\n",
    "# Criando uma nova coluna que é a faixa da coluna 'chlorides'\n",
    "\n",
    "dados_treino[coluna+'_faixa'] = pd.cut(\n",
    "    dados_treino[coluna], # Coluna de interesse\n",
    "    bins=5 # Número de faixas\n",
    ")"
   ]
  },
  {
   "cell_type": "markdown",
   "metadata": {
    "slideshow": {
     "slide_type": "-"
    }
   },
   "source": [
    "Com a faixa da coluna criada, podemos usar a mesma lógica do `.groupby()`"
   ]
  },
  {
   "cell_type": "code",
   "execution_count": 32,
   "metadata": {
    "slideshow": {
     "slide_type": "-"
    }
   },
   "outputs": [
    {
     "data": {
      "text/html": [
       "<div>\n",
       "<style scoped>\n",
       "    .dataframe tbody tr th:only-of-type {\n",
       "        vertical-align: middle;\n",
       "    }\n",
       "\n",
       "    .dataframe tbody tr th {\n",
       "        vertical-align: top;\n",
       "    }\n",
       "\n",
       "    .dataframe thead th {\n",
       "        text-align: right;\n",
       "    }\n",
       "</style>\n",
       "<table border=\"1\" class=\"dataframe\">\n",
       "  <thead>\n",
       "    <tr style=\"text-align: right;\">\n",
       "      <th></th>\n",
       "      <th>contagem</th>\n",
       "      <th>fração vinhos aprovados</th>\n",
       "    </tr>\n",
       "    <tr>\n",
       "      <th>chlorides_faixa</th>\n",
       "      <th></th>\n",
       "      <th></th>\n",
       "    </tr>\n",
       "  </thead>\n",
       "  <tbody>\n",
       "    <tr>\n",
       "      <th>(0.0084, 0.129]</th>\n",
       "      <td>3717</td>\n",
       "      <td>0.500404</td>\n",
       "    </tr>\n",
       "    <tr>\n",
       "      <th>(0.129, 0.249]</th>\n",
       "      <td>81</td>\n",
       "      <td>0.320988</td>\n",
       "    </tr>\n",
       "    <tr>\n",
       "      <th>(0.249, 0.37]</th>\n",
       "      <td>12</td>\n",
       "      <td>0.250000</td>\n",
       "    </tr>\n",
       "    <tr>\n",
       "      <th>(0.37, 0.49]</th>\n",
       "      <td>7</td>\n",
       "      <td>0.142857</td>\n",
       "    </tr>\n",
       "    <tr>\n",
       "      <th>(0.49, 0.61]</th>\n",
       "      <td>1</td>\n",
       "      <td>0.000000</td>\n",
       "    </tr>\n",
       "  </tbody>\n",
       "</table>\n",
       "</div>"
      ],
      "text/plain": [
       "                 contagem  fração vinhos aprovados\n",
       "chlorides_faixa                                   \n",
       "(0.0084, 0.129]      3717                 0.500404\n",
       "(0.129, 0.249]         81                 0.320988\n",
       "(0.249, 0.37]          12                 0.250000\n",
       "(0.37, 0.49]            7                 0.142857\n",
       "(0.49, 0.61]            1                 0.000000"
      ]
     },
     "execution_count": 32,
     "metadata": {},
     "output_type": "execute_result"
    }
   ],
   "source": [
    "# Executando o .groupby() da coluna criada\n",
    "agrupamento = dados_treino.groupby('chlorides_faixa')['aprovado'].agg(['count','mean'])\n",
    "# Renomeando colunas\n",
    "agrupamento.columns = ['contagem','fração vinhos aprovados']\n",
    "agrupamento"
   ]
  },
  {
   "cell_type": "markdown",
   "metadata": {
    "slideshow": {
     "slide_type": "-"
    }
   },
   "source": [
    "Baseado nesta seleção, qual faixa da coluna `chlorides` parece ser mais promissora para selecionar vinhos aprovados?"
   ]
  },
  {
   "cell_type": "code",
   "execution_count": 33,
   "metadata": {
    "slideshow": {
     "slide_type": "subslide"
    }
   },
   "outputs": [
    {
     "data": {
      "text/html": [
       "<div>\n",
       "<style scoped>\n",
       "    .dataframe tbody tr th:only-of-type {\n",
       "        vertical-align: middle;\n",
       "    }\n",
       "\n",
       "    .dataframe tbody tr th {\n",
       "        vertical-align: top;\n",
       "    }\n",
       "\n",
       "    .dataframe thead th {\n",
       "        text-align: right;\n",
       "    }\n",
       "</style>\n",
       "<table border=\"1\" class=\"dataframe\">\n",
       "  <thead>\n",
       "    <tr style=\"text-align: right;\">\n",
       "      <th></th>\n",
       "      <th>contagem</th>\n",
       "      <th>fração vinhos aprovados</th>\n",
       "    </tr>\n",
       "    <tr>\n",
       "      <th>alcohol_faixa</th>\n",
       "      <th></th>\n",
       "      <th></th>\n",
       "    </tr>\n",
       "  </thead>\n",
       "  <tbody>\n",
       "    <tr>\n",
       "      <th>(7.993, 9.38]</th>\n",
       "      <td>752</td>\n",
       "      <td>0.307181</td>\n",
       "    </tr>\n",
       "    <tr>\n",
       "      <th>(9.38, 10.76]</th>\n",
       "      <td>1772</td>\n",
       "      <td>0.378104</td>\n",
       "    </tr>\n",
       "    <tr>\n",
       "      <th>(10.76, 12.14]</th>\n",
       "      <td>896</td>\n",
       "      <td>0.694196</td>\n",
       "    </tr>\n",
       "    <tr>\n",
       "      <th>(12.14, 13.52]</th>\n",
       "      <td>383</td>\n",
       "      <td>0.921671</td>\n",
       "    </tr>\n",
       "    <tr>\n",
       "      <th>(13.52, 14.9]</th>\n",
       "      <td>17</td>\n",
       "      <td>0.882353</td>\n",
       "    </tr>\n",
       "  </tbody>\n",
       "</table>\n",
       "</div>"
      ],
      "text/plain": [
       "                contagem  fração vinhos aprovados\n",
       "alcohol_faixa                                    \n",
       "(7.993, 9.38]        752                 0.307181\n",
       "(9.38, 10.76]       1772                 0.378104\n",
       "(10.76, 12.14]       896                 0.694196\n",
       "(12.14, 13.52]       383                 0.921671\n",
       "(13.52, 14.9]         17                 0.882353"
      ]
     },
     "execution_count": 33,
     "metadata": {},
     "output_type": "execute_result"
    }
   ],
   "source": [
    "# Replicando o raciocínio com outra coluna\n",
    "coluna = 'alcohol'\n",
    "\n",
    "# Criando uma nova coluna que é a faixa da coluna 'chlorides'\n",
    "\n",
    "dados_treino[coluna+'_faixa'] = pd.cut(\n",
    "    dados_treino[coluna], # Coluna de interesse\n",
    "    bins=5 # Número de faixas\n",
    ")\n",
    "\n",
    "# Executando o .groupby() da coluna criada\n",
    "agrupamento = dados_treino.groupby(coluna+'_faixa')['aprovado'].agg(['count','mean'])\n",
    "# Renomeando colunas\n",
    "agrupamento.columns = ['contagem','fração vinhos aprovados']\n",
    "agrupamento"
   ]
  },
  {
   "cell_type": "markdown",
   "metadata": {
    "slideshow": {
     "slide_type": "-"
    }
   },
   "source": [
    "Qual é a melhor faixa de seleção para a coluna `alcohol`?"
   ]
  },
  {
   "cell_type": "markdown",
   "metadata": {
    "slideshow": {
     "slide_type": "slide"
    }
   },
   "source": [
    "### Automatizando o processo de seleção\n",
    "\n",
    "Para automatizar o processo, podemos criar algumas regras de melhores faixas. Para temos uma quantidade interessante de vinhos, podemos escolher as seguintes regras para `cada coluna`:\n",
    "* Faixas que tenham um número mínimo de vinhos\n",
    "* Dentre as faixas acima, escolher aquela que tenha a maior fração de vinhos aprovados\n",
    "\n",
    "Vamos então construir a lógica de seleção! Começando pela variável `chlorides`:"
   ]
  },
  {
   "cell_type": "markdown",
   "metadata": {
    "slideshow": {
     "slide_type": "subslide"
    }
   },
   "source": [
    "#### Passo 1 - Selecionar a variável e fazer a coluna de faixas"
   ]
  },
  {
   "cell_type": "code",
   "execution_count": 50,
   "metadata": {
    "slideshow": {
     "slide_type": "-"
    }
   },
   "outputs": [
    {
     "data": {
      "text/html": [
       "<div>\n",
       "<style scoped>\n",
       "    .dataframe tbody tr th:only-of-type {\n",
       "        vertical-align: middle;\n",
       "    }\n",
       "\n",
       "    .dataframe tbody tr th {\n",
       "        vertical-align: top;\n",
       "    }\n",
       "\n",
       "    .dataframe thead th {\n",
       "        text-align: right;\n",
       "    }\n",
       "</style>\n",
       "<table border=\"1\" class=\"dataframe\">\n",
       "  <thead>\n",
       "    <tr style=\"text-align: right;\">\n",
       "      <th></th>\n",
       "      <th>type</th>\n",
       "      <th>fixed acidity</th>\n",
       "      <th>volatile acidity</th>\n",
       "      <th>citric acid</th>\n",
       "      <th>residual sugar</th>\n",
       "      <th>chlorides</th>\n",
       "      <th>free sulfur dioxide</th>\n",
       "      <th>total sulfur dioxide</th>\n",
       "      <th>density</th>\n",
       "      <th>pH</th>\n",
       "      <th>sulphates</th>\n",
       "      <th>alcohol</th>\n",
       "      <th>aprovado</th>\n",
       "      <th>chlorides_faixa</th>\n",
       "      <th>alcohol_faixa</th>\n",
       "      <th>volatile acidity_faixa</th>\n",
       "      <th>citric acid_faixa</th>\n",
       "      <th>residual sugar_faixa</th>\n",
       "      <th>free sulfur dioxide_faixa</th>\n",
       "      <th>total sulfur dioxide_faixa</th>\n",
       "      <th>density_faixa</th>\n",
       "      <th>pH_faixa</th>\n",
       "      <th>sulphates_faixa</th>\n",
       "    </tr>\n",
       "  </thead>\n",
       "  <tbody>\n",
       "    <tr>\n",
       "      <th>0</th>\n",
       "      <td>white</td>\n",
       "      <td>6.7</td>\n",
       "      <td>0.41</td>\n",
       "      <td>0.27</td>\n",
       "      <td>2.6</td>\n",
       "      <td>0.033</td>\n",
       "      <td>25.0</td>\n",
       "      <td>85.0</td>\n",
       "      <td>0.99086</td>\n",
       "      <td>3.05</td>\n",
       "      <td>0.34</td>\n",
       "      <td>11.7</td>\n",
       "      <td>1</td>\n",
       "      <td>(0.0084, 0.129]</td>\n",
       "      <td>(11.45, 12.14]</td>\n",
       "      <td>(0.38, 0.53]</td>\n",
       "      <td>(0.246, 0.369]</td>\n",
       "      <td>(0.535, 7.12]</td>\n",
       "      <td>(0.712, 29.8]</td>\n",
       "      <td>(49.4, 92.8]</td>\n",
       "      <td>(0.987, 0.992]</td>\n",
       "      <td>(2.978, 3.107]</td>\n",
       "      <td>(0.248, 0.425]</td>\n",
       "    </tr>\n",
       "    <tr>\n",
       "      <th>1</th>\n",
       "      <td>white</td>\n",
       "      <td>8.6</td>\n",
       "      <td>0.23</td>\n",
       "      <td>0.46</td>\n",
       "      <td>1.0</td>\n",
       "      <td>0.054</td>\n",
       "      <td>9.0</td>\n",
       "      <td>72.0</td>\n",
       "      <td>0.99410</td>\n",
       "      <td>2.95</td>\n",
       "      <td>0.49</td>\n",
       "      <td>9.1</td>\n",
       "      <td>1</td>\n",
       "      <td>(0.0084, 0.129]</td>\n",
       "      <td>(8.69, 9.38]</td>\n",
       "      <td>(0.23, 0.38]</td>\n",
       "      <td>(0.369, 0.492]</td>\n",
       "      <td>(0.535, 7.12]</td>\n",
       "      <td>(0.712, 29.8]</td>\n",
       "      <td>(49.4, 92.8]</td>\n",
       "      <td>(0.992, 0.997]</td>\n",
       "      <td>(2.849, 2.978]</td>\n",
       "      <td>(0.425, 0.6]</td>\n",
       "    </tr>\n",
       "    <tr>\n",
       "      <th>2</th>\n",
       "      <td>white</td>\n",
       "      <td>6.6</td>\n",
       "      <td>0.32</td>\n",
       "      <td>0.26</td>\n",
       "      <td>4.6</td>\n",
       "      <td>0.031</td>\n",
       "      <td>26.0</td>\n",
       "      <td>120.0</td>\n",
       "      <td>0.99198</td>\n",
       "      <td>3.40</td>\n",
       "      <td>0.73</td>\n",
       "      <td>12.5</td>\n",
       "      <td>1</td>\n",
       "      <td>(0.0084, 0.129]</td>\n",
       "      <td>(12.14, 12.83]</td>\n",
       "      <td>(0.23, 0.38]</td>\n",
       "      <td>(0.246, 0.369]</td>\n",
       "      <td>(0.535, 7.12]</td>\n",
       "      <td>(0.712, 29.8]</td>\n",
       "      <td>(92.8, 136.2]</td>\n",
       "      <td>(0.987, 0.992]</td>\n",
       "      <td>(3.365, 3.494]</td>\n",
       "      <td>(0.6, 0.775]</td>\n",
       "    </tr>\n",
       "    <tr>\n",
       "      <th>3</th>\n",
       "      <td>red</td>\n",
       "      <td>8.2</td>\n",
       "      <td>0.33</td>\n",
       "      <td>0.32</td>\n",
       "      <td>2.8</td>\n",
       "      <td>0.067</td>\n",
       "      <td>4.0</td>\n",
       "      <td>12.0</td>\n",
       "      <td>0.99473</td>\n",
       "      <td>3.30</td>\n",
       "      <td>0.76</td>\n",
       "      <td>12.8</td>\n",
       "      <td>1</td>\n",
       "      <td>(0.0084, 0.129]</td>\n",
       "      <td>(12.14, 12.83]</td>\n",
       "      <td>(0.23, 0.38]</td>\n",
       "      <td>(0.246, 0.369]</td>\n",
       "      <td>(0.535, 7.12]</td>\n",
       "      <td>(0.712, 29.8]</td>\n",
       "      <td>(5.566, 49.4]</td>\n",
       "      <td>(0.992, 0.997]</td>\n",
       "      <td>(3.236, 3.365]</td>\n",
       "      <td>(0.6, 0.775]</td>\n",
       "    </tr>\n",
       "    <tr>\n",
       "      <th>4</th>\n",
       "      <td>white</td>\n",
       "      <td>6.9</td>\n",
       "      <td>0.28</td>\n",
       "      <td>0.24</td>\n",
       "      <td>2.1</td>\n",
       "      <td>0.034</td>\n",
       "      <td>49.0</td>\n",
       "      <td>121.0</td>\n",
       "      <td>0.98882</td>\n",
       "      <td>2.98</td>\n",
       "      <td>0.43</td>\n",
       "      <td>13.2</td>\n",
       "      <td>1</td>\n",
       "      <td>(0.0084, 0.129]</td>\n",
       "      <td>(12.83, 13.52]</td>\n",
       "      <td>(0.23, 0.38]</td>\n",
       "      <td>(0.123, 0.246]</td>\n",
       "      <td>(0.535, 7.12]</td>\n",
       "      <td>(29.8, 58.6]</td>\n",
       "      <td>(92.8, 136.2]</td>\n",
       "      <td>(0.987, 0.992]</td>\n",
       "      <td>(2.978, 3.107]</td>\n",
       "      <td>(0.425, 0.6]</td>\n",
       "    </tr>\n",
       "  </tbody>\n",
       "</table>\n",
       "</div>"
      ],
      "text/plain": [
       "    type  fixed acidity  volatile acidity  citric acid  residual sugar  \\\n",
       "0  white            6.7              0.41         0.27             2.6   \n",
       "1  white            8.6              0.23         0.46             1.0   \n",
       "2  white            6.6              0.32         0.26             4.6   \n",
       "3    red            8.2              0.33         0.32             2.8   \n",
       "4  white            6.9              0.28         0.24             2.1   \n",
       "\n",
       "   chlorides  free sulfur dioxide  total sulfur dioxide  density    pH  \\\n",
       "0      0.033                 25.0                  85.0  0.99086  3.05   \n",
       "1      0.054                  9.0                  72.0  0.99410  2.95   \n",
       "2      0.031                 26.0                 120.0  0.99198  3.40   \n",
       "3      0.067                  4.0                  12.0  0.99473  3.30   \n",
       "4      0.034                 49.0                 121.0  0.98882  2.98   \n",
       "\n",
       "   sulphates  alcohol  aprovado  chlorides_faixa   alcohol_faixa  \\\n",
       "0       0.34     11.7         1  (0.0084, 0.129]  (11.45, 12.14]   \n",
       "1       0.49      9.1         1  (0.0084, 0.129]    (8.69, 9.38]   \n",
       "2       0.73     12.5         1  (0.0084, 0.129]  (12.14, 12.83]   \n",
       "3       0.76     12.8         1  (0.0084, 0.129]  (12.14, 12.83]   \n",
       "4       0.43     13.2         1  (0.0084, 0.129]  (12.83, 13.52]   \n",
       "\n",
       "  volatile acidity_faixa citric acid_faixa residual sugar_faixa  \\\n",
       "0           (0.38, 0.53]    (0.246, 0.369]        (0.535, 7.12]   \n",
       "1           (0.23, 0.38]    (0.369, 0.492]        (0.535, 7.12]   \n",
       "2           (0.23, 0.38]    (0.246, 0.369]        (0.535, 7.12]   \n",
       "3           (0.23, 0.38]    (0.246, 0.369]        (0.535, 7.12]   \n",
       "4           (0.23, 0.38]    (0.123, 0.246]        (0.535, 7.12]   \n",
       "\n",
       "  free sulfur dioxide_faixa total sulfur dioxide_faixa   density_faixa  \\\n",
       "0             (0.712, 29.8]               (49.4, 92.8]  (0.987, 0.992]   \n",
       "1             (0.712, 29.8]               (49.4, 92.8]  (0.992, 0.997]   \n",
       "2             (0.712, 29.8]              (92.8, 136.2]  (0.987, 0.992]   \n",
       "3             (0.712, 29.8]              (5.566, 49.4]  (0.992, 0.997]   \n",
       "4              (29.8, 58.6]              (92.8, 136.2]  (0.987, 0.992]   \n",
       "\n",
       "         pH_faixa sulphates_faixa  \n",
       "0  (2.978, 3.107]  (0.248, 0.425]  \n",
       "1  (2.849, 2.978]    (0.425, 0.6]  \n",
       "2  (3.365, 3.494]    (0.6, 0.775]  \n",
       "3  (3.236, 3.365]    (0.6, 0.775]  \n",
       "4  (2.978, 3.107]    (0.425, 0.6]  "
      ]
     },
     "execution_count": 50,
     "metadata": {},
     "output_type": "execute_result"
    }
   ],
   "source": [
    "coluna = 'chlorides'\n",
    "minimo_vinhos = 50\n",
    "\n",
    "# Passo 1 - Selecionar a variável e fazer a coluna de faixas\n",
    "dados_treino[coluna+'_faixa'] = pd.cut(dados_treino[coluna],bins=5)\n",
    "dados_treino.head()"
   ]
  },
  {
   "cell_type": "markdown",
   "metadata": {
    "slideshow": {
     "slide_type": "subslide"
    }
   },
   "source": [
    "#### Passo 2 - Agrupar pela coluna de faixas e calcular média da coluna 'aprovado'"
   ]
  },
  {
   "cell_type": "code",
   "execution_count": 51,
   "metadata": {
    "slideshow": {
     "slide_type": "-"
    }
   },
   "outputs": [
    {
     "data": {
      "text/html": [
       "<div>\n",
       "<style scoped>\n",
       "    .dataframe tbody tr th:only-of-type {\n",
       "        vertical-align: middle;\n",
       "    }\n",
       "\n",
       "    .dataframe tbody tr th {\n",
       "        vertical-align: top;\n",
       "    }\n",
       "\n",
       "    .dataframe thead th {\n",
       "        text-align: right;\n",
       "    }\n",
       "</style>\n",
       "<table border=\"1\" class=\"dataframe\">\n",
       "  <thead>\n",
       "    <tr style=\"text-align: right;\">\n",
       "      <th></th>\n",
       "      <th>contagem</th>\n",
       "      <th>fração vinhos aprovados</th>\n",
       "    </tr>\n",
       "    <tr>\n",
       "      <th>chlorides_faixa</th>\n",
       "      <th></th>\n",
       "      <th></th>\n",
       "    </tr>\n",
       "  </thead>\n",
       "  <tbody>\n",
       "    <tr>\n",
       "      <th>(0.0084, 0.129]</th>\n",
       "      <td>3717</td>\n",
       "      <td>0.500404</td>\n",
       "    </tr>\n",
       "    <tr>\n",
       "      <th>(0.129, 0.249]</th>\n",
       "      <td>81</td>\n",
       "      <td>0.320988</td>\n",
       "    </tr>\n",
       "    <tr>\n",
       "      <th>(0.249, 0.37]</th>\n",
       "      <td>12</td>\n",
       "      <td>0.250000</td>\n",
       "    </tr>\n",
       "    <tr>\n",
       "      <th>(0.37, 0.49]</th>\n",
       "      <td>7</td>\n",
       "      <td>0.142857</td>\n",
       "    </tr>\n",
       "    <tr>\n",
       "      <th>(0.49, 0.61]</th>\n",
       "      <td>1</td>\n",
       "      <td>0.000000</td>\n",
       "    </tr>\n",
       "  </tbody>\n",
       "</table>\n",
       "</div>"
      ],
      "text/plain": [
       "                 contagem  fração vinhos aprovados\n",
       "chlorides_faixa                                   \n",
       "(0.0084, 0.129]      3717                 0.500404\n",
       "(0.129, 0.249]         81                 0.320988\n",
       "(0.249, 0.37]          12                 0.250000\n",
       "(0.37, 0.49]            7                 0.142857\n",
       "(0.49, 0.61]            1                 0.000000"
      ]
     },
     "execution_count": 51,
     "metadata": {},
     "output_type": "execute_result"
    }
   ],
   "source": [
    "# Passo 2 - Agrupar pela coluna de faixas e calcular média da coluna 'aprovado'\n",
    "agrupamento = dados_treino.groupby(coluna+'_faixa')['aprovado'].agg(['count','mean'])\n",
    "agrupamento.columns = ['contagem','fração vinhos aprovados']\n",
    "agrupamento"
   ]
  },
  {
   "cell_type": "markdown",
   "metadata": {
    "slideshow": {
     "slide_type": "subslide"
    }
   },
   "source": [
    "#### Passo 3 - Selecionar apenas as faixas com um número mínimo de vinhos"
   ]
  },
  {
   "cell_type": "code",
   "execution_count": 52,
   "metadata": {
    "slideshow": {
     "slide_type": "-"
    }
   },
   "outputs": [
    {
     "data": {
      "text/html": [
       "<div>\n",
       "<style scoped>\n",
       "    .dataframe tbody tr th:only-of-type {\n",
       "        vertical-align: middle;\n",
       "    }\n",
       "\n",
       "    .dataframe tbody tr th {\n",
       "        vertical-align: top;\n",
       "    }\n",
       "\n",
       "    .dataframe thead th {\n",
       "        text-align: right;\n",
       "    }\n",
       "</style>\n",
       "<table border=\"1\" class=\"dataframe\">\n",
       "  <thead>\n",
       "    <tr style=\"text-align: right;\">\n",
       "      <th></th>\n",
       "      <th>contagem</th>\n",
       "      <th>fração vinhos aprovados</th>\n",
       "    </tr>\n",
       "    <tr>\n",
       "      <th>chlorides_faixa</th>\n",
       "      <th></th>\n",
       "      <th></th>\n",
       "    </tr>\n",
       "  </thead>\n",
       "  <tbody>\n",
       "    <tr>\n",
       "      <th>(0.0084, 0.129]</th>\n",
       "      <td>3717</td>\n",
       "      <td>0.500404</td>\n",
       "    </tr>\n",
       "    <tr>\n",
       "      <th>(0.129, 0.249]</th>\n",
       "      <td>81</td>\n",
       "      <td>0.320988</td>\n",
       "    </tr>\n",
       "  </tbody>\n",
       "</table>\n",
       "</div>"
      ],
      "text/plain": [
       "                 contagem  fração vinhos aprovados\n",
       "chlorides_faixa                                   \n",
       "(0.0084, 0.129]      3717                 0.500404\n",
       "(0.129, 0.249]         81                 0.320988"
      ]
     },
     "execution_count": 52,
     "metadata": {},
     "output_type": "execute_result"
    }
   ],
   "source": [
    "# Passo 3 - Selecionar apenas as faixas com um número mínimo de vinhos\n",
    "agrupamento_filtro = agrupamento[agrupamento['contagem']>=minimo_vinhos]\n",
    "agrupamento_filtro"
   ]
  },
  {
   "cell_type": "markdown",
   "metadata": {
    "slideshow": {
     "slide_type": "subslide"
    }
   },
   "source": [
    "#### Passo 4 - Ordenar pela fração de vinhos aprovados, e selecionar a melhor faixa (índice 0)"
   ]
  },
  {
   "cell_type": "code",
   "execution_count": 54,
   "metadata": {
    "slideshow": {
     "slide_type": "-"
    }
   },
   "outputs": [
    {
     "data": {
      "text/plain": [
       "contagem                   3717.000000\n",
       "fração vinhos aprovados       0.500404\n",
       "Name: (0.0084, 0.129], dtype: float64"
      ]
     },
     "execution_count": 54,
     "metadata": {},
     "output_type": "execute_result"
    }
   ],
   "source": [
    "# Passo 4 - Ordenar pela fração de vinhos aprovados, e selecionar a melhor faixa (índice 0)\n",
    "faixa_final = agrupamento_filtro.sort_values(by='fração vinhos aprovados',ascending=False).iloc[0]\n",
    "faixa_final"
   ]
  },
  {
   "cell_type": "markdown",
   "metadata": {
    "slideshow": {
     "slide_type": "subslide"
    }
   },
   "source": [
    "#### Passo 5 - Transformar a seleção em um DataFrame para simplificar o resultado"
   ]
  },
  {
   "cell_type": "code",
   "execution_count": 55,
   "metadata": {
    "slideshow": {
     "slide_type": "-"
    }
   },
   "outputs": [
    {
     "data": {
      "text/html": [
       "<div>\n",
       "<style scoped>\n",
       "    .dataframe tbody tr th:only-of-type {\n",
       "        vertical-align: middle;\n",
       "    }\n",
       "\n",
       "    .dataframe tbody tr th {\n",
       "        vertical-align: top;\n",
       "    }\n",
       "\n",
       "    .dataframe thead th {\n",
       "        text-align: right;\n",
       "    }\n",
       "</style>\n",
       "<table border=\"1\" class=\"dataframe\">\n",
       "  <thead>\n",
       "    <tr style=\"text-align: right;\">\n",
       "      <th></th>\n",
       "      <th>contagem</th>\n",
       "      <th>fração vinhos aprovados</th>\n",
       "    </tr>\n",
       "  </thead>\n",
       "  <tbody>\n",
       "    <tr>\n",
       "      <th>(0.0084, 0.129]</th>\n",
       "      <td>3717.0</td>\n",
       "      <td>0.500404</td>\n",
       "    </tr>\n",
       "  </tbody>\n",
       "</table>\n",
       "</div>"
      ],
      "text/plain": [
       "                 contagem  fração vinhos aprovados\n",
       "(0.0084, 0.129]    3717.0                 0.500404"
      ]
     },
     "execution_count": 55,
     "metadata": {},
     "output_type": "execute_result"
    }
   ],
   "source": [
    "# Passo 5 - Transformar a seleção em um DataFrame para simplificar o resultado\n",
    "faixa_final = faixa_final.to_frame().T # o 'to_frame' transforma em DataFrame, e o .T transpõe o DataFrame\n",
    "\n",
    "# Imprimindo a coluna e a faixa\n",
    "faixa_final"
   ]
  },
  {
   "cell_type": "markdown",
   "metadata": {
    "slideshow": {
     "slide_type": "slide"
    }
   },
   "source": [
    "Unindo agora todas as etapas que aprendemos!"
   ]
  },
  {
   "cell_type": "code",
   "execution_count": 56,
   "metadata": {
    "slideshow": {
     "slide_type": "fragment"
    }
   },
   "outputs": [
    {
     "data": {
      "text/html": [
       "<div>\n",
       "<style scoped>\n",
       "    .dataframe tbody tr th:only-of-type {\n",
       "        vertical-align: middle;\n",
       "    }\n",
       "\n",
       "    .dataframe tbody tr th {\n",
       "        vertical-align: top;\n",
       "    }\n",
       "\n",
       "    .dataframe thead th {\n",
       "        text-align: right;\n",
       "    }\n",
       "</style>\n",
       "<table border=\"1\" class=\"dataframe\">\n",
       "  <thead>\n",
       "    <tr style=\"text-align: right;\">\n",
       "      <th></th>\n",
       "      <th>contagem</th>\n",
       "      <th>fração vinhos aprovados</th>\n",
       "    </tr>\n",
       "  </thead>\n",
       "  <tbody>\n",
       "    <tr>\n",
       "      <th>(0.0084, 0.129]</th>\n",
       "      <td>3717.0</td>\n",
       "      <td>0.500404</td>\n",
       "    </tr>\n",
       "  </tbody>\n",
       "</table>\n",
       "</div>"
      ],
      "text/plain": [
       "                 contagem  fração vinhos aprovados\n",
       "(0.0084, 0.129]    3717.0                 0.500404"
      ]
     },
     "execution_count": 56,
     "metadata": {},
     "output_type": "execute_result"
    }
   ],
   "source": [
    "coluna = 'chlorides'\n",
    "minimo_vinhos = 50\n",
    "\n",
    "# Passo 1 - Selecionar a variável e fazer a coluna de faixas\n",
    "dados_treino[coluna+'_faixa'] = pd.cut(dados_treino[coluna],bins=5)\n",
    "\n",
    "# Passo 2 - Agrupar pela coluna de faixas e calcular média da coluna 'aprovado'\n",
    "agrupamento = dados_treino.groupby(coluna+'_faixa')['aprovado'].agg(['count','mean'])\n",
    "agrupamento.columns = ['contagem','fração vinhos aprovados']\n",
    "\n",
    "# Passo 3 - Selecionar apenas as faixas com um número mínimo de vinhos\n",
    "agrupamento_filtro = agrupamento[agrupamento['contagem']>=minimo_vinhos]\n",
    "\n",
    "# Passo 4 - Ordenar pela fração de vinhos aprovados, e selecionar a melhor faixa (índice 0)\n",
    "faixa_final = agrupamento_filtro.sort_values(by='fração vinhos aprovados',ascending=False).iloc[0]\n",
    "\n",
    "# Passo 5 - Transformar a seleção em um DataFrame para simplificar o resultado\n",
    "faixa_final = faixa_final.to_frame().T # o 'to_frame' transforma em DataFrame, e o .T transpõe o DataFrame\n",
    "\n",
    "# Imprimindo a coluna e a faixa\n",
    "faixa_final"
   ]
  },
  {
   "cell_type": "markdown",
   "metadata": {
    "slideshow": {
     "slide_type": "slide"
    }
   },
   "source": [
    "Para melhorar ainda mais a disposição, podemos tirar a faixa do índice e no lugar dela colocar o nome da coluna analisada"
   ]
  },
  {
   "cell_type": "code",
   "execution_count": 57,
   "metadata": {
    "slideshow": {
     "slide_type": "-"
    }
   },
   "outputs": [
    {
     "data": {
      "text/html": [
       "<div>\n",
       "<style scoped>\n",
       "    .dataframe tbody tr th:only-of-type {\n",
       "        vertical-align: middle;\n",
       "    }\n",
       "\n",
       "    .dataframe tbody tr th {\n",
       "        vertical-align: top;\n",
       "    }\n",
       "\n",
       "    .dataframe thead th {\n",
       "        text-align: right;\n",
       "    }\n",
       "</style>\n",
       "<table border=\"1\" class=\"dataframe\">\n",
       "  <thead>\n",
       "    <tr style=\"text-align: right;\">\n",
       "      <th></th>\n",
       "      <th>melhor faixa</th>\n",
       "      <th>contagem</th>\n",
       "      <th>fração vinhos aprovados</th>\n",
       "    </tr>\n",
       "    <tr>\n",
       "      <th>coluna</th>\n",
       "      <th></th>\n",
       "      <th></th>\n",
       "      <th></th>\n",
       "    </tr>\n",
       "  </thead>\n",
       "  <tbody>\n",
       "    <tr>\n",
       "      <th>chlorides</th>\n",
       "      <td>(0.0084, 0.129]</td>\n",
       "      <td>3717.0</td>\n",
       "      <td>0.500404</td>\n",
       "    </tr>\n",
       "  </tbody>\n",
       "</table>\n",
       "</div>"
      ],
      "text/plain": [
       "              melhor faixa  contagem  fração vinhos aprovados\n",
       "coluna                                                       \n",
       "chlorides  (0.0084, 0.129]    3717.0                 0.500404"
      ]
     },
     "execution_count": 57,
     "metadata": {},
     "output_type": "execute_result"
    }
   ],
   "source": [
    "# Reinicializando o índice\n",
    "faixa_final = faixa_final.reset_index()\n",
    "# Renomeando colunas\n",
    "faixa_final.columns = ['melhor faixa','contagem','fração vinhos aprovados']\n",
    "# Criando uma nova coluna que terá o nome da variável analisada\n",
    "faixa_final['coluna'] = coluna\n",
    "# Colocando esta coluna coim o nome da variável como índice\n",
    "faixa_final.set_index('coluna',inplace=True)\n",
    "\n",
    "faixa_final"
   ]
  },
  {
   "cell_type": "markdown",
   "metadata": {
    "slideshow": {
     "slide_type": "subslide"
    }
   },
   "source": [
    "Para facilitar nosso trabalho, vamos transformar todo esse processo de seleção em uma `função`:"
   ]
  },
  {
   "cell_type": "code",
   "execution_count": 58,
   "metadata": {
    "slideshow": {
     "slide_type": "-"
    }
   },
   "outputs": [],
   "source": [
    "def seleciona_faixa(dados, coluna, min_vinhos=100, faixas=10):\n",
    "    # Função que parte dos dados e da coluna, selecionando a melhor faixa dentre as faixas escolhidas \n",
    "    # Passo 1 - Selecionar a variável e fazer a coluna de faixas\n",
    "    dados_treino[coluna+'_faixa'] = pd.cut(dados_treino[coluna],bins=faixas)\n",
    "    # Passo 2 - Agrupar pela coluna de faixas e calcular média da coluna 'aprovado'\n",
    "    agrupamento = dados_treino.groupby(coluna+'_faixa')['aprovado'].agg(['count','mean'])\n",
    "    agrupamento.columns = ['contagem','fração vinhos aprovados']\n",
    "    # Passo 3 - Selecionar apenas as faixas com um número mínimo de vinhos\n",
    "    agrupamento_filtro = agrupamento[agrupamento['contagem']>=min_vinhos]\n",
    "    # Passo 4 - Ordenar pela fração de vinhos aprovados, e selecionar a melhor faixa\n",
    "    faixa_final = agrupamento_filtro.sort_values(by='fração vinhos aprovados',ascending=False).reset_index().iloc[0].to_frame().T\n",
    "    # Ajustando nomes\n",
    "    faixa_final.columns = ['faixa','contagem','fração vinhos aprovados']\n",
    "    # Criando uma nova coluna com o nome da variável testada, e colocando-a como índice\n",
    "    faixa_final['coluna'] = coluna\n",
    "    faixa_final.set_index('coluna',inplace=True)\n",
    "    # Salvando as seleções em um dataframe\n",
    "    return faixa_final\n",
    "    # Não vamos retornar nada nessa função"
   ]
  },
  {
   "cell_type": "code",
   "execution_count": 59,
   "metadata": {
    "slideshow": {
     "slide_type": "slide"
    }
   },
   "outputs": [],
   "source": [
    "# Testando para a primeira coluna\n",
    "teste_faixas = seleciona_faixa(dados_treino,'chlorides')"
   ]
  },
  {
   "cell_type": "markdown",
   "metadata": {
    "slideshow": {
     "slide_type": "-"
    }
   },
   "source": [
    "Vamos agora usando uma estrutura de repetição (`for`) fazer a escolha para as demais colunas!"
   ]
  },
  {
   "cell_type": "code",
   "execution_count": 60,
   "metadata": {
    "scrolled": false,
    "slideshow": {
     "slide_type": "-"
    }
   },
   "outputs": [
    {
     "data": {
      "text/html": [
       "<div>\n",
       "<style scoped>\n",
       "    .dataframe tbody tr th:only-of-type {\n",
       "        vertical-align: middle;\n",
       "    }\n",
       "\n",
       "    .dataframe tbody tr th {\n",
       "        vertical-align: top;\n",
       "    }\n",
       "\n",
       "    .dataframe thead th {\n",
       "        text-align: right;\n",
       "    }\n",
       "</style>\n",
       "<table border=\"1\" class=\"dataframe\">\n",
       "  <thead>\n",
       "    <tr style=\"text-align: right;\">\n",
       "      <th></th>\n",
       "      <th>faixa</th>\n",
       "      <th>contagem</th>\n",
       "      <th>fração vinhos aprovados</th>\n",
       "    </tr>\n",
       "    <tr>\n",
       "      <th>coluna</th>\n",
       "      <th></th>\n",
       "      <th></th>\n",
       "      <th></th>\n",
       "    </tr>\n",
       "  </thead>\n",
       "  <tbody>\n",
       "    <tr>\n",
       "      <th>chlorides</th>\n",
       "      <td>(0.0084, 0.0691]</td>\n",
       "      <td>2892</td>\n",
       "      <td>0.540802</td>\n",
       "    </tr>\n",
       "    <tr>\n",
       "      <th>volatile acidity</th>\n",
       "      <td>(0.0785, 0.23]</td>\n",
       "      <td>800</td>\n",
       "      <td>0.69125</td>\n",
       "    </tr>\n",
       "    <tr>\n",
       "      <th>citric acid</th>\n",
       "      <td>(0.246, 0.369]</td>\n",
       "      <td>1574</td>\n",
       "      <td>0.604828</td>\n",
       "    </tr>\n",
       "    <tr>\n",
       "      <th>residual sugar</th>\n",
       "      <td>(0.535, 7.12]</td>\n",
       "      <td>2679</td>\n",
       "      <td>0.513251</td>\n",
       "    </tr>\n",
       "    <tr>\n",
       "      <th>chlorides</th>\n",
       "      <td>(0.0084, 0.0691]</td>\n",
       "      <td>2892</td>\n",
       "      <td>0.540802</td>\n",
       "    </tr>\n",
       "    <tr>\n",
       "      <th>free sulfur dioxide</th>\n",
       "      <td>(29.8, 58.6]</td>\n",
       "      <td>1507</td>\n",
       "      <td>0.555408</td>\n",
       "    </tr>\n",
       "    <tr>\n",
       "      <th>total sulfur dioxide</th>\n",
       "      <td>(92.8, 136.2]</td>\n",
       "      <td>1158</td>\n",
       "      <td>0.596718</td>\n",
       "    </tr>\n",
       "    <tr>\n",
       "      <th>density</th>\n",
       "      <td>(0.987, 0.992]</td>\n",
       "      <td>820</td>\n",
       "      <td>0.77439</td>\n",
       "    </tr>\n",
       "    <tr>\n",
       "      <th>pH</th>\n",
       "      <td>(3.365, 3.494]</td>\n",
       "      <td>451</td>\n",
       "      <td>0.545455</td>\n",
       "    </tr>\n",
       "    <tr>\n",
       "      <th>sulphates</th>\n",
       "      <td>(0.775, 0.95]</td>\n",
       "      <td>169</td>\n",
       "      <td>0.698225</td>\n",
       "    </tr>\n",
       "    <tr>\n",
       "      <th>alcohol</th>\n",
       "      <td>(12.14, 12.83]</td>\n",
       "      <td>287</td>\n",
       "      <td>0.926829</td>\n",
       "    </tr>\n",
       "  </tbody>\n",
       "</table>\n",
       "</div>"
      ],
      "text/plain": [
       "                                 faixa contagem fração vinhos aprovados\n",
       "coluna                                                                 \n",
       "chlorides             (0.0084, 0.0691]     2892                0.540802\n",
       "volatile acidity        (0.0785, 0.23]      800                 0.69125\n",
       "citric acid             (0.246, 0.369]     1574                0.604828\n",
       "residual sugar           (0.535, 7.12]     2679                0.513251\n",
       "chlorides             (0.0084, 0.0691]     2892                0.540802\n",
       "free sulfur dioxide       (29.8, 58.6]     1507                0.555408\n",
       "total sulfur dioxide     (92.8, 136.2]     1158                0.596718\n",
       "density                 (0.987, 0.992]      820                 0.77439\n",
       "pH                      (3.365, 3.494]      451                0.545455\n",
       "sulphates                (0.775, 0.95]      169                0.698225\n",
       "alcohol                 (12.14, 12.83]      287                0.926829"
      ]
     },
     "execution_count": 60,
     "metadata": {},
     "output_type": "execute_result"
    }
   ],
   "source": [
    "# Novamente selecionando as colunas numéricas\n",
    "colunas_numericas = list(dados_treino.select_dtypes(include='float').columns)\n",
    "\n",
    "# Rodando a função para todas as colunas (excluindo a 'chlorides', que já fizemos)\n",
    "for col in colunas_numericas[1:]:\n",
    "    teste_faixas = pd.concat([teste_faixas,seleciona_faixa(dados_treino,col)])\n",
    "    \n",
    "teste_faixas"
   ]
  },
  {
   "cell_type": "markdown",
   "metadata": {
    "slideshow": {
     "slide_type": "slide"
    }
   },
   "source": [
    "### Foi bastante trabalhoso! Mas afinal, qual é o melhor filtro de vinhos de qualidade?\n",
    "\n",
    "Agora que temos as melhores faixas de seleção por variáveis, podemos escolher aquela que nos dê a `maior fração de vinhos aprovados`!\n",
    "\n",
    "Para fazer isso, podemos ordenar nosso Dataframe usando o método `.sort_values()`:"
   ]
  },
  {
   "cell_type": "code",
   "execution_count": 40,
   "metadata": {
    "scrolled": true,
    "slideshow": {
     "slide_type": "fragment"
    }
   },
   "outputs": [
    {
     "data": {
      "text/html": [
       "<div>\n",
       "<style scoped>\n",
       "    .dataframe tbody tr th:only-of-type {\n",
       "        vertical-align: middle;\n",
       "    }\n",
       "\n",
       "    .dataframe tbody tr th {\n",
       "        vertical-align: top;\n",
       "    }\n",
       "\n",
       "    .dataframe thead th {\n",
       "        text-align: right;\n",
       "    }\n",
       "</style>\n",
       "<table border=\"1\" class=\"dataframe\">\n",
       "  <thead>\n",
       "    <tr style=\"text-align: right;\">\n",
       "      <th></th>\n",
       "      <th>faixa</th>\n",
       "      <th>contagem</th>\n",
       "      <th>fração vinhos aprovados</th>\n",
       "    </tr>\n",
       "    <tr>\n",
       "      <th>coluna</th>\n",
       "      <th></th>\n",
       "      <th></th>\n",
       "      <th></th>\n",
       "    </tr>\n",
       "  </thead>\n",
       "  <tbody>\n",
       "    <tr>\n",
       "      <th>alcohol</th>\n",
       "      <td>(12.14, 12.83]</td>\n",
       "      <td>287</td>\n",
       "      <td>0.926829</td>\n",
       "    </tr>\n",
       "    <tr>\n",
       "      <th>density</th>\n",
       "      <td>(0.987, 0.992]</td>\n",
       "      <td>820</td>\n",
       "      <td>0.77439</td>\n",
       "    </tr>\n",
       "    <tr>\n",
       "      <th>sulphates</th>\n",
       "      <td>(0.775, 0.95]</td>\n",
       "      <td>169</td>\n",
       "      <td>0.698225</td>\n",
       "    </tr>\n",
       "    <tr>\n",
       "      <th>volatile acidity</th>\n",
       "      <td>(0.0785, 0.23]</td>\n",
       "      <td>800</td>\n",
       "      <td>0.69125</td>\n",
       "    </tr>\n",
       "    <tr>\n",
       "      <th>citric acid</th>\n",
       "      <td>(0.246, 0.369]</td>\n",
       "      <td>1574</td>\n",
       "      <td>0.604828</td>\n",
       "    </tr>\n",
       "    <tr>\n",
       "      <th>total sulfur dioxide</th>\n",
       "      <td>(92.8, 136.2]</td>\n",
       "      <td>1158</td>\n",
       "      <td>0.596718</td>\n",
       "    </tr>\n",
       "    <tr>\n",
       "      <th>free sulfur dioxide</th>\n",
       "      <td>(29.8, 58.6]</td>\n",
       "      <td>1507</td>\n",
       "      <td>0.555408</td>\n",
       "    </tr>\n",
       "    <tr>\n",
       "      <th>pH</th>\n",
       "      <td>(3.365, 3.494]</td>\n",
       "      <td>451</td>\n",
       "      <td>0.545455</td>\n",
       "    </tr>\n",
       "    <tr>\n",
       "      <th>chlorides</th>\n",
       "      <td>(0.0084, 0.0691]</td>\n",
       "      <td>2892</td>\n",
       "      <td>0.540802</td>\n",
       "    </tr>\n",
       "    <tr>\n",
       "      <th>chlorides</th>\n",
       "      <td>(0.0084, 0.0691]</td>\n",
       "      <td>2892</td>\n",
       "      <td>0.540802</td>\n",
       "    </tr>\n",
       "    <tr>\n",
       "      <th>residual sugar</th>\n",
       "      <td>(0.535, 7.12]</td>\n",
       "      <td>2679</td>\n",
       "      <td>0.513251</td>\n",
       "    </tr>\n",
       "  </tbody>\n",
       "</table>\n",
       "</div>"
      ],
      "text/plain": [
       "                                 faixa contagem fração vinhos aprovados\n",
       "coluna                                                                 \n",
       "alcohol                 (12.14, 12.83]      287                0.926829\n",
       "density                 (0.987, 0.992]      820                 0.77439\n",
       "sulphates                (0.775, 0.95]      169                0.698225\n",
       "volatile acidity        (0.0785, 0.23]      800                 0.69125\n",
       "citric acid             (0.246, 0.369]     1574                0.604828\n",
       "total sulfur dioxide     (92.8, 136.2]     1158                0.596718\n",
       "free sulfur dioxide       (29.8, 58.6]     1507                0.555408\n",
       "pH                      (3.365, 3.494]      451                0.545455\n",
       "chlorides             (0.0084, 0.0691]     2892                0.540802\n",
       "chlorides             (0.0084, 0.0691]     2892                0.540802\n",
       "residual sugar           (0.535, 7.12]     2679                0.513251"
      ]
     },
     "execution_count": 40,
     "metadata": {},
     "output_type": "execute_result"
    }
   ],
   "source": [
    "# Ordenando pela melhor fração de aprovação\n",
    "teste_faixas.sort_values(by='fração vinhos aprovados',ascending=False) #Ascending=False indica ordenação decrescente"
   ]
  },
  {
   "cell_type": "markdown",
   "metadata": {
    "slideshow": {
     "slide_type": "fragment"
    }
   },
   "source": [
    "Qual é, então, a melhor `variável` e a melhor `faixa` que seleciona vinhos de qualidade?"
   ]
  },
  {
   "cell_type": "markdown",
   "metadata": {
    "slideshow": {
     "slide_type": "subslide"
    }
   },
   "source": [
    "<center> <img src=\"http://media.tumblr.com/3fb2872d37bf7f9150dec2e56631d5e8/tumblr_inline_mi1cd9lwaK1rbumi6.gif\" width=1300>"
   ]
  },
  {
   "cell_type": "markdown",
   "metadata": {
    "slideshow": {
     "slide_type": "slide"
    }
   },
   "source": [
    "Vamos agora testar essa mesma regra na nossa `base de teste`, e verificar se nossas conclusões são consistentes!"
   ]
  },
  {
   "cell_type": "code",
   "execution_count": 41,
   "metadata": {
    "slideshow": {
     "slide_type": "-"
    }
   },
   "outputs": [
    {
     "data": {
      "text/plain": [
       "faixa                      (12.14, 12.83]\n",
       "contagem                              287\n",
       "fração vinhos aprovados          0.926829\n",
       "Name: alcohol, dtype: object"
      ]
     },
     "execution_count": 41,
     "metadata": {},
     "output_type": "execute_result"
    }
   ],
   "source": [
    "# Lembrando as faixas de corte\n",
    "teste_faixas.loc['alcohol']"
   ]
  },
  {
   "cell_type": "code",
   "execution_count": 42,
   "metadata": {
    "slideshow": {
     "slide_type": "-"
    }
   },
   "outputs": [
    {
     "name": "stdout",
     "output_type": "stream",
     "text": [
      "Média de vinhos aprovados com este filtro:\n",
      "0.9402985074626866\n"
     ]
    }
   ],
   "source": [
    "# Fazendo o mesmo corte na base de teste\n",
    "filtro_teste = dados_teste[dados_teste.alcohol.between(12.14,12.83)]\n",
    "\n",
    "# Média de vinhos aprovados\n",
    "print(\"Média de vinhos aprovados com este filtro:\")\n",
    "print(filtro_teste.aprovado.mean())"
   ]
  },
  {
   "cell_type": "markdown",
   "metadata": {
    "slideshow": {
     "slide_type": "fragment"
    }
   },
   "source": [
    "### <center> Mais de **94% de vinhos aprovados!!!**"
   ]
  },
  {
   "cell_type": "markdown",
   "metadata": {
    "slideshow": {
     "slide_type": "slide"
    }
   },
   "source": [
    "## 5. Relembrando o que fizemos, e mais sugestões\n",
    "\n",
    "\n",
    "<center> <img src = \"../0. MISC/wine_gif.gif\" width=800>\n",
    "\n",
    "### Conseguimos cumprir o objetivo, que era o de descobrir os melhores vinhos por propriedades químicas!\n",
    "    \n",
    "Vamos recapitular o que fizemos, pois já é um projeto bem similar ao que encontramos no dia a dia de um cientista:\n",
    "    \n",
    "* Entendemos os dados à disposição, seus formatos e tipos\n",
    "* Analisamos o comportamento dos dados, tanto em relação à variável resposta quanto possíveis correlações\n",
    "* Tratamos os dados, especialmente dados faltantes que não são aceitos por nenhum modelo\n",
    "* Definimos um critério de sucesso e fizemos sucessivos testes apenas com manipulação da base para encontrar nossa resposta!"
   ]
  },
  {
   "cell_type": "markdown",
   "metadata": {
    "slideshow": {
     "slide_type": "slide"
    }
   },
   "source": [
    "As possibilidades são muitas, mas passam basicamente por procurar **mais dados** ou **abordagens mais profundas**. Na medida em que aprenderem as técnicas de modelagem, uma boa prática é retomar este problema e ver se conseguimos encontrar soluções melhores. <p>\n",
    "    \n",
    "<center> <img src = \"../0. MISC/wine_final.gif\" width=1200>\n",
    "\n",
    "### <center> Parabéns por ter concluído esse desafio!!"
   ]
  },
  {
   "cell_type": "markdown",
   "metadata": {
    "slideshow": {
     "slide_type": "slide"
    }
   },
   "source": [
    "## 6. Algumas referências interessantes"
   ]
  },
  {
   "cell_type": "markdown",
   "metadata": {
    "slideshow": {
     "slide_type": "-"
    }
   },
   "source": [
    "* Excelente [Cheat Sheet](https://www.kaggle.com/getting-started/156692) de comandos muito úteis para manipulação de dados no `Pandas`\n",
    "* Neste [artigo](https://towardsdatascience.com/how-to-handle-missing-data-8646b18db0d4) do Towards Data Science vocês poderão aprender também outras técnicas de consideração de missings nos Datasets, com mais possibilidades de imputação e também os tradeoffs das técnicas.\n",
    "* Este [repositório de técnicas](https://towardsdatascience.com/a-collection-of-advanced-visualization-in-matplotlib-and-seaborn-with-examples-2150e6c3f323) avançadas de visualização será muito útil para vocês também, usem e abusem dos tipos de gráficos na hora de explorar os dados!\n",
    " "
   ]
  },
  {
   "cell_type": "markdown",
   "metadata": {
    "slideshow": {
     "slide_type": "slide"
    }
   },
   "source": [
    "# <center> Muito obrigado a todos!!!\n",
    "    \n",
    "<center> <img src=\"https://s.studiobinder.com/wp-content/uploads/2020/07/Michael-Scott-Wayne-Gretzsky-Quotes.jpg?resolution=1680,0.75\" width=1500>"
   ]
  }
 ],
 "metadata": {
  "celltoolbar": "Slideshow",
  "kernelspec": {
   "display_name": "Python 3",
   "language": "python",
   "name": "python3"
  },
  "language_info": {
   "codemirror_mode": {
    "name": "ipython",
    "version": 3
   },
   "file_extension": ".py",
   "mimetype": "text/x-python",
   "name": "python",
   "nbconvert_exporter": "python",
   "pygments_lexer": "ipython3",
   "version": "3.8.5"
  }
 },
 "nbformat": 4,
 "nbformat_minor": 4
}
