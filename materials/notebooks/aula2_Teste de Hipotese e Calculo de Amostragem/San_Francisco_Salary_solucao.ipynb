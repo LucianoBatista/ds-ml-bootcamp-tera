{
 "cells": [
  {
   "cell_type": "markdown",
   "metadata": {},
   "source": [
    "# San Francisco city employee salary data\n",
    "\n",
    "<br>\n",
    "<img src=\"img/san_francisco.png\">\n",
    "<br>\n",
    "\n",
    "Um dos conjuntos de dados mais populares que as cidades normalmente lançam é sua estrutura salarial.\n",
    "\n",
    "Foi processado e enviado o conjunto de dados de salários do SF para entender melhor como São Francisco paga a seus funcionários e o que isso pode nos informar sobre como a sede da cidade está sendo adminstrada.\n",
    "\n",
    "Inicilamente, pede-se a média salarial das 10 profissões com maior incidência no relatório, considerando o ano de 2014, com uma visualização de sua distribuição.\n",
    "\n",
    "Para download dos dados acesse [2011–2018 salaries for San Francisco](https://transparentcalifornia.com/salaries/san-francisco/)\n",
    "\n",
    "Alguns ângulos potencialmente interessantes de exploração:\n",
    "\n",
    "- Quantos trabalhadores ganham acima e abaixo da média na função de Deputy Sheriff?\n",
    "- Das 200 profissões com maior incidência, qual delas tem média de ganhos acima e abaixo da média do salário de Seputy Sheriff?\n",
    "\n",
    "Levante algumas hipóteses a sua escolha e comprove se é possível não-rejeitar ou rejeitar, respondendo se as médias são estatisticamente iguais/equivalentes ou estatisticamente diferentes/significativas."
   ]
  },
  {
   "cell_type": "code",
   "execution_count": null,
   "metadata": {},
   "outputs": [],
   "source": [
    "# importação das bibliotecas\n",
    "import pandas as pd\n",
    "import numpy as np\n",
    "\n",
    "import scipy\n",
    "from scipy import stats\n",
    "\n",
    "import warnings\n",
    "warnings.filterwarnings(\"ignore\")"
   ]
  },
  {
   "cell_type": "code",
   "execution_count": null,
   "metadata": {},
   "outputs": [],
   "source": [
    "# ler e armazenar os dados\n",
    "\n",
    "#%time salary = pd.read_csv(\"http://www.dropbox.com/s/as9lqe6u9fuxn5t/SanFrancisco_salaries.csv?dl=1\",sep=',',encoding= 'latin1')"
   ]
  },
  {
   "cell_type": "code",
   "execution_count": null,
   "metadata": {},
   "outputs": [],
   "source": [
    "%time salary = pd.read_csv(r'data/SanFrancisco_salaries.csv')"
   ]
  },
  {
   "cell_type": "code",
   "execution_count": null,
   "metadata": {},
   "outputs": [],
   "source": [
    "salary.info()"
   ]
  },
  {
   "cell_type": "code",
   "execution_count": null,
   "metadata": {},
   "outputs": [],
   "source": [
    "# renomear as colunas do DataFrame sem espaços\n",
    "salary.rename(columns={'Employee Name':'EmployeeName',\n",
    "                       'Job Title':'JobTitle',\n",
    "                       'Base Pay':'BasePay', \n",
    "                       'Overtime Pay':'OvertimePay',\n",
    "                       'Other Pay':'OtherPay',\n",
    "                       'Total Pay':'TotalPay',\n",
    "                       'Total Pay & Benefits':'TotalPayBenefits'},\n",
    "                       inplace=True)"
   ]
  },
  {
   "cell_type": "markdown",
   "metadata": {},
   "source": [
    "## 1. Cálculo da média dos salários das dez maiores ocupações do DataFrame"
   ]
  },
  {
   "cell_type": "code",
   "execution_count": null,
   "metadata": {},
   "outputs": [],
   "source": [
    "# contagem percentual dos dez maiores ocupações do DataFrame\n",
    "salary.JobTitle.value_counts(3).nlargest(10)"
   ]
  },
  {
   "cell_type": "code",
   "execution_count": null,
   "metadata": {},
   "outputs": [],
   "source": [
    "# armazenar a série das dez maiores ocupações em uma vairável jobs\n",
    "jobs = salary.JobTitle.value_counts(3).nlargest(10).index\n",
    "jobs"
   ]
  },
  {
   "cell_type": "code",
   "execution_count": null,
   "metadata": {},
   "outputs": [],
   "source": [
    "# cálculo da média dos salários das dez maiores ocupações \n",
    "\n",
    "keys = []\n",
    "values = []\n",
    "salaries_list = []\n",
    "\n",
    "for job in jobs:\n",
    "    keys.append(job)\n",
    "    values.append(round(salary[salary['JobTitle'] == job]['TotalPay'].mean(),2))\n",
    "    \n",
    "salaries_list = list(zip(keys, values))\n",
    "salaries_list"
   ]
  },
  {
   "cell_type": "code",
   "execution_count": null,
   "metadata": {},
   "outputs": [],
   "source": [
    "# armanzenando os salários das dez maiores ocupações em um DataFrame\n",
    "df_salaries = pd.DataFrame(salaries_list,columns=['profession','salary'])\n",
    "df_salaries.sort_values(by=['salary'],ascending=False)"
   ]
  },
  {
   "cell_type": "code",
   "execution_count": null,
   "metadata": {},
   "outputs": [],
   "source": [
    "# plotando as distribuições dos salários das dez maiores ocupações\n",
    "\n",
    "from matplotlib import pyplot\n",
    "%matplotlib inline\n",
    "\n",
    "bins = 200\n",
    "\n",
    "from matplotlib.pyplot import figure\n",
    "figure(figsize=(15, 10), dpi=80)\n",
    "\n",
    "for j in jobs:\n",
    "    ax = pyplot.hist(salary[salary['JobTitle'] == j]['TotalPay'], bins, alpha=0.5, label=j, range=(0,300000))\n",
    "\n",
    "pyplot.legend(loc='upper right')\n",
    "pyplot.show()"
   ]
  },
  {
   "cell_type": "markdown",
   "metadata": {},
   "source": [
    "## 2. Quantos trabalhadores ganham acima e abaixo da média na função de Deputy Sheriff?\n"
   ]
  },
  {
   "cell_type": "code",
   "execution_count": null,
   "metadata": {},
   "outputs": [],
   "source": [
    "# inofrmações básicas do DataFrame\n",
    "salary.info()"
   ]
  },
  {
   "cell_type": "code",
   "execution_count": null,
   "metadata": {},
   "outputs": [],
   "source": [
    "# Plotagem da distribuição dos salários da ocupação \"Deputy Sheriff\"\n",
    "salary[salary.JobTitle == 'Deputy Sheriff']['TotalPay'].hist(bins=50)"
   ]
  },
  {
   "cell_type": "code",
   "execution_count": null,
   "metadata": {},
   "outputs": [],
   "source": [
    "# cálculo da média e desvio-padrão da série de salários dos \"Deputy Sheriff\"\n",
    "\n",
    "x = salary[salary.JobTitle == 'Deputy Sheriff']['TotalPay']\n",
    "\n",
    "mu = np.mean(x)\n",
    "std = np.std(x)\n",
    "mu,std"
   ]
  },
  {
   "cell_type": "code",
   "execution_count": null,
   "metadata": {},
   "outputs": [],
   "source": [
    "# cálculo da densidade de probabilidade para dois desvios-padrão\n",
    "scipy.stats.norm(mu, std).pdf(2*std/(len(x)**0.5))"
   ]
  },
  {
   "cell_type": "code",
   "execution_count": null,
   "metadata": {},
   "outputs": [],
   "source": [
    "# cálculo do intervalo de confiança para 95% de nível de confiança\n",
    "scipy.stats.norm.interval(alpha=0.95,loc=mu,scale=std)"
   ]
  },
  {
   "cell_type": "markdown",
   "metadata": {},
   "source": [
    "Como a distribuição já tem um perfil normal, vamos padronizar os dados e fazer a inferência"
   ]
  },
  {
   "cell_type": "code",
   "execution_count": null,
   "metadata": {},
   "outputs": [],
   "source": [
    "# definição de um DataFrmae somente com os salários de 'Deputy Sheriff'\n",
    "sheriff = salary[salary.JobTitle == 'Deputy Sheriff']\n",
    "sheriff.head()"
   ]
  },
  {
   "cell_type": "code",
   "execution_count": null,
   "metadata": {},
   "outputs": [],
   "source": [
    "# padronizando os dados da série de salários de \"Deputy Sheriff\"\n",
    "sheriff['norm_pay'] = (sheriff['TotalPay'] - sheriff['TotalPay'].mean()) / sheriff['TotalPay'].std()\n",
    "sheriff['norm_pay'].hist(bins=50)"
   ]
  },
  {
   "cell_type": "code",
   "execution_count": null,
   "metadata": {},
   "outputs": [],
   "source": [
    "# verificando o número de observações\n",
    "len(sheriff['norm_pay'])"
   ]
  },
  {
   "cell_type": "code",
   "execution_count": null,
   "metadata": {},
   "outputs": [],
   "source": [
    "# calculando a média e o desvio-padrão dos salários de 'Deputy Sheriff'\n",
    "x = sheriff['norm_pay']\n",
    "\n",
    "mu = np.mean(x)\n",
    "std = np.std(x)\n",
    "mu,std"
   ]
  },
  {
   "cell_type": "code",
   "execution_count": null,
   "metadata": {},
   "outputs": [],
   "source": [
    "# Verificando o Z-score dos salários de 'Deputy Sheriff'\n",
    "\n",
    "scipy.stats.norm.interval(alpha=0.95,loc=mu,scale=std)"
   ]
  },
  {
   "cell_type": "code",
   "execution_count": null,
   "metadata": {},
   "outputs": [],
   "source": [
    "# Verificando o p-values dos salários de 'Deputy Sheriff'\n",
    "\n",
    "scipy.stats.norm(mu, std).pdf(2*std)"
   ]
  },
  {
   "cell_type": "markdown",
   "metadata": {},
   "source": [
    "## Deputy Sheriff que ganham abaixo da média salarial"
   ]
  },
  {
   "cell_type": "code",
   "execution_count": null,
   "metadata": {},
   "outputs": [],
   "source": [
    "# filtro dos \"Deputy Sheriff\" abaixo no salário médio com 95% de confiança\n",
    "sheriff[sheriff['norm_pay']<scipy.stats.norm.interval(alpha=0.95,loc=mu,scale=std)[0]]"
   ]
  },
  {
   "cell_type": "code",
   "execution_count": null,
   "metadata": {},
   "outputs": [],
   "source": [
    "len(sheriff[sheriff['norm_pay']<scipy.stats.norm.interval(alpha=0.95,loc=mu,scale=std)[0]])"
   ]
  },
  {
   "cell_type": "markdown",
   "metadata": {},
   "source": [
    "### Deputy Sheriff que ganham acima da média salarial"
   ]
  },
  {
   "cell_type": "code",
   "execution_count": null,
   "metadata": {},
   "outputs": [],
   "source": [
    "# filtro dos \"Deputy Sheriff\" acima no salário médio com 95% de confiança\n",
    "sheriff[sheriff['norm_pay']>scipy.stats.norm.interval(alpha=0.95,loc=mu,scale=std)[1]]"
   ]
  },
  {
   "cell_type": "code",
   "execution_count": null,
   "metadata": {},
   "outputs": [],
   "source": [
    "len(sheriff[sheriff['norm_pay']>scipy.stats.norm.interval(alpha=0.95,loc=mu,scale=std)[1]])"
   ]
  },
  {
   "cell_type": "markdown",
   "metadata": {},
   "source": [
    "## Das 200 profissões com maior incidência, qual delas tem média de ganhos acima e abaixo da média do salário de Seputy Sheriff?"
   ]
  },
  {
   "cell_type": "code",
   "execution_count": null,
   "metadata": {},
   "outputs": [],
   "source": [
    "# verificando todas as profissiões do DataSet\n",
    "salary.JobTitle.unique()"
   ]
  },
  {
   "cell_type": "code",
   "execution_count": null,
   "metadata": {},
   "outputs": [],
   "source": [
    "# normalizando todos os valores de salário\n",
    "salary['norm_pay'] = (salary['TotalPay'] - salary['TotalPay'].mean()) / salary['TotalPay'].std()\n",
    "salary['norm_pay'].hist(bins=50)"
   ]
  },
  {
   "cell_type": "code",
   "execution_count": null,
   "metadata": {},
   "outputs": [],
   "source": [
    "# verificando os dados\n",
    "salary.head()"
   ]
  },
  {
   "cell_type": "code",
   "execution_count": null,
   "metadata": {},
   "outputs": [],
   "source": [
    "# selecionando as 200 profissões com maior inciência\n",
    "salary.JobTitle.value_counts()[:200].index"
   ]
  },
  {
   "cell_type": "code",
   "execution_count": null,
   "metadata": {},
   "outputs": [],
   "source": [
    "# verificando a inferência nos salários de Deputy Sheriff e IS Engineer-Senior\n",
    "# utilizando o t-test para a média de duas séries\n",
    "\n",
    "stats.ttest_ind(a=salary.norm_pay[salary.JobTitle == 'Deputy Sheriff'],\n",
    "                b=salary.norm_pay[salary.JobTitle == 'IS Engineer-Senior'], \n",
    "                equal_var = False)"
   ]
  },
  {
   "cell_type": "markdown",
   "metadata": {},
   "source": [
    "Como o p-value é menor que 0.05 podemos afirmar que a média de salários de Deputy Sheriff e Engineer Senior é estatísticamente diferente."
   ]
  },
  {
   "cell_type": "code",
   "execution_count": null,
   "metadata": {},
   "outputs": [],
   "source": [
    "# verificando a inferência nos salários de Deputy Sheriff e Sr. Stationary Eng, Sew Plant\n",
    "stats.ttest_ind(a=salary.norm_pay[salary.JobTitle == 'Deputy Sheriff'],\n",
    "                b=salary.norm_pay[salary.JobTitle == 'Sr. Stationary Eng, Sew Plant'], \n",
    "                equal_var = False)"
   ]
  },
  {
   "cell_type": "markdown",
   "metadata": {},
   "source": [
    "Como o p-value é maior que 0.05 podemos afirmar que a média de salários de Deputy Sheriff e Engineer Senior é estatisticamente equivalente."
   ]
  },
  {
   "cell_type": "code",
   "execution_count": null,
   "metadata": {},
   "outputs": [],
   "source": [
    "# aplicando o t-test para médias de duas séries entre Deputy Sheriff e todos os JobTitles\n",
    "\n",
    "jobtitle = []\n",
    "pvalues = []\n",
    "for i in salary.JobTitle.value_counts()[:200].index:\n",
    "    jobtitle_tstats = stats.ttest_ind(a=salary.norm_pay[salary.JobTitle == 'Deputy Sheriff'],\n",
    "                                      b=salary.norm_pay[salary.JobTitle == i], \n",
    "                                      equal_var = False)\n",
    "    jobtitle.append(i)\n",
    "    pvalues.append(jobtitle_tstats[1].round(4))\n",
    "    \n",
    "# colocando os valores em um DataFrame e listando\n",
    "inference=pd.DataFrame(list(zip(jobtitle,pvalues)),columns =['jobtitle', 'pvalues'])\n",
    "inference.sort_values(by=['pvalues'],ascending=False)"
   ]
  },
  {
   "cell_type": "code",
   "execution_count": null,
   "metadata": {},
   "outputs": [],
   "source": [
    "# listando os valores que tem média de salário acima da média de Deputy Sheriff\n",
    "list(inference.jobtitle[inference.pvalues > 0.05])"
   ]
  },
  {
   "cell_type": "code",
   "execution_count": null,
   "metadata": {},
   "outputs": [],
   "source": [
    "# contando as profissões com média de salário acima da média do salário de Deputy Sheriff\n",
    "inference.jobtitle[inference.pvalues > 0.05].count()"
   ]
  },
  {
   "cell_type": "markdown",
   "metadata": {},
   "source": [
    "11 profissões tem média de remuneração acima de Deputy Sheriff com 95% de confiança."
   ]
  },
  {
   "cell_type": "code",
   "execution_count": null,
   "metadata": {},
   "outputs": [],
   "source": [
    "# listando os valores que tem média de salário abaixo da média de Deputy Sheriff\n",
    "list(inference.jobtitle[inference.pvalues < 0.05])"
   ]
  },
  {
   "cell_type": "code",
   "execution_count": null,
   "metadata": {},
   "outputs": [],
   "source": [
    "# contando as profissões com média de salário abaixo da média do salário de Deputy Sheriff\n",
    "inference.jobtitle[inference.pvalues < 0.05].count()"
   ]
  },
  {
   "cell_type": "markdown",
   "metadata": {},
   "source": [
    "189 profissões tem média de remuneração abaixo de Deputy Sheriff com 95% de confiança."
   ]
  },
  {
   "cell_type": "code",
   "execution_count": null,
   "metadata": {},
   "outputs": [],
   "source": []
  },
  {
   "cell_type": "code",
   "execution_count": null,
   "metadata": {},
   "outputs": [],
   "source": []
  },
  {
   "cell_type": "code",
   "execution_count": null,
   "metadata": {},
   "outputs": [],
   "source": []
  }
 ],
 "metadata": {
  "kernelspec": {
   "display_name": "Python 3",
   "language": "python",
   "name": "python3"
  },
  "language_info": {
   "codemirror_mode": {
    "name": "ipython",
    "version": 3
   },
   "file_extension": ".py",
   "mimetype": "text/x-python",
   "name": "python",
   "nbconvert_exporter": "python",
   "pygments_lexer": "ipython3",
   "version": "3.8.8"
  },
  "latex_envs": {
   "LaTeX_envs_menu_present": true,
   "autoclose": false,
   "autocomplete": true,
   "bibliofile": "biblio.bib",
   "cite_by": "apalike",
   "current_citInitial": 1,
   "eqLabelWithNumbers": true,
   "eqNumInitial": 1,
   "hotkeys": {
    "equation": "Ctrl-E",
    "itemize": "Ctrl-I"
   },
   "labels_anchors": false,
   "latex_user_defs": false,
   "report_style_numbering": false,
   "user_envs_cfg": false
  },
  "toc": {
   "base_numbering": 1,
   "nav_menu": {},
   "number_sections": true,
   "sideBar": true,
   "skip_h1_title": false,
   "title_cell": "Table of Contents",
   "title_sidebar": "Contents",
   "toc_cell": false,
   "toc_position": {},
   "toc_section_display": true,
   "toc_window_display": false
  },
  "varInspector": {
   "cols": {
    "lenName": 16,
    "lenType": 16,
    "lenVar": 40
   },
   "kernels_config": {
    "python": {
     "delete_cmd_postfix": "",
     "delete_cmd_prefix": "del ",
     "library": "var_list.py",
     "varRefreshCmd": "print(var_dic_list())"
    },
    "r": {
     "delete_cmd_postfix": ") ",
     "delete_cmd_prefix": "rm(",
     "library": "var_list.r",
     "varRefreshCmd": "cat(var_dic_list()) "
    }
   },
   "types_to_exclude": [
    "module",
    "function",
    "builtin_function_or_method",
    "instance",
    "_Feature"
   ],
   "window_display": false
  }
 },
 "nbformat": 4,
 "nbformat_minor": 4
}
