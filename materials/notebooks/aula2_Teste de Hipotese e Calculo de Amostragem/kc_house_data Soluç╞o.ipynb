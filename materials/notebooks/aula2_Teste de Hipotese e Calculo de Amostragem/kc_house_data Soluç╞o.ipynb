{
 "cells": [
  {
   "cell_type": "markdown",
   "metadata": {},
   "source": [
    "# House Sales Price\n",
    "\n",
    "<br>\n",
    "<img src=\"img/house_sale.png\">\n",
    "<br>\n",
    "\n",
    "Os preços de venda de casas de conjunto de dados para King County, Seattle. Inclui casas vendidas entre maio de 2014 e maio de 2015. O conjunto de dados fornece recursos que as casas têm e o preço pelo qual elas foram vendidas. Pode ser usado para modelar a previsão de preços de casas.\n",
    "\n",
    "O conjunto de dados está disponível em kaggle [House Sales in King County, USA](https://www.kaggle.com/harlfoxem/housesalesprediction)\n",
    "\n",
    "Alguns dos atributos capturados no conjunto de dados são\n",
    "\n",
    "- Número de quartos e banheiros\n",
    "- Total de pés quadrados \n",
    "- Quantos andares\n",
    "- Se tem um porão e tamanho do porão\n",
    "- Classificação da casa\n",
    "- Clima tem beira-mar e a qualidade da vista\n",
    "- Quando a casa foi construída e se a casa é renovada, se for renovado\n",
    "- Latitude e longitude\n",
    "- preço da casa\n",
    "- Quando a casa foi vendida\n",
    "\n",
    "Perguntas:\n",
    "\n",
    "\n",
    "- Quais as 10 casas com a melhor relação custo/benefício do preço por metro quadrado?\n",
    "- Qual a correlação do nível de classificação as casas em relação ao seu preço?\n",
    "- Podemos afirmar que estar de frente para o lago representa um fator que eleva o preço médio das casas, com uma confiança superior a 95%?\n",
    "\n",
    "Levante algumas hipóteses a sua escolha e comprove se é possível não-rejeitar ou rejeitar, respondendo se as médias são estatisticamente iguais/equivalentes ou estatisticamente diferentes/significativas.\n"
   ]
  },
  {
   "cell_type": "markdown",
   "metadata": {},
   "source": [
    "## Lendo e conhecendo o dataset"
   ]
  },
  {
   "cell_type": "code",
   "execution_count": null,
   "metadata": {},
   "outputs": [],
   "source": [
    "# improtando as bibliotecas\n",
    "import pandas as pd\n",
    "import numpy as np\n",
    "import matplotlib.pyplot as plt\n",
    "%matplotlib inline\n",
    "\n",
    "import warnings\n",
    "warnings.filterwarnings(\"ignore\")"
   ]
  },
  {
   "cell_type": "code",
   "execution_count": null,
   "metadata": {},
   "outputs": [],
   "source": [
    "# lendo e armazenando os dados\n",
    "#kc = pd.read_csv(r'../../../data/kc_house_data.csv')"
   ]
  },
  {
   "cell_type": "code",
   "execution_count": null,
   "metadata": {},
   "outputs": [],
   "source": [
    "# lendo e verificando os dados\n",
    "%time kc = pd.read_csv(\"http://www.dropbox.com/s/17lhj34voz3bbz7/kc_house_data.csv?dl=1\") "
   ]
  },
  {
   "cell_type": "code",
   "execution_count": null,
   "metadata": {},
   "outputs": [],
   "source": [
    "kc.head()   "
   ]
  },
  {
   "cell_type": "code",
   "execution_count": null,
   "metadata": {},
   "outputs": [],
   "source": [
    "# informações básicas do DataSet\n",
    "kc.info()"
   ]
  },
  {
   "cell_type": "code",
   "execution_count": null,
   "metadata": {},
   "outputs": [],
   "source": [
    "# verificando a distribuição dos dados de preço das casas\n",
    "kc.price.hist(bins=100)"
   ]
  },
  {
   "cell_type": "code",
   "execution_count": null,
   "metadata": {},
   "outputs": [],
   "source": [
    "# plotando uma dispersão dos dados de preços das casas\n",
    "plt.scatter(x=kc.id, y=kc.price, alpha=0.5)\n",
    "plt.show()"
   ]
  },
  {
   "cell_type": "markdown",
   "metadata": {},
   "source": [
    "## Quais as 10 casas com a melhor relação custo/benefício do preço por metro quadrado?"
   ]
  },
  {
   "cell_type": "code",
   "execution_count": null,
   "metadata": {},
   "outputs": [],
   "source": [
    "# plotando uma dispersão dos preços das casas pea área\n",
    "import seaborn as sns\n",
    "\n",
    "sns.jointplot(x=\"sqft_living\", y=\"price\", data=kc, kind = 'reg',fit_reg= True, size = 7)\n",
    "plt.show()"
   ]
  },
  {
   "cell_type": "code",
   "execution_count": null,
   "metadata": {},
   "outputs": [],
   "source": [
    "# criando cuma coluna de preços por pe's quadrados\n",
    "kc['price_per_sqft'] = kc.price / kc.sqft_living\n",
    "kc['price_per_sqft'].hist(bins=100)"
   ]
  },
  {
   "cell_type": "code",
   "execution_count": null,
   "metadata": {},
   "outputs": [],
   "source": [
    "# selecioando os dez valores com menor relação de preço por pé quadrado\n",
    "kc['price_per_sqft'].sort_values()[:10]"
   ]
  },
  {
   "cell_type": "markdown",
   "metadata": {},
   "source": [
    "A resposta é o índice das casas que estão mostradas no filtro acima: estas são as casas com melhor custo/benefício em relação à sua área."
   ]
  },
  {
   "cell_type": "code",
   "execution_count": null,
   "metadata": {},
   "outputs": [],
   "source": [
    "# selecioando as dez casas com menor relação de preço por pé quadrado\n",
    "kc['price_per_sqft'].sort_values()[:10].index.values"
   ]
  },
  {
   "cell_type": "markdown",
   "metadata": {},
   "source": [
    "## Qual a correlação do nível de classificação as casas em relação ao seu preço?"
   ]
  },
  {
   "cell_type": "code",
   "execution_count": null,
   "metadata": {},
   "outputs": [],
   "source": [
    "# contagem dos níveis de classificação das casas\n",
    "kc.grade.value_counts()"
   ]
  },
  {
   "cell_type": "code",
   "execution_count": null,
   "metadata": {},
   "outputs": [],
   "source": [
    "# dispersão dos preços das casas pela classificação\n",
    "sns.jointplot(x=\"grade\", y=\"price\", data=kc, kind = 'reg',fit_reg= True, size = 7)\n",
    "plt.show()"
   ]
  },
  {
   "cell_type": "code",
   "execution_count": null,
   "metadata": {},
   "outputs": [],
   "source": [
    "# cálculo da correlação entre os preços das casas e a classificação\n",
    "np.corrcoef(x=kc.grade, y=kc.price)"
   ]
  },
  {
   "cell_type": "markdown",
   "metadata": {},
   "source": [
    "## Podemos afirmar que estar de frente para o lago representa um fator que eleva o preço médio das casas, com uma confiança superior a 95%?"
   ]
  },
  {
   "cell_type": "code",
   "execution_count": null,
   "metadata": {},
   "outputs": [],
   "source": [
    "# informações básicas do DataFrame\n",
    "kc.info()"
   ]
  },
  {
   "cell_type": "code",
   "execution_count": null,
   "metadata": {},
   "outputs": [],
   "source": [
    "# contagem do número de casas de frente pra água\n",
    "kc.waterfront.value_counts()"
   ]
  },
  {
   "cell_type": "code",
   "execution_count": null,
   "metadata": {},
   "outputs": [],
   "source": [
    "# cálculo da média e desvio-padrão das casas de frente e não de frente pra água\n",
    "import scipy.stats as stats\n",
    "\n",
    "nwf_mu = kc[kc['waterfront'] == 0]['price'].mean()\n",
    "nwf_sigma = kc[kc['waterfront'] == 0]['price'].std()\n",
    "\n",
    "ywf_mu = kc[kc['waterfront'] == 1]['price'].mean()\n",
    "ywf_sigma = kc[kc['waterfront'] == 1]['price'].std()"
   ]
  },
  {
   "cell_type": "code",
   "execution_count": null,
   "metadata": {},
   "outputs": [],
   "source": [
    "# plotagem das duas curvas normais de distribuição do preço das casas de frente e não de frente pra água\n",
    "x = np.linspace(nwf_mu - 3*ywf_sigma, ywf_mu + 3*ywf_sigma, 100)\n",
    "\n",
    "fig, ax = plt.subplots(1, 1)\n",
    "ax.plot(x, stats.norm.pdf(x, nwf_mu, nwf_sigma),label='waterfront')\n",
    "ax.plot(x, stats.norm.pdf(x, ywf_mu, ywf_sigma),label='no-waterfront')\n",
    "ax.legend(loc='best', frameon=False)\n"
   ]
  },
  {
   "cell_type": "code",
   "execution_count": null,
   "metadata": {},
   "outputs": [],
   "source": [
    "# intervalo de confiança do preço das casas não de frente pra água\n",
    "stats.norm.interval(0.95, loc=nwf_mu, scale=nwf_sigma)"
   ]
  },
  {
   "cell_type": "code",
   "execution_count": null,
   "metadata": {},
   "outputs": [],
   "source": [
    "# média do preço das casas de frente pra água\n",
    "ywf_mu"
   ]
  },
  {
   "cell_type": "code",
   "execution_count": null,
   "metadata": {},
   "outputs": [],
   "source": [
    "# inferência estatístiva da média do preço das casas de frente pra água  \n",
    "# em comparação com a média do preço das casas não de frente pra água\n",
    "stats.norm.interval(0.95, loc=nwf_mu, scale=nwf_sigma)[0] < ywf_mu < stats.norm.interval(0.95, loc=nwf_mu, scale=nwf_sigma)[1]"
   ]
  },
  {
   "cell_type": "markdown",
   "metadata": {},
   "source": [
    "Como a média das casas de frente para a água não está no intervalo de confiança da distribuição normal das casas que não estão de frente para a água, podemos afirmar que estar de frente para a água eleva o preço das casas, com 95% de confiança."
   ]
  },
  {
   "cell_type": "code",
   "execution_count": null,
   "metadata": {},
   "outputs": [],
   "source": [
    "# teste t de inferência para saber de a média do preço das casas não de frente pra água \n",
    "# é equivalente à média do preço das casas de frente pra água\n",
    "\n",
    "a = kc[kc['waterfront'] == 0]['price']\n",
    "popmean = ywf_mu\n",
    "stats.ttest_1samp(a=a, popmean=popmean)"
   ]
  },
  {
   "cell_type": "markdown",
   "metadata": {},
   "source": [
    "Como o p_value é menos que 0.05, isso significa da a média do preço das casas não de frente pra água é diferente da média do preço das casas de frente pra água. \n",
    "\n",
    "\n",
    "Como o o valor do Statistic é a diferença entre a média do preço das casas da série de dados\"a\" (casas não de frente pra água) e o valor do \"popmean\" (média do preço das casas de frente pra água)."
   ]
  },
  {
   "cell_type": "markdown",
   "metadata": {},
   "source": [
    "### t-test para as médias de duas séries "
   ]
  },
  {
   "cell_type": "code",
   "execution_count": null,
   "metadata": {},
   "outputs": [],
   "source": [
    "# teste de inferência para a média das duas séries \n",
    "# Statistic = media_a - media_b\n",
    "stats.ttest_ind(a=kc[kc['waterfront'] == 0]['price'],\n",
    "                b=kc[kc['waterfront'] == 1]['price'], \n",
    "                equal_var = False)"
   ]
  },
  {
   "cell_type": "markdown",
   "metadata": {},
   "source": [
    "Para um p-value menor que 0.05, as médias das duas séries são estatísticamente diferentes! Isto significa que o preço médio das casas de frente para a água é estatísticamente superior ao preço médio das casas que não estão de frente para as casas, com 95% de confiança. \n",
    "\n",
    "\n",
    "Como o valor do teste Statistic é negativo, isso significa que a média das casas da série a (preço das casas não de frente pra água) é menor que a média de b (preço das casas de frente pra água)."
   ]
  },
  {
   "cell_type": "code",
   "execution_count": null,
   "metadata": {},
   "outputs": [],
   "source": []
  },
  {
   "cell_type": "code",
   "execution_count": null,
   "metadata": {},
   "outputs": [],
   "source": []
  },
  {
   "cell_type": "code",
   "execution_count": null,
   "metadata": {},
   "outputs": [],
   "source": []
  }
 ],
 "metadata": {
  "kernelspec": {
   "display_name": "Python 3",
   "language": "python",
   "name": "python3"
  },
  "language_info": {
   "codemirror_mode": {
    "name": "ipython",
    "version": 3
   },
   "file_extension": ".py",
   "mimetype": "text/x-python",
   "name": "python",
   "nbconvert_exporter": "python",
   "pygments_lexer": "ipython3",
   "version": "3.8.8"
  },
  "latex_envs": {
   "LaTeX_envs_menu_present": true,
   "autoclose": false,
   "autocomplete": true,
   "bibliofile": "biblio.bib",
   "cite_by": "apalike",
   "current_citInitial": 1,
   "eqLabelWithNumbers": true,
   "eqNumInitial": 1,
   "hotkeys": {
    "equation": "Ctrl-E",
    "itemize": "Ctrl-I"
   },
   "labels_anchors": false,
   "latex_user_defs": false,
   "report_style_numbering": false,
   "user_envs_cfg": false
  },
  "toc": {
   "base_numbering": 1,
   "nav_menu": {},
   "number_sections": true,
   "sideBar": true,
   "skip_h1_title": false,
   "title_cell": "Table of Contents",
   "title_sidebar": "Contents",
   "toc_cell": false,
   "toc_position": {},
   "toc_section_display": true,
   "toc_window_display": false
  },
  "varInspector": {
   "cols": {
    "lenName": 16,
    "lenType": 16,
    "lenVar": 40
   },
   "kernels_config": {
    "python": {
     "delete_cmd_postfix": "",
     "delete_cmd_prefix": "del ",
     "library": "var_list.py",
     "varRefreshCmd": "print(var_dic_list())"
    },
    "r": {
     "delete_cmd_postfix": ") ",
     "delete_cmd_prefix": "rm(",
     "library": "var_list.r",
     "varRefreshCmd": "cat(var_dic_list()) "
    }
   },
   "types_to_exclude": [
    "module",
    "function",
    "builtin_function_or_method",
    "instance",
    "_Feature"
   ],
   "window_display": false
  }
 },
 "nbformat": 4,
 "nbformat_minor": 4
}
