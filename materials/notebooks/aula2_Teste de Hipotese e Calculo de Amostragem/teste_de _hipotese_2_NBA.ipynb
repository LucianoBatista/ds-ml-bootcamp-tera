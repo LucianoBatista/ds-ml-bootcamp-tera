{
 "cells": [
  {
   "cell_type": "markdown",
   "metadata": {},
   "source": [
    "# Teste t de amostras independentes\n",
    "\n",
    "O teste t de amostras independentes compara as médias de dois grupos independentes para determinar se há evidência estatística de que as médias da população associada são significativamente diferentes. O teste t de amostras independentes é um teste paramétrico.\n",
    "\n",
    "Este teste também é conhecido como:\n",
    "\n",
    "- Teste t independente\n",
    "- Teste t de medidas independentes\n",
    "- Teste t independente de duas amostras\n",
    "- Teste t de Student\n",
    "- Teste t de duas amostras\n",
    "- Pontuações não correlacionadas t Teste\n",
    "- Teste t não pareado\n",
    "- Teste t não relacionado\n",
    "\n",
    "As variáveis usadas neste teste são conhecidas como:\n",
    "\n",
    "- Variável dependente ou variável de teste\n",
    "- Variável independente ou variável de agrupamento\n"
   ]
  },
  {
   "cell_type": "markdown",
   "metadata": {},
   "source": [
    "## Usos comuns\n",
    "\n",
    "O Teste t de amostras independentes é comumente usado para testar o seguinte:\n",
    "\n",
    "- Diferenças estatísticas entre as médias de dois grupos\n",
    "- Diferenças estatísticas entre as médias de duas intervenções\n",
    "- Diferenças estatísticas entre as médias de duas pontuações de mudança\n",
    "\n",
    "Nota: O teste t de amostras independentes pode comparar apenas as médias de dois (e apenas dois) grupos. Não pode fazer comparações entre mais de dois grupos. Se você deseja comparar as médias em mais de dois grupos, provavelmente desejará executar uma ANOVA."
   ]
  },
  {
   "cell_type": "markdown",
   "metadata": {},
   "source": [
    "## Requisitos de dados\n",
    "\n",
    "Seus dados devem atender aos seguintes requisitos:\n",
    "\n",
    "1. Variável dependente que é contínua (ou seja, nível de intervalo ou proporção)\n",
    "\n",
    "2. Variável independente que é categórica (ou seja, dois ou mais grupos)\n",
    "\n",
    "3. Casos que possuem valores nas variáveis ​​dependentes e independentes\n",
    "\n",
    "4. Amostras / grupos independentes (ou seja, independência das observações)\n",
    "\n",
    "    - Não há relação entre os sujeitos em cada amostra. Isso significa que:\n",
    "    \n",
    "        - Os sujeitos do primeiro grupo também não podem estar no segundo grupo\n",
    "        - Nenhum sujeito em qualquer grupo pode influenciar indivíduos no outro grupo\n",
    "        - Nenhum grupo pode influenciar o outro grupo    \n",
    "        \n",
    "    - A violação dessa suposição produzirá um valor p impreciso\n",
    "   \n",
    "   \n",
    "5. Amostra aleatória de dados da população\n",
    "\n",
    "\n",
    "6. Distribuição normal (aproximadamente) da variável dependente para cada grupo\n",
    "\n",
    "    - Distribuições populacionais não normais, especialmente aquelas de cauda grossa ou muito inclinada, reduzem consideravelmente o poder do teste\n",
    "    \n",
    "    - Entre amostras moderadas ou grandes, uma violação da normalidade ainda pode gerar valores de p precisos\n",
    "\n",
    "\n",
    "7. Homogeneidade das variações (ou seja, variações aproximadamente iguais entre os grupos)\n",
    "\n",
    "    - Quando essa suposição é violada e os tamanhos da amostra para cada grupo diferem, o valor de p não é confiável. No entanto, o resultado do teste t de amostras independentes também inclui uma estatística t aproximada que não se baseia em assumir variações iguais de população; essa estatística alternativa, chamada de estatística t do teste de Welch1, pode ser usada quando variações diferentes entre populações não podem ser assumidas. O teste t de Welch também é conhecido como teste t de variação desigual ou teste t de variação separada.\n",
    "\n",
    "\n",
    "8. Sem Oultiliers\n",
    "\n",
    "\n",
    "Nota: Quando uma ou mais das suposições do Teste t de amostras independentes não forem atendidas, convém executar o Teste U de Mann-Whitney não paramétrico.\n",
    "\n",
    "Os pesquisadores geralmente seguem várias regras práticas:\n",
    "\n",
    "- Cada grupo deve ter pelo menos 6 sujeitos, idealmente mais. As inferências para a população serão mais tênues com poucos sujeitos.\n",
    "\n",
    "- Um design mais ou menos equilibrado (ou seja, o mesmo número de sujeitos em cada grupo) é ideal. Projetos extremamente desequilibrados aumentam a possibilidade de violar qualquer um dos requisitos / suposições ameaçar a validade do teste t de amostras independentes."
   ]
  },
  {
   "cell_type": "markdown",
   "metadata": {},
   "source": [
    "-----------\n",
    "\n",
    "# Teste t\n",
    "\n",
    "A estatística de teste para um teste t de amostras independentes é denotada t. Na verdade, existem duas formas da estatística de teste para esse teste, dependendo se são assumidas variações iguais ou não. O SPSS produz as duas formas do teste, portanto, as duas formas do teste são descritas aqui. Observe que as hipóteses nulas e alternativas são idênticas para ambas as formas da estatística de teste."
   ]
  },
  {
   "cell_type": "markdown",
   "metadata": {},
   "source": [
    "## Variâncias iguais assumidas\n",
    "\n",
    "Quando se supõe que as duas amostras independentes sejam retiradas de populações com variações populacionais idênticas (ou seja, σ12 = σ22), a estatística de teste t é calculada como:\n",
    "\n",
    "$$ t = \\frac{ \\bar{x_1} - \\bar{x_2}} {s_p \\sqrt{ \\frac{1}{n_1} + \\frac{1}{n_1} } } $$"
   ]
  },
  {
   "cell_type": "markdown",
   "metadata": {},
   "source": [
    "com:\n",
    "    \n",
    "$$ s_p = \\sqrt{ \\frac{ (n_1 - 1) s_1^{2} + (n_2 - 1) s_2^{2} } { n_1 + n_2 - 2 } } $$"
   ]
  },
  {
   "cell_type": "markdown",
   "metadata": {},
   "source": [
    "- $ x_1 $: média da primeira série\n",
    "- $ x_2 $: média da segunda série\n",
    "- $ n_1 $: tamanho da primeira amostra\n",
    "- $ n_2 $: tamanho da segunda amostra\n",
    "- $ s_1 $: desvio-padrão da primeira amostra\n",
    "- $ s_2 $: desvio-padrão da segunda amostra\n",
    "- $ s_p $: média da segunda série\n",
    "\n",
    "O valor t calculado é então comparado ao valor crítico t da tabela de distribuição t com graus de liberdade df = n1 + n2 - 2 e o nível de confiança escolhido. Se o valor t calculado for maior que o valor t crítico, rejeitamos a hipótese nula.\n",
    "\n",
    "Observe que esta forma da estatística do teste T de amostras independentes assume variações iguais.\n",
    "\n",
    "Como assumimos variações de população iguais, não há problema em \"agrupar\" as variações de amostra (sp). No entanto, se essa suposição for violada, a estimativa da variância combinada pode não ser precisa, o que afetaria a precisão de nossa estatística de teste (e, portanto, o valor p)."
   ]
  },
  {
   "cell_type": "markdown",
   "metadata": {},
   "source": [
    "## Variâncias iguais não assumidas \n",
    "\n",
    "Quando se supõe que as duas amostras independentes sejam coletadas de populações com variações desiguais (ou seja, $σ_1$ ≠ $σ_2$), a estatística de teste t é calculada como:\n",
    "\n",
    "$$ t = \\frac{ \\bar{x_1} - \\bar{x_2} } { \\sqrt{ \\frac{{s_1}^2}{n_1} + \\frac{{s_2}^2}{n_2} } } $$"
   ]
  },
  {
   "cell_type": "markdown",
   "metadata": {},
   "source": [
    "e nível de confiança escolhido. Se o valor t calculado> valor t crítico, rejeitamos a hipótese nula.\n",
    "\n",
    "Observe que esta forma da estatística do teste T de amostras independentes não assume variações iguais. É por isso que o denominador da estatística de teste e os graus de liberdade do valor crítico de t são diferentes da forma de variâncias iguais da estatística de teste.\n",
    "\n",
    "Para artigo original acedsse [SPSS TUTORIALS: INDEPENDENT SAMPLES T TEST](https://libguides.library.kent.edu/SPSS/IndependentTTest)"
   ]
  },
  {
   "cell_type": "markdown",
   "metadata": {},
   "source": [
    "## scipy.stats.ttest_ind\n",
    "\n",
    "Cálculo o teste T para as médias de duas amostras independentes de pontuação.\n",
    "\n",
    "Este é um teste bilateral para a hipótese nula de que 2 amostras independentes têm valores médios (esperados) idênticos. Este teste pressupõe que as populações tenham variações idênticas por padrão.\n",
    "\n",
    "Para a documentação oficial acesse [scipy.stats.ttest_ind](https://docs.scipy.org/doc/scipy/reference/generated/scipy.stats.ttest_ind.html)"
   ]
  },
  {
   "cell_type": "markdown",
   "metadata": {},
   "source": [
    "------------------\n",
    "\n",
    "# Exemplo Prático\n",
    "\n",
    "# NBA - National Basketball Association\n",
    "\n",
    "*fonte: Wikipedia*\n",
    "\n",
    "National Basketball Association (em português: Associação Nacional de Basquetebol; abreviação oficial: NBA) é a principal liga de basquetebol profissional da América do Norte. Com 30 franquias sendo membros da mesma (29 nos Estados Unidos e 1 no Canadá), a NBA também é considerada a principal liga de basquete do mundo. É um membro ativo da USA Basketball (USAB), que é reconhecida pela FIBA (a Federação Internacional de Basquetebol) como a entidade máxima e organizadora do basquetebol nos Estados Unidos. A NBA é uma das 4 'major leagues' de esporte profissional na América do Norte. Os jogadores da NBA são os mais bem pagos esportistas do mundo, por salário médio anual.\n",
    "\n",
    "## NBA player stats 2017-18\n",
    "\n",
    "<br>\n",
    "<img src=\"img/nba_kaggle.png\" />\n",
    "<br>\n",
    "\n",
    "Arquivo com os dados do salários dos jogadores da NBA durante a temporada 2017-18."
   ]
  },
  {
   "cell_type": "code",
   "execution_count": null,
   "metadata": {},
   "outputs": [],
   "source": [
    "from IPython.display import HTML\n",
    "\n",
    "HTML('<div style=\"max-width:854px\"><div style=\"position:relative;height:0;padding-bottom:56.25%\"><iframe src=\"https://embed.ted.com/talks/rajiv_maheswaran_the_math_behind_basketball_s_wildest_moves\" width=\"854\" height=\"480\" style=\"position:absolute;left:0;top:0;width:100%;height:100%\" frameborder=\"0\" scrolling=\"no\" allowfullscreen></iframe></div></div>')"
   ]
  },
  {
   "cell_type": "markdown",
   "metadata": {},
   "source": [
    "# Jogadores mais bem pagos da NBA por temporada\n",
    "\n",
    "_fonte: Wikipédia, a enciclopédia livre_\n",
    "\n",
    "\n",
    "Os jogadores mais bem pagos da NBA por temporada eclipsaram recentemente USD 40 milhões. Larry Bird foi o primeiro jogador a ganhar USD 5 milhões ou mais com um salário de USD 7.070.000 na temporada 1991/92. Magic Johnson se tornou o primeiro jogador a ganhar USD 10 milhões ou mais na temporada 94-95 com um salário de USD 14.660.000. Patrick Ewing se tornou o primeiro jogador a ganhar USD 15 milhões ou mais na temporada 95-96, com um salário de USD 18.724.000. Michael Jordan foi o primeiro jogador da NBA a assinar um contrato no valor de mais de vinte milhões e, na verdade, ele conseguiu trinta milhões de dólares também em uma temporada, este foi um recorde que ele havia mantido por 15 anos. Durante a temporada 1997-98, a Jordan ganhou USD 33.140.000, que ainda é o máximo que um jogador da NBA ganhou em um contrato de 1 ano, a Jordan também detém o recorde do segundo maior contrato de 1 ano em USD 30.140.000 na temporada 1996-97. Kobe Bryant se tornou apenas o segundo jogador a alcançar este marco quando a temporada 2013-2014 começou. LeBron James tornou-se o terceiro na temporada 2016-17. Stephen Curry se tornou o primeiro jogador a atingir USD 40 milhões por ano quando assinou um contrato recorde de USD 201 milhões em 2017, começando com USD 34.682.550 na temporada 2017-18 e terminando com os maiores ganhos da temporada 2021-22. com um pagamento recorde de USD 45.780.966."
   ]
  },
  {
   "cell_type": "markdown",
   "metadata": {},
   "source": [
    "Começando na temporada de 1984-85 da NBA, o primeiro teto salarial da NBA foi introduzido. O teto salarial da NBA é o valor máximo que cada time da NBA pode gastar com seus jogadores na temporada. No entanto, a NBA usa um teto salarial \"soft\", o que significa que as \"exceções salariais\" significativas permitem que as equipes da NBA excedam seu valor alocado para assinar os jogadores. O limite salarial é determinado durante a entressafra, mas, como dito anteriormente, é passível de mudança.\n",
    "\n",
    "Uma exceção é necessária para assinar um jogador por um contrato que exceda o limite de teto salarial do \"soft cap\". A exceção Larry Bird, mais comumente conhecida como Bird Rights, permite às equipes re-assinar um jogador atual somente se ele tiver jogado para aquela equipe em particular por um período mínimo de três anos. Outra exceção conhecida como exceção de nível intermediário permite que as equipes que estão acima do teto salarial assinem um ou mais jogadores, desde que não excedam o valor total do salário médio da NBA. Em seguida, a exceção bianual pode ser usada pelas equipes a cada dois anos para assinar um agente(s) livre(s) por até dois anos em um valor definido pela NBA. Finalmente, a exceção do novato permite que qualquer equipe da NBA assine sua primeira rodada de draft para um contrato baseado em uma escala previamente estabelecida pela NBA. Outra opção para as equipes seria atribuir jogadores a um contrato de salário mínimo atribuído pela liga por um período máximo de dois anos.\n",
    "\n",
    "De acordo com o desempenho de temporada da NBA de 2010-11, os melhores jogadores da liga não eram seus jogadores mais bem pagos. Todos os anos, há dez jogadores selecionados para uma das duas equipes All-NBA. Dos dez jogadores escolhidos naquele ano, Kobe Bryant foi o único jogador que também esteve entre os dez mais bem pagos do jogo durante a temporada de 2010-11 da NBA."
   ]
  },
  {
   "cell_type": "markdown",
   "metadata": {},
   "source": [
    "## Vamos trabalhar com os dados de salário dos jogadores da NBA, para inferir quantos jogadores ganham acima ou abaixo da média\n",
    "\n",
    "- O exercício será o de descobrir quantos jogadores têm salário acima e abaixo da média, com 95% de confiança\n",
    "\n",
    "Para o download dos dados acesse [NBA Player Salary Dataset (2017 - 2018)](https://www.kaggle.com/koki25ando/salary/download)"
   ]
  },
  {
   "cell_type": "markdown",
   "metadata": {},
   "source": [
    "# Importando as bibliotecas e lendo os dados"
   ]
  },
  {
   "cell_type": "code",
   "execution_count": null,
   "metadata": {},
   "outputs": [],
   "source": [
    "# importando as bibiotecas\n",
    "import numpy as np # linear algebra\n",
    "import pandas as pd # data processing, CSV file I/O (e.g. pd.read_csv)\n",
    "import scipy\n",
    "from scipy import stats\n",
    "import matplotlib.pyplot as plt\n",
    "%matplotlib inline\n",
    "# ignorando os warnings\n",
    "import warnings\n",
    "warnings.filterwarnings(\"ignore\")\n",
    "\n",
    "# Input data files are available in the \"../input/\" directory.\n",
    "# For example, running this (by clicking run or pressing Shift+Enter) will list the files in the input directory\n"
   ]
  },
  {
   "cell_type": "code",
   "execution_count": null,
   "metadata": {},
   "outputs": [],
   "source": [
    "# lendo e armazenando os dados\n",
    "#df = pd.read_csv(r'../../../data/NBA_season1718_salary.csv')\n",
    "\n",
    "#df_raw = pd.read_csv(\"http://www.dropbox.com/s/6roj44y5vek0fhi/NBA_season1718_salary.csv?dl=1\",sep=',',encoding= 'latin1')\n",
    "#df_raw.head()"
   ]
  },
  {
   "cell_type": "code",
   "execution_count": null,
   "metadata": {},
   "outputs": [],
   "source": [
    "# Lendo e armazenando os daods em um DataFrame\n",
    "df_raw = pd.read_csv('data/NBA_season1718_salary.csv')"
   ]
  },
  {
   "cell_type": "code",
   "execution_count": null,
   "metadata": {},
   "outputs": [],
   "source": [
    "# criando uma cópia do DataFrame para não precisar \n",
    "# importar os dados novamente em caso de necessidade\n",
    "df=df_raw.copy()"
   ]
  },
  {
   "cell_type": "code",
   "execution_count": null,
   "metadata": {},
   "outputs": [],
   "source": [
    "# verificando o tamnho do DataFrame\n",
    "df.shape"
   ]
  },
  {
   "cell_type": "code",
   "execution_count": null,
   "metadata": {},
   "outputs": [],
   "source": [
    "df.info()"
   ]
  },
  {
   "cell_type": "markdown",
   "metadata": {},
   "source": [
    "## Tratando o DataSet e os nomes das colunas"
   ]
  },
  {
   "cell_type": "code",
   "execution_count": null,
   "metadata": {},
   "outputs": [],
   "source": [
    "# dropando a coluna ID\n",
    "df = df.drop('Unnamed: 0',axis=1)"
   ]
  },
  {
   "cell_type": "code",
   "execution_count": null,
   "metadata": {},
   "outputs": [],
   "source": [
    "# renomeando as colunas\n",
    "df.rename(columns={'season17_18': 'salary', \n",
    "                   'Tm': 'team', \n",
    "                   'Player': 'player'}, \n",
    "          inplace=True)"
   ]
  },
  {
   "cell_type": "code",
   "execution_count": null,
   "metadata": {},
   "outputs": [],
   "source": [
    "# verificando os dados\n",
    "df.head()"
   ]
  },
  {
   "cell_type": "code",
   "execution_count": null,
   "metadata": {},
   "outputs": [],
   "source": [
    "# identificando os jogadores que tem mais de um contrato na NBA\n",
    "df.player.value_counts()"
   ]
  },
  {
   "cell_type": "code",
   "execution_count": null,
   "metadata": {},
   "outputs": [],
   "source": [
    "# verificando o número de jogadores da NBA na temporada\n",
    "df['player'].nunique()"
   ]
  },
  {
   "cell_type": "code",
   "execution_count": null,
   "metadata": {},
   "outputs": [],
   "source": [
    "# verificando o número de jogadores da NBA na temporada com groupby\n",
    "len(df.groupby(['player']))"
   ]
  },
  {
   "cell_type": "code",
   "execution_count": null,
   "metadata": {},
   "outputs": [],
   "source": [
    "# calculando o número de jogadores com mais de um contrato\n",
    "df.shape[0] - len(df.groupby(['player']))"
   ]
  },
  {
   "cell_type": "markdown",
   "metadata": {},
   "source": [
    "## Visualizando o número de contratos por time"
   ]
  },
  {
   "cell_type": "code",
   "execution_count": null,
   "metadata": {},
   "outputs": [],
   "source": [
    "# plotando o número de contratos por time \n",
    "import seaborn as sns\n",
    "plt.figure(figsize=(15,6))\n",
    "sns.countplot(df.team)\n",
    "plt.show()"
   ]
  },
  {
   "cell_type": "markdown",
   "metadata": {},
   "source": [
    "## Visualizando o tipo de distribuição para os salários"
   ]
  },
  {
   "cell_type": "code",
   "execution_count": null,
   "metadata": {},
   "outputs": [],
   "source": [
    "# plotando uma distribuição densidade de probabilidade para os salários\n",
    "\n",
    "# criando uma figura com um gráfico \n",
    "fig, ax = plt.subplots(1, 1,figsize=(10,5))\n",
    "# definindo os valores de x\n",
    "x = df.salary\n",
    "# calculando a média\n",
    "mu = df.salary.mean()\n",
    "# calculando o desvio padrão populacional\n",
    "sigma = df.salary.std()\n",
    "# plotando o gráfico com os valores de x e os valores normais da densidade de probabilidade\n",
    "ax.plot(x, stats.norm.pdf(x=x, loc=mu, scale=sigma),label='salary')\n",
    "# imprimindo a legenda\n",
    "ax.legend(loc='best', frameon=False,fontsize = 20)\n",
    "# mostrando o gráfico\n",
    "plt.show()"
   ]
  },
  {
   "cell_type": "markdown",
   "metadata": {},
   "source": [
    "Percebemos que a distribuição se parece com uma normal, mas tem uma forte assimetria para a direita"
   ]
  },
  {
   "cell_type": "markdown",
   "metadata": {},
   "source": [
    "## Transformando os dados em uma distribuição normal por média das médias\n",
    "\n",
    "Não conseguimos trabalhar dessa forma pois perdemos a interpretabilidade dos dados"
   ]
  },
  {
   "cell_type": "code",
   "execution_count": null,
   "metadata": {},
   "outputs": [],
   "source": [
    "# identificando o valor da média dos salários\n",
    "df.salary.mean()"
   ]
  },
  {
   "cell_type": "code",
   "execution_count": null,
   "metadata": {},
   "outputs": [],
   "source": [
    "# definindo uma função para tirar um sample \n",
    "def sample(df, n):\n",
    "    index = np.random.choice(range(0, len(df)), size = n)\n",
    "    df_s = np.array(df.iloc[index,])\n",
    "    return(df_s)\n",
    "\n",
    "# calculando a média dos samples\n",
    "def samp_mean(df, sample_size, num_samples):\n",
    "    means = []\n",
    "    for reps in range(0, num_samples):\n",
    "        s_ = sample(df, sample_size)\n",
    "        m_ = s_.mean()\n",
    "        means.append(m_)\n",
    "    return(means)\n",
    "\n",
    "# definindo o tamnho dos samples e da quantidade de samples\n",
    "sample_size = 500\n",
    "num_samples = 1000\n",
    "\n",
    "# definindo um DataFrame e plotando um histograma\n",
    "sample_df = pd.Series(samp_mean(df['salary'], sample_size, num_samples))\n",
    "sample_df.plot.hist(bins = 30)\n",
    "# calculando as médias \n",
    "sample_df.mean(), sample_df.std()"
   ]
  },
  {
   "cell_type": "code",
   "execution_count": null,
   "metadata": {},
   "outputs": [],
   "source": [
    "# vericando os valores do dataFrame sample\n",
    "sample_df.head()"
   ]
  },
  {
   "cell_type": "code",
   "execution_count": null,
   "metadata": {},
   "outputs": [],
   "source": [
    "# verificando o valor da média dos dados\n",
    "sample_df.mean()"
   ]
  },
  {
   "cell_type": "markdown",
   "metadata": {},
   "source": [
    "Dessa forma conseguimos normalizar os dados mas não conseguimos utilizar a variável por ser impossível interpretar os resultados."
   ]
  },
  {
   "cell_type": "markdown",
   "metadata": {},
   "source": [
    "## Normalizando os dados de salário\n",
    "\n",
    "Mudando a estratégia de normalização, vamos utilizar a função LOG (logarítmo natural) para corrigir a assimetria à direita e depois normalizar a coluna inteira (subtrair a média e dividir pelo desvio-padrão)"
   ]
  },
  {
   "cell_type": "code",
   "execution_count": null,
   "metadata": {},
   "outputs": [],
   "source": [
    "#list(df.salary)"
   ]
  },
  {
   "cell_type": "code",
   "execution_count": null,
   "metadata": {},
   "outputs": [],
   "source": [
    "# plotando a distribuição da série de dados de salário\n",
    "df['salary'].plot.hist(bins=100)"
   ]
  },
  {
   "cell_type": "markdown",
   "metadata": {},
   "source": [
    "### Teste de Shapiro_Wilks\n",
    "\n",
    "O test shapiro-wilks é um indicador de quão bem os nossos dados se ajustam à distribuição normal. O primeiro parâmetro da estatística W (quando está próxiomo de 1 a distribuição é Gaussiana), e o segundo parâmetro é o p_valor (quando p_valor é maior que 0.05, a distribuição é Gaussiana)."
   ]
  },
  {
   "cell_type": "code",
   "execution_count": null,
   "metadata": {},
   "outputs": [],
   "source": [
    "# fazendo o teste de normalidade de shapiro\n",
    "stats.shapiro(df['salary'])"
   ]
  },
  {
   "cell_type": "markdown",
   "metadata": {},
   "source": [
    "Pelo teste de Shapiro a distribuição não é normal, por isso vamos utilizar técnicas de transformação para melhorar os resultados"
   ]
  },
  {
   "cell_type": "code",
   "execution_count": null,
   "metadata": {},
   "outputs": [],
   "source": [
    "# aplicando o LOG na série de dados de salário e plotando uma distribuição\n",
    "# transformação matemática de NORMALIZAÇÃO dos dados\n",
    "df['log_salary'] = np.log(df['salary'])\n",
    "df['log_salary'].plot.hist(bins=20)"
   ]
  },
  {
   "cell_type": "markdown",
   "metadata": {},
   "source": [
    "Pelo teste de normalidade de shapiro os dados parecem estar mais próximos de uma distribuição normal."
   ]
  },
  {
   "cell_type": "code",
   "execution_count": null,
   "metadata": {},
   "outputs": [],
   "source": [
    "# criando uma variável com o valor PADRONIZADO de log_salary\n",
    "# valor PADRONIZADO significa subtrair a média e dividir pelo desvio padrão\n",
    "df['normal_log_salary'] = ( df['log_salary'] - df['log_salary'].mean() ) / df['log_salary'].std()\n",
    "df['normal_log_salary'].plot.hist(bins=20)"
   ]
  },
  {
   "cell_type": "code",
   "execution_count": null,
   "metadata": {},
   "outputs": [],
   "source": [
    "# verificando os dados\n",
    "df.head()"
   ]
  },
  {
   "cell_type": "code",
   "execution_count": null,
   "metadata": {},
   "outputs": [],
   "source": [
    "# fazendo o teste de normalidade de shapiro\n",
    "import scipy.stats\n",
    "resultado_normal = stats.shapiro(df['normal_log_salary'])\n",
    "resultado_normal"
   ]
  },
  {
   "cell_type": "markdown",
   "metadata": {},
   "source": [
    "A normalização parece que funcionou mais para re-scaling dos dados do que propriamente para correção de assimetria."
   ]
  },
  {
   "cell_type": "markdown",
   "metadata": {},
   "source": [
    "### Verificando a média e o desvio-padrão"
   ]
  },
  {
   "cell_type": "code",
   "execution_count": null,
   "metadata": {},
   "outputs": [],
   "source": [
    "# definindo uma variável para os dados de salários transformados e normalizados\n",
    "x = df['normal_log_salary']\n",
    "# calculando a média\n",
    "mu = np.mean(x)\n",
    "# calculando o desvio-padrão populacional\n",
    "std = np.std(x)\n",
    "#Imprimindo a média e o desvio-padrão\n",
    "round(mu,3),round(std,3)"
   ]
  },
  {
   "cell_type": "markdown",
   "metadata": {},
   "source": [
    "### Verificando o Z-score"
   ]
  },
  {
   "cell_type": "code",
   "execution_count": null,
   "metadata": {},
   "outputs": [],
   "source": [
    "# calculando o intervalo de confiança para os dados normalizados\n",
    "# é esperado os valores de z_score\n",
    "scipy.stats.norm.interval(alpha=0.95,loc=mu,scale=std)"
   ]
  },
  {
   "cell_type": "code",
   "execution_count": null,
   "metadata": {},
   "outputs": [],
   "source": [
    "# armazenando os dados em variáveis \n",
    "Z_score_inf = scipy.stats.norm.interval(alpha=0.95,loc=mu,scale=std)[0]\n",
    "Z_score_sup = scipy.stats.norm.interval(alpha=0.95,loc=mu,scale=std)[1]\n",
    "Z_score_inf,Z_score_sup"
   ]
  },
  {
   "cell_type": "markdown",
   "metadata": {},
   "source": [
    "Com os limites para o Alpha de 0.95 conseguimos executar a inferência e descobrir quais jogadores têm salário acima ou abaixo da média com um nível de confiança de 95%."
   ]
  },
  {
   "cell_type": "markdown",
   "metadata": {},
   "source": [
    "### Jogadores que ganham abaixo da média"
   ]
  },
  {
   "cell_type": "code",
   "execution_count": null,
   "metadata": {},
   "outputs": [],
   "source": [
    "# fazendo a inferência para os dados de normal_log_salario \n",
    "# para salários abaixo do limite inferior com 95% de confiança\n",
    "df[df['normal_log_salary']<Z_score_inf]"
   ]
  },
  {
   "cell_type": "code",
   "execution_count": null,
   "metadata": {},
   "outputs": [],
   "source": [
    "# quantidade de jogadores abaixo da média com 95% de confiança\n",
    "df[df['normal_log_salary']<Z_score_inf].shape"
   ]
  },
  {
   "cell_type": "code",
   "execution_count": null,
   "metadata": {},
   "outputs": [],
   "source": [
    "# jogadores que ganham abaixo da média por time\n",
    "df[df['normal_log_salary']<Z_score_inf]['team'].value_counts()"
   ]
  },
  {
   "cell_type": "markdown",
   "metadata": {},
   "source": [
    "Podemos concluir que temos 45 contratos abaixo da média."
   ]
  },
  {
   "cell_type": "markdown",
   "metadata": {},
   "source": [
    "### Jogadores que ganham acima da média"
   ]
  },
  {
   "cell_type": "code",
   "execution_count": null,
   "metadata": {},
   "outputs": [],
   "source": [
    "# fazendo a inferência para os dados de normal_log_salario \n",
    "# para salários acima do limite superior\n",
    "df[df['normal_log_salary']>Z_score_sup]"
   ]
  },
  {
   "cell_type": "markdown",
   "metadata": {},
   "source": [
    "Nenhum jogador ganha acima da média com um grau de confiança de 95%."
   ]
  },
  {
   "cell_type": "code",
   "execution_count": null,
   "metadata": {},
   "outputs": [],
   "source": [
    "# verificando os jogadores com melhores salários da liga\n",
    "df.sort_values('normal_log_salary',ascending = False).head()"
   ]
  },
  {
   "cell_type": "markdown",
   "metadata": {},
   "source": [
    "### Explorando o salário mais alto do DataSet\n",
    "\n",
    "Como não temos jogadores com salário acima da média, vamos descobrir qual o nível de confiança necessário para o máximo salário "
   ]
  },
  {
   "cell_type": "code",
   "execution_count": null,
   "metadata": {},
   "outputs": [],
   "source": [
    "# Verificando o valor do Log salário normalizado para salário máximo\n",
    "df['normal_log_salary'].max()"
   ]
  },
  {
   "cell_type": "code",
   "execution_count": null,
   "metadata": {},
   "outputs": [],
   "source": [
    "# Cálculo do p-valor para o salário máximo\n",
    "scipy.stats.norm(mu, std).sf(df['normal_log_salary'].max())"
   ]
  },
  {
   "cell_type": "code",
   "execution_count": null,
   "metadata": {},
   "outputs": [],
   "source": [
    "# Cálculo do nível de confiança para o satário máximo\n",
    "alpha_max = 1-scipy.stats.norm(mu, std).sf(df['normal_log_salary'].max())\n",
    "alpha_max"
   ]
  },
  {
   "cell_type": "code",
   "execution_count": null,
   "metadata": {},
   "outputs": [],
   "source": [
    "# imprimindo as conclusões \n",
    "print ('Temos 95% de certeza que não existe nenhum jogador ganhando mais que a média.\\\n",
    " O jogador mais bem remunerado está com um nível de significância de', round(alpha_max*100,3), '%')"
   ]
  },
  {
   "cell_type": "markdown",
   "metadata": {},
   "source": [
    "Identificamos que o salário mais alto da NBA fica 0.5% abaixo do limite superior, considerando um grau de confiança de 95%, ou seja, não temos nenhum jogador que ganhe acima da média mais dois desvios-padrão da série de valores com todos os salários de todos os jogadores da NBA. \n",
    "\n",
    "Concluímos portanto que apresar que não estar explícito nos artigos sobre as normativas reguladoras de salário dos jogadores, existe uma inferência estatística de limita o teto dos jogadores da NBA em contrato com seus times."
   ]
  },
  {
   "cell_type": "markdown",
   "metadata": {},
   "source": [
    "# Olhando para os times individualmente\n",
    "\n",
    "<br>\n",
    "<img src=\"img/nba_teams.png\" />\n",
    "<br>"
   ]
  },
  {
   "cell_type": "code",
   "execution_count": null,
   "metadata": {},
   "outputs": [],
   "source": [
    "# definindo a figura para o gráfico\n",
    "fig, ax = plt.subplots(1, 1,figsize=(30,20))\n",
    "\n",
    "# fezendo uma função para plotar a disbribuições para todos os times\n",
    "for i in df.team.unique():\n",
    "    x = df[df.team == i]['salary']\n",
    "    mu = df[df.team == i]['salary'].mean()\n",
    "    sigma = df[df.team == i]['salary'].std()\n",
    "    ax.plot(x, stats.norm.pdf(x, mu, sigma),label=i)\n",
    "# plotando as legendas\n",
    "ax.legend(loc='best', frameon=False,fontsize = 20)"
   ]
  },
  {
   "cell_type": "code",
   "execution_count": null,
   "metadata": {},
   "outputs": [],
   "source": [
    "# cálculo dos valores totais de salário para cada time\n",
    "# colocando os valores em um DataFrame\n",
    "sum_list=[]\n",
    "team_list=[]\n",
    "for i in df.team.unique():\n",
    "    sum= df[df.team==i]['salary'].sum()\n",
    "    team=i\n",
    "    sum_list.append(sum)\n",
    "    team_list.append(team)\n",
    "    \n",
    "fair_play=pd.DataFrame(list(zip(team_list,sum_list)),columns=['team','total_salary'])\n",
    "fair_play.sort_values(by=['total_salary'],ascending=False)"
   ]
  },
  {
   "cell_type": "markdown",
   "metadata": {},
   "source": [
    "## Fazendo a inferência para o GSW (Golden State Warriors)"
   ]
  },
  {
   "cell_type": "code",
   "execution_count": null,
   "metadata": {},
   "outputs": [],
   "source": [
    "# considerando os dados somente do Golden State Warriors\n",
    "gsw = df[df.team == 'GSW']\n",
    "gsw"
   ]
  },
  {
   "cell_type": "code",
   "execution_count": null,
   "metadata": {},
   "outputs": [],
   "source": [
    "# verificando o tamanho dos dados\n",
    "gsw.shape"
   ]
  },
  {
   "cell_type": "code",
   "execution_count": null,
   "metadata": {},
   "outputs": [],
   "source": [
    "# plotando uma distribuição dos dados\n",
    "gsw.salary.plot.hist(bins=16)"
   ]
  },
  {
   "cell_type": "markdown",
   "metadata": {},
   "source": [
    "## Normalizando os dados"
   ]
  },
  {
   "cell_type": "code",
   "execution_count": null,
   "metadata": {},
   "outputs": [],
   "source": [
    "# criando uma coluna com o LOG salary e plotando uma distribuição\n",
    "gsw['log_salary'] = np.log(gsw['salary'])\n",
    "gsw['log_salary'].hist(bins=16)"
   ]
  },
  {
   "cell_type": "code",
   "execution_count": null,
   "metadata": {},
   "outputs": [],
   "source": [
    "# criando uma coluna com o LOG salary normalizado e plotando uma distribuição\n",
    "gsw['normal_log_salary'] = ( gsw['log_salary'] - gsw['log_salary'].mean() ) / gsw['log_salary'].std()\n",
    "gsw['normal_log_salary'].plot.hist()"
   ]
  },
  {
   "cell_type": "markdown",
   "metadata": {},
   "source": [
    "## Verificando as estatísticas"
   ]
  },
  {
   "cell_type": "code",
   "execution_count": null,
   "metadata": {},
   "outputs": [],
   "source": [
    "# definindo os dados\n",
    "x_gsw = gsw['normal_log_salary']\n",
    "# calculando a média \n",
    "mu_gsw = np.mean(x_gsw)\n",
    "# calculando o desvio=padrão (utilizando o padrão para o Python)\n",
    "std_gsw = np.std(x_gsw)\n",
    "mu_gsw,std_gsw"
   ]
  },
  {
   "cell_type": "code",
   "execution_count": null,
   "metadata": {},
   "outputs": [],
   "source": [
    "# p-value para distribuição normal\n",
    "scipy.stats.norm(mu_gsw, std_gsw).pdf(2*std_gsw)"
   ]
  },
  {
   "cell_type": "code",
   "execution_count": null,
   "metadata": {},
   "outputs": [],
   "source": [
    "# z-score para distribuição normal\n",
    "scipy.stats.norm.interval(alpha=0.95,loc=mu_gsw,scale=std_gsw)"
   ]
  },
  {
   "attachments": {
    "1b2db573-682f-4e86-8c79-f1596b35f3fa.PNG": {
     "image/png": "[encoded data removed]"
    }
   },
   "cell_type": "markdown",
   "metadata": {},
   "source": [
    "![test_stats.PNG](attachment:1b2db573-682f-4e86-8c79-f1596b35f3fa.PNG)"
   ]
  },
  {
   "cell_type": "markdown",
   "metadata": {},
   "source": [
    "## Buscando jogadores com salários acima ou abaixo da média"
   ]
  },
  {
   "cell_type": "markdown",
   "metadata": {},
   "source": [
    "### Aplicando o taste estatístico t-student"
   ]
  },
  {
   "cell_type": "code",
   "execution_count": null,
   "metadata": {},
   "outputs": [],
   "source": [
    "# Utilizando a estatística t-student\n",
    "scipy.stats.t.interval(alpha=0.95,\n",
    "                       df=(len(gsw['normal_log_salary'])-1),\n",
    "                       loc=mu_gsw,scale=std_gsw\n",
    "                      ) # df=Degrees of Freedom"
   ]
  },
  {
   "cell_type": "markdown",
   "metadata": {},
   "source": [
    "O valor de t-Statistic para uma disteibuição com 16 observações (ou 15 graus de liberdade) é 2,131\n",
    "\n",
    "<br>\n",
    "<img src=\"img/t-Statistic.png\" />\n",
    "<br>"
   ]
  },
  {
   "cell_type": "markdown",
   "metadata": {},
   "source": [
    "### Buscando jogadores com salário abaixo da média"
   ]
  },
  {
   "cell_type": "code",
   "execution_count": null,
   "metadata": {},
   "outputs": [],
   "source": [
    "# definind o limite inferior\n",
    "t_Statistic_inf_gsw = scipy.stats.t.interval(alpha=0.95,\n",
    "                                         df=(len(gsw['normal_log_salary'])-1),\n",
    "                                         loc=mu_gsw,scale=std_gsw\n",
    "                                        )[0]\n",
    "t_Statistic_inf_gsw"
   ]
  },
  {
   "cell_type": "code",
   "execution_count": null,
   "metadata": {},
   "outputs": [],
   "source": [
    "# fazendo a inferência para o limite inferior com o teste t de 2,06\n",
    "gsw[gsw['normal_log_salary']<t_Statistic_inf_gsw]"
   ]
  },
  {
   "cell_type": "code",
   "execution_count": null,
   "metadata": {},
   "outputs": [],
   "source": [
    "# fazendo a inferência para o limite inferior com o z-Score de -1.89\n",
    "gsw[gsw['normal_log_salary']<-1.89]"
   ]
  },
  {
   "cell_type": "markdown",
   "metadata": {},
   "source": [
    "não existem jogadores com salário abaixo da média\n",
    "\n",
    "### Buscando jogadores com salário acima da média\n"
   ]
  },
  {
   "cell_type": "code",
   "execution_count": null,
   "metadata": {},
   "outputs": [],
   "source": [
    "# definindo o limite superior\n",
    "t_Statistic_sup_gsw = scipy.stats.t.interval(alpha=0.95,\n",
    "                                         df=(len(gsw['normal_log_salary'])-1),\n",
    "                                         loc=mu_gsw,scale=std_gsw\n",
    "                                        )[1]\n",
    "t_Statistic_sup_gsw"
   ]
  },
  {
   "cell_type": "code",
   "execution_count": null,
   "metadata": {},
   "outputs": [],
   "source": [
    "# fazendo a inferência para o limite superior com o teste t\n",
    "gsw[gsw['normal_log_salary']>t_Statistic_sup_gsw]"
   ]
  },
  {
   "cell_type": "code",
   "execution_count": null,
   "metadata": {},
   "outputs": [],
   "source": [
    "# fazendo a inferência para o limite superior com 1.89\n",
    "gsw[gsw['normal_log_salary']>1.89]"
   ]
  },
  {
   "cell_type": "markdown",
   "metadata": {},
   "source": [
    "Podemos concluir no GSW (Gosden State Warriors) não temos nenhum jogador nem acima nem abaixo da média."
   ]
  },
  {
   "cell_type": "markdown",
   "metadata": {},
   "source": [
    "### Testando a estatística para o valor máximo"
   ]
  },
  {
   "cell_type": "code",
   "execution_count": null,
   "metadata": {},
   "outputs": [],
   "source": [
    "# calculando o valor máximo do noral_log_salary\n",
    "gsw['normal_log_salary'].max()"
   ]
  },
  {
   "cell_type": "code",
   "execution_count": null,
   "metadata": {},
   "outputs": [],
   "source": [
    "# calculando o nível de confiança para o maior salário\n",
    "alpha_max = 1-scipy.stats.t.sf(x=gsw['normal_log_salary'].max(), df=gsw['normal_log_salary'], loc=mu_gsw, scale=std_gsw)[0]\n",
    "alpha_max"
   ]
  },
  {
   "cell_type": "markdown",
   "metadata": {},
   "source": [
    "# t-test para médias de duas séries \n",
    "\n",
    "Vamos fazer a inferência estatística entre dois times da NBA para entender se o salário médio dos jogadores é superior ou inferior, utilizando o t-test para médias de duas séries do Scipy Stats."
   ]
  },
  {
   "cell_type": "code",
   "execution_count": null,
   "metadata": {},
   "outputs": [],
   "source": [
    "# verificando os dados do DataFrame\n",
    "df"
   ]
  },
  {
   "cell_type": "code",
   "execution_count": null,
   "metadata": {},
   "outputs": [],
   "source": [
    "# verificando os salários do Golden State Warriors\n",
    "df.normal_log_salary[df.team == 'GSW']"
   ]
  },
  {
   "cell_type": "markdown",
   "metadata": {},
   "source": [
    "### Aplicando o teste para duas médias do ScipyStats (utilizando o t-Statistic)\n",
    "\n",
    "### 1. Comparando GSW e NOP"
   ]
  },
  {
   "cell_type": "code",
   "execution_count": null,
   "metadata": {},
   "outputs": [],
   "source": [
    "# aplicando o t-test para médias de duas séries entre GSW e NOP\n",
    "stats.ttest_ind(a=df.normal_log_salary[df.team == 'GSW'],\n",
    "                b=df.normal_log_salary[df.team == 'NOP'], \n",
    "                equal_var = False)"
   ]
  },
  {
   "cell_type": "code",
   "execution_count": null,
   "metadata": {},
   "outputs": [],
   "source": [
    "# aplicando o t-test para médias de duas séries entre GSW e NOP\n",
    "# considerando variâncias iguais\n",
    "stats.ttest_ind(a=df.normal_log_salary[df.team == 'GSW'],\n",
    "                b=df.normal_log_salary[df.team == 'NOP'], \n",
    "                equal_var = True)"
   ]
  },
  {
   "cell_type": "markdown",
   "metadata": {},
   "source": [
    "Com as variâncias iguais, o teste muda de resultado, dando médias de salário estatisticamente equivalentes. Será que as variâncias são iguais? (afinal ttrasa-se de duas sérias de salários de jogadores diferentes)"
   ]
  },
  {
   "cell_type": "code",
   "execution_count": null,
   "metadata": {},
   "outputs": [],
   "source": [
    "df.normal_log_salary[df.team == 'GSW'].std(), df.normal_log_salary[df.team == 'NOP'].std()"
   ]
  },
  {
   "cell_type": "markdown",
   "metadata": {},
   "source": [
    "As variâncias são diferentes, portanto ficamos com o primero resultado."
   ]
  },
  {
   "cell_type": "markdown",
   "metadata": {},
   "source": [
    "**Para um p-value menor que 0.05, as médias das duas séries são estatísticamente diferentes! Isto significa que o time GSW tem média de salários estatisticamente superior à media de salários do time NOP, com 95% de confiança.**"
   ]
  },
  {
   "cell_type": "code",
   "execution_count": null,
   "metadata": {},
   "outputs": [],
   "source": [
    "# definindo os cenários para comparar\n",
    "a = df.normal_log_salary[df.team == 'GSW']\n",
    "b = df.normal_log_salary[df.team == 'NOP'] \n",
    "\n",
    "# definindo a figura para o gráfico\n",
    "fig, ax = plt.subplots(1, 1,figsize=(10,7))\n",
    "\n",
    "# fazendo uma função para plotar as distribuições para os 2 times\n",
    "ax.plot(a, stats.t.pdf(a, 1, a.mean()),label=a)\n",
    "ax.plot(b, stats.t.pdf(b, 1, b.mean()),label=b)\n"
   ]
  },
  {
   "cell_type": "markdown",
   "metadata": {},
   "source": [
    "### 2. Comparando o GSW e o CHI"
   ]
  },
  {
   "cell_type": "code",
   "execution_count": null,
   "metadata": {},
   "outputs": [],
   "source": [
    "# aplicando o t-test para médias de duas séries entre GSW e CHI\n",
    "stats.ttest_ind(a=df.normal_log_salary[df.team == 'GSW'],\n",
    "                b=df.normal_log_salary[df.team == 'CHI'], \n",
    "                equal_var = False)"
   ]
  },
  {
   "cell_type": "markdown",
   "metadata": {},
   "source": [
    "**Para um p-values maior que 0.05, as médias das duas séries são estatísticamente iguais! Isto significa que o time GSW tem média de salários estatisticamente equivalentes à media de salários do time CHI, com 95% de confiança.**"
   ]
  },
  {
   "cell_type": "markdown",
   "metadata": {},
   "source": [
    "## t-test entre o GSW e todos os times\n",
    "\n",
    "Segundo o teste t para média de duas séries, podemos concluir que o salário médio dos times DAL, ATL, HOU, LAL e NOP são estatísticamente inferiores aos salário mério dos jogadores do GSW, com 95% de grau de confiança."
   ]
  },
  {
   "cell_type": "code",
   "execution_count": null,
   "metadata": {},
   "outputs": [],
   "source": [
    "# aplicando o t-test para médias de duas séries entre GSW e todos os times\n",
    "\n",
    "team = []\n",
    "pvalues = []\n",
    "for i in df.team.unique():\n",
    "    team_tstats = stats.ttest_ind(a=df.normal_log_salary[df.team == 'GSW'],\n",
    "                                  b=df.normal_log_salary[df.team == i], \n",
    "                                  equal_var = False)\n",
    "    team.append(i)\n",
    "    pvalues.append(team_tstats[1])\n",
    "    \n",
    "# colocando os valores em um DataFrame e listando\n",
    "inference=pd.DataFrame(list(zip(team,pvalues)),columns=['team', 'pvalues'])\n",
    "inference.sort_values(by=['pvalues'],ascending=False)"
   ]
  },
  {
   "cell_type": "markdown",
   "metadata": {},
   "source": [
    "# Pingouin"
   ]
  },
  {
   "attachments": {
    "44b81175-18b9-4e9b-a059-29c5ff70dd7d.PNG": {
     "image/png": "[encoded data removed]"
    }
   },
   "cell_type": "markdown",
   "metadata": {},
   "source": [
    "![pingoiun.PNG](attachment:44b81175-18b9-4e9b-a059-29c5ff70dd7d.PNG)"
   ]
  },
  {
   "cell_type": "code",
   "execution_count": null,
   "metadata": {},
   "outputs": [],
   "source": [
    "#!pip install pingouin\n",
    "#conda install -c conda-forge pingouin"
   ]
  },
  {
   "cell_type": "code",
   "execution_count": null,
   "metadata": {},
   "outputs": [],
   "source": [
    "import pingouin as pg"
   ]
  },
  {
   "cell_type": "markdown",
   "metadata": {},
   "source": [
    "## Teste Game-showell"
   ]
  },
  {
   "cell_type": "code",
   "execution_count": null,
   "metadata": {},
   "outputs": [],
   "source": [
    "df.salary.mean()"
   ]
  },
  {
   "cell_type": "code",
   "execution_count": null,
   "metadata": {},
   "outputs": [],
   "source": [
    "df.groupby(['team']).agg({'salary':'mean'})"
   ]
  },
  {
   "cell_type": "code",
   "execution_count": null,
   "metadata": {},
   "outputs": [],
   "source": [
    "df.groupby(['team']).agg({'salary':'var'})"
   ]
  },
  {
   "cell_type": "markdown",
   "metadata": {},
   "source": [
    "## Teste Game Showell para variâncias diferentes"
   ]
  },
  {
   "cell_type": "code",
   "execution_count": null,
   "metadata": {},
   "outputs": [],
   "source": [
    "pg.pairwise_gameshowell(data=df, dv='salary',\n",
    "                        between='team').round(3)"
   ]
  },
  {
   "cell_type": "markdown",
   "metadata": {},
   "source": [
    "## Teste Tukey para variâncias iguais"
   ]
  },
  {
   "cell_type": "code",
   "execution_count": null,
   "metadata": {},
   "outputs": [],
   "source": [
    "pg.pairwise_tukey(data=df, dv='salary',\n",
    "                        between='team').round(3)"
   ]
  },
  {
   "cell_type": "markdown",
   "metadata": {},
   "source": [
    "# Teste F"
   ]
  },
  {
   "cell_type": "code",
   "execution_count": null,
   "metadata": {},
   "outputs": [],
   "source": [
    "# definindo a figura para o gráfico\n",
    "fig, ax = plt.subplots(1, 1,figsize=(30,20))\n",
    "\n",
    "# fezendo uma função para plotar a disbribuições para todos os times\n",
    "for i in df.team.unique():\n",
    "    x = df[df.team == i]['log_salary']\n",
    "    mu = df[df.team == i]['log_salary'].mean()\n",
    "    sigma = df[df.team == i]['log_salary'].std()\n",
    "    ax.plot(x, stats.norm.pdf(x, mu, sigma),label=i)\n",
    "# plotando as legendas\n",
    "ax.legend(loc='best', frameon=False,fontsize = 20)"
   ]
  },
  {
   "cell_type": "code",
   "execution_count": null,
   "metadata": {},
   "outputs": [],
   "source": [
    "pg.anova(dv='salary', between='team', data=df,\n",
    "               detailed=True)"
   ]
  },
  {
   "cell_type": "markdown",
   "metadata": {},
   "source": [
    "# Estratégia de definição dos salários da NBA\n",
    "\n",
    "O teto salarial da NBA é o limite para a quantia total que as equipes da Associação Nacional de Basquete podem pagar a seus jogadores. Como muitas ligas esportivas profissionais, a NBA tem um teto salarial para controlar os custos e beneficiar a paridade, definida pelo acordo coletivo da liga (CBA). Esse limite está sujeito a um complexo sistema de regras e exceções e é calculado como uma porcentagem da receita da liga em relação à temporada anterior. De acordo com a CBA ratificada em dezembro de 2011, o teto continuará a variar nas temporadas futuras com base nas receitas da liga. Para a temporada 2015-2016, o teto salarial foi de USD 70 milhões e o limite de imposto de luxo foi de USD 84,74 milhões. Para a temporada 2016–17, o teto salarial foi estabelecido em USD 94,14 milhões e o limite de imposto de luxo foi de USD 113,29 milhões. Para a temporada de 2017–18, o limite é estabelecido em USD 99 milhões para o teto salarial e USD 119 milhões para o imposto de luxo.\n",
    "\n",
    "A maioria das ligas (NFL, NHL, MLS) tem capas rígidas, enquanto a NBA tem um teto salarial suave. Regras salariais duras proíbem que as equipes superem o teto salarial. Os tetos salariais suaves permitem que as equipes ultrapassem o teto salarial, mas sujeitarão essas equipes a privilégios reduzidos na livre agência. As equipes que estão acima do teto de imposto de luxo estão sujeitas ao imposto de luxo (um imposto sobre cada dólar gasto acima do teto de imposto de luxo).\n",
    "\n",
    "Para saber mais [clique aqui](https://en.wikipedia.org/wiki/NBA_salary_cap)"
   ]
  },
  {
   "cell_type": "markdown",
   "metadata": {},
   "source": [
    "# Acordo de Negociação Coletiva da NBA\n",
    "\n",
    "O Acordo de Negociação Coletiva da NBA (CBA) é o contrato entre a NBA (o comissário e os 30 proprietários da equipe) e a Associação de Jogadores da NBA que dita as regras dos contratos com jogadores, negociações, distribuição de receita, o Draft da NBA e o teto salarial. entre outras coisas. Em junho de 2005, a CBA da NBA de 1999 expirou, o que significa que a Liga e o sindicato dos jogadores tiveram que negociar um novo acordo; À luz do bloqueio da NHL em 2004-05, os dois lados rapidamente chegaram a um acordo e ratificaram uma nova ACB em julho de 2005. Esse acordo expirou após a temporada 2010-2011, levando ao bloqueio da NBA de 2011. Um novo CBA foi ratificado em dezembro de 2011, encerrando o bloqueio.\n",
    "\n",
    "Pouco mudou em termos do teto salarial entre as versões de 1999 e 2005 da CBA. Em troca de concordar com a controversa idade mínima do jogador, os jogadores receberam uma porcentagem ligeiramente maior das receitas da Liga ao longo do novo acordo. Além disso, o salário máximo da Liga diminuiu ligeiramente em comparação com o CBA de 1999. Sob o CBA de 2011, os jogadores receberão uma porcentagem menor das receitas da liga.\n",
    "\n",
    "Em 2005, os jogadores receberam 57% da receita e, a partir da nova CBA, estão recebendo cerca de 49% a 50% da receita. Naquela época, a próxima discussão da CBA foi definida por dez anos. ou, se necessário, em 2017. [2] Em 2016, a NBA e a NBA Players Association se reuniram para trabalhar em um novo CBA, que ambos os lados aprovaram em dezembro daquele ano. Este acordo mais recente começará com a temporada 2017-2018 e será executado entre 2023 e 2424, com um cancelamento mútuo após 2022-23.\n",
    "\n",
    "Para saber mais [clique aqui](https://en.wikipedia.org/wiki/NBA_Collective_Bargaining_Agreement)"
   ]
  },
  {
   "cell_type": "code",
   "execution_count": null,
   "metadata": {},
   "outputs": [],
   "source": [
    "from IPython.display import HTML\n",
    "\n",
    "HTML('<iframe width=\"640\" height=\"360\" src=\"https://www.youtube.com/embed/WaYAhkH2cJM\" frameborder=\"0\" allow=\"accelerometer; autoplay; encrypted-media; gyroscope; picture-in-picture\" allowfullscreen></iframe>')"
   ]
  },
  {
   "cell_type": "code",
   "execution_count": null,
   "metadata": {},
   "outputs": [],
   "source": []
  }
 ],
 "metadata": {
  "kernelspec": {
   "display_name": "Python 3",
   "language": "python",
   "name": "python3"
  },
  "language_info": {
   "codemirror_mode": {
    "name": "ipython",
    "version": 3
   },
   "file_extension": ".py",
   "mimetype": "text/x-python",
   "name": "python",
   "nbconvert_exporter": "python",
   "pygments_lexer": "ipython3",
   "version": "3.8.8"
  },
  "latex_envs": {
   "LaTeX_envs_menu_present": true,
   "autoclose": false,
   "autocomplete": true,
   "bibliofile": "biblio.bib",
   "cite_by": "apalike",
   "current_citInitial": 1,
   "eqLabelWithNumbers": true,
   "eqNumInitial": 1,
   "hotkeys": {
    "equation": "Ctrl-E",
    "itemize": "Ctrl-I"
   },
   "labels_anchors": false,
   "latex_user_defs": false,
   "report_style_numbering": false,
   "user_envs_cfg": false
  },
  "toc": {
   "base_numbering": 1,
   "nav_menu": {},
   "number_sections": true,
   "sideBar": true,
   "skip_h1_title": false,
   "title_cell": "Table of Contents",
   "title_sidebar": "Contents",
   "toc_cell": false,
   "toc_position": {},
   "toc_section_display": true,
   "toc_window_display": false
  },
  "varInspector": {
   "cols": {
    "lenName": 16,
    "lenType": 16,
    "lenVar": 40
   },
   "kernels_config": {
    "python": {
     "delete_cmd_postfix": "",
     "delete_cmd_prefix": "del ",
     "library": "var_list.py",
     "varRefreshCmd": "print(var_dic_list())"
    },
    "r": {
     "delete_cmd_postfix": ") ",
     "delete_cmd_prefix": "rm(",
     "library": "var_list.r",
     "varRefreshCmd": "cat(var_dic_list()) "
    }
   },
   "types_to_exclude": [
    "module",
    "function",
    "builtin_function_or_method",
    "instance",
    "_Feature"
   ],
   "window_display": false
  }
 },
 "nbformat": 4,
 "nbformat_minor": 4
}
